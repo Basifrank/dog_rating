{
 "cells": [
  {
   "cell_type": "markdown",
   "metadata": {
    "extensions": {
     "jupyter_dashboards": {
      "version": 1,
      "views": {
       "grid_default": {
        "col": 0,
        "height": 4,
        "hidden": false,
        "row": 0,
        "width": 4
       },
       "report_default": {
        "hidden": false
       }
      }
     }
    }
   },
   "source": [
    "# Project: Wrangling and Analyze Data"
   ]
  },
  {
   "cell_type": "code",
   "execution_count": 2,
   "metadata": {},
   "outputs": [],
   "source": [
    "#Importing relevant libraries\n",
    "\n",
    "import pandas as pd\n",
    "import requests\n",
    "import json\n",
    "import wordcloud\n",
    "import numpy as np\n",
    "import matplotlib.pyplot as plt\n",
    "import seaborn as sns\n",
    "%matplotlib inline\n",
    "\n"
   ]
  },
  {
   "cell_type": "code",
   "execution_count": 3,
   "metadata": {},
   "outputs": [],
   "source": [
    "from PIL import Image\n",
    "from wordcloud import WordCloud, STOPWORDS, ImageColorGenerator"
   ]
  },
  {
   "cell_type": "markdown",
   "metadata": {},
   "source": [
    "## Data Gathering\n",
    "\n",
    "1. Directly download the WeRateDogs Twitter archive data (twitter_archive_enhanced.csv)"
   ]
  },
  {
   "cell_type": "code",
   "execution_count": 4,
   "metadata": {
    "extensions": {
     "jupyter_dashboards": {
      "version": 1,
      "views": {
       "grid_default": {
        "hidden": true
       },
       "report_default": {
        "hidden": true
       }
      }
     }
    }
   },
   "outputs": [],
   "source": [
    "#Reading downloaded twitter archive file.\n",
    "\n",
    "twitter_df = pd.read_csv('twitter-archive-enhanced-2.csv')"
   ]
  },
  {
   "cell_type": "markdown",
   "metadata": {},
   "source": [
    "2. Use the Requests library to download the tweet image prediction (image_predictions.tsv)"
   ]
  },
  {
   "cell_type": "code",
   "execution_count": null,
   "metadata": {},
   "outputs": [],
   "source": [
    "#Downloading image file programmatically\n",
    "\n",
    "\n",
    "url = 'https://d17h27t6h515a5.cloudfront.net/topher/2017/August/599fd2ad_image-predictions/image-predictions.tsv'\n",
    "response = requests.get(url)\n",
    "\n",
    "# Save HTML to file\n",
    "\n",
    "with open(\"image-predictions.tsv\", mode='wb') as file:\n",
    "    file.write(response.content)"
   ]
  },
  {
   "cell_type": "code",
   "execution_count": 5,
   "metadata": {},
   "outputs": [],
   "source": [
    "# Reading saved TSV flat file\n",
    "image_df = pd.read_csv('image-predictions.tsv', sep='\\t')"
   ]
  },
  {
   "cell_type": "code",
   "execution_count": null,
   "metadata": {},
   "outputs": [],
   "source": []
  },
  {
   "cell_type": "markdown",
   "metadata": {},
   "source": [
    "3. Use the Tweepy library to query additional data via the Twitter API (tweet_json.txt)"
   ]
  },
  {
   "cell_type": "code",
   "execution_count": 6,
   "metadata": {},
   "outputs": [],
   "source": [
    "#Reading Twitter JSON File.  Unable to get twitter developer access\n",
    "\n",
    "tweet_list = []\n",
    "\n",
    "with open ('tweet-json.txt', 'r', encoding = 'utf-8') as jsfile:\n",
    "    for line in jsfile:\n",
    "        tweet_lines = json.loads(line)\n",
    "        tweetID = tweet_lines['id']\n",
    "        retweet_count = tweet_lines['retweet_count']\n",
    "        friends_count = tweet_lines['user']['friends_count']\n",
    "        fav_count = tweet_lines['favorite_count']\n",
    "        followers_count = tweet_lines['user']['followers_count']\n",
    "        listed_count = tweet_lines['user']['listed_count']\n",
    "        \n",
    "        \n",
    "        tweet_list.append({ 'tweet_id': tweetID,\n",
    "                            'retweet_count': retweet_count,\n",
    "                            'friends_count': friends_count,\n",
    "                            'favorite_count': fav_count,\n",
    "                            'followers_count': followers_count,\n",
    "                            'listed_count': listed_count })\n",
    "    \n",
    "\n",
    "\n",
    "\n",
    "\n"
   ]
  },
  {
   "cell_type": "code",
   "execution_count": 7,
   "metadata": {},
   "outputs": [],
   "source": [
    "#Converting tweet list of dictionary to table\n",
    "\n",
    "tweet_json_data = pd.DataFrame(tweet_list, columns=['tweet_id','retweet_count','friends_count', 'favorite_count', 'followers_count', 'listed_count'])"
   ]
  },
  {
   "cell_type": "code",
   "execution_count": 8,
   "metadata": {},
   "outputs": [],
   "source": [
    "#making copies of gathered data\n",
    "\n",
    "twitter_archive_data = twitter_df.copy()\n",
    "image_data = image_df.copy()\n",
    "Json_data = tweet_json_data.copy()\n",
    "\n"
   ]
  },
  {
   "cell_type": "code",
   "execution_count": null,
   "metadata": {},
   "outputs": [],
   "source": []
  },
  {
   "cell_type": "code",
   "execution_count": null,
   "metadata": {},
   "outputs": [],
   "source": [
    " "
   ]
  },
  {
   "cell_type": "code",
   "execution_count": null,
   "metadata": {},
   "outputs": [],
   "source": [
    " \n"
   ]
  },
  {
   "cell_type": "code",
   "execution_count": null,
   "metadata": {},
   "outputs": [],
   "source": [
    " "
   ]
  },
  {
   "cell_type": "markdown",
   "metadata": {},
   "source": [
    "result = pd.concat(frames)    892420643555336000 891327558926688000\n",
    "892420643555336193 891327558926688 891087950875897\n",
    "                   891327558926688256"
   ]
  },
  {
   "cell_type": "code",
   "execution_count": null,
   "metadata": {},
   "outputs": [],
   "source": []
  },
  {
   "cell_type": "code",
   "execution_count": null,
   "metadata": {},
   "outputs": [],
   "source": [
    " "
   ]
  },
  {
   "cell_type": "markdown",
   "metadata": {
    "extensions": {
     "jupyter_dashboards": {
      "version": 1,
      "views": {
       "grid_default": {
        "col": 4,
        "height": 4,
        "hidden": false,
        "row": 28,
        "width": 4
       },
       "report_default": {
        "hidden": false
       }
      }
     }
    }
   },
   "source": [
    "## Assessing Data\n"
   ]
  },
  {
   "cell_type": "markdown",
   "metadata": {},
   "source": [
    "#### Visual Assessment"
   ]
  },
  {
   "cell_type": "code",
   "execution_count": 9,
   "metadata": {},
   "outputs": [
    {
     "data": {
      "text/html": [
       "<div>\n",
       "<style scoped>\n",
       "    .dataframe tbody tr th:only-of-type {\n",
       "        vertical-align: middle;\n",
       "    }\n",
       "\n",
       "    .dataframe tbody tr th {\n",
       "        vertical-align: top;\n",
       "    }\n",
       "\n",
       "    .dataframe thead th {\n",
       "        text-align: right;\n",
       "    }\n",
       "</style>\n",
       "<table border=\"1\" class=\"dataframe\">\n",
       "  <thead>\n",
       "    <tr style=\"text-align: right;\">\n",
       "      <th></th>\n",
       "      <th>tweet_id</th>\n",
       "      <th>in_reply_to_status_id</th>\n",
       "      <th>in_reply_to_user_id</th>\n",
       "      <th>timestamp</th>\n",
       "      <th>source</th>\n",
       "      <th>text</th>\n",
       "      <th>retweeted_status_id</th>\n",
       "      <th>retweeted_status_user_id</th>\n",
       "      <th>retweeted_status_timestamp</th>\n",
       "      <th>expanded_urls</th>\n",
       "      <th>rating_numerator</th>\n",
       "      <th>rating_denominator</th>\n",
       "      <th>name</th>\n",
       "      <th>doggo</th>\n",
       "      <th>floofer</th>\n",
       "      <th>pupper</th>\n",
       "      <th>puppo</th>\n",
       "    </tr>\n",
       "  </thead>\n",
       "  <tbody>\n",
       "    <tr>\n",
       "      <th>0</th>\n",
       "      <td>892420643555336000</td>\n",
       "      <td>NaN</td>\n",
       "      <td>NaN</td>\n",
       "      <td>2017-08-01 16:23:56 +0000</td>\n",
       "      <td>&lt;a href=\"http://twitter.com/download/iphone\" r...</td>\n",
       "      <td>This is Phineas. He's a mystical boy. Only eve...</td>\n",
       "      <td>NaN</td>\n",
       "      <td>NaN</td>\n",
       "      <td>NaN</td>\n",
       "      <td>https://twitter.com/dog_rates/status/892420643...</td>\n",
       "      <td>13</td>\n",
       "      <td>10</td>\n",
       "      <td>Phineas</td>\n",
       "      <td>None</td>\n",
       "      <td>None</td>\n",
       "      <td>None</td>\n",
       "      <td>None</td>\n",
       "    </tr>\n",
       "    <tr>\n",
       "      <th>1</th>\n",
       "      <td>892177421306343000</td>\n",
       "      <td>NaN</td>\n",
       "      <td>NaN</td>\n",
       "      <td>2017-08-01 00:17:27 +0000</td>\n",
       "      <td>&lt;a href=\"http://twitter.com/download/iphone\" r...</td>\n",
       "      <td>This is Tilly. She's just checking pup on you....</td>\n",
       "      <td>NaN</td>\n",
       "      <td>NaN</td>\n",
       "      <td>NaN</td>\n",
       "      <td>https://twitter.com/dog_rates/status/892177421...</td>\n",
       "      <td>13</td>\n",
       "      <td>10</td>\n",
       "      <td>Tilly</td>\n",
       "      <td>None</td>\n",
       "      <td>None</td>\n",
       "      <td>None</td>\n",
       "      <td>None</td>\n",
       "    </tr>\n",
       "    <tr>\n",
       "      <th>2</th>\n",
       "      <td>891815181378084000</td>\n",
       "      <td>NaN</td>\n",
       "      <td>NaN</td>\n",
       "      <td>2017-07-31 00:18:03 +0000</td>\n",
       "      <td>&lt;a href=\"http://twitter.com/download/iphone\" r...</td>\n",
       "      <td>This is Archie. He is a rare Norwegian Pouncin...</td>\n",
       "      <td>NaN</td>\n",
       "      <td>NaN</td>\n",
       "      <td>NaN</td>\n",
       "      <td>https://twitter.com/dog_rates/status/891815181...</td>\n",
       "      <td>12</td>\n",
       "      <td>10</td>\n",
       "      <td>Archie</td>\n",
       "      <td>None</td>\n",
       "      <td>None</td>\n",
       "      <td>None</td>\n",
       "      <td>None</td>\n",
       "    </tr>\n",
       "    <tr>\n",
       "      <th>3</th>\n",
       "      <td>891689557279858000</td>\n",
       "      <td>NaN</td>\n",
       "      <td>NaN</td>\n",
       "      <td>2017-07-30 15:58:51 +0000</td>\n",
       "      <td>&lt;a href=\"http://twitter.com/download/iphone\" r...</td>\n",
       "      <td>This is Darla. She commenced a snooze mid meal...</td>\n",
       "      <td>NaN</td>\n",
       "      <td>NaN</td>\n",
       "      <td>NaN</td>\n",
       "      <td>https://twitter.com/dog_rates/status/891689557...</td>\n",
       "      <td>13</td>\n",
       "      <td>10</td>\n",
       "      <td>Darla</td>\n",
       "      <td>None</td>\n",
       "      <td>None</td>\n",
       "      <td>None</td>\n",
       "      <td>None</td>\n",
       "    </tr>\n",
       "    <tr>\n",
       "      <th>4</th>\n",
       "      <td>891327558926688000</td>\n",
       "      <td>NaN</td>\n",
       "      <td>NaN</td>\n",
       "      <td>2017-07-29 16:00:24 +0000</td>\n",
       "      <td>&lt;a href=\"http://twitter.com/download/iphone\" r...</td>\n",
       "      <td>This is Franklin. He would like you to stop ca...</td>\n",
       "      <td>NaN</td>\n",
       "      <td>NaN</td>\n",
       "      <td>NaN</td>\n",
       "      <td>https://twitter.com/dog_rates/status/891327558...</td>\n",
       "      <td>12</td>\n",
       "      <td>10</td>\n",
       "      <td>Franklin</td>\n",
       "      <td>None</td>\n",
       "      <td>None</td>\n",
       "      <td>None</td>\n",
       "      <td>None</td>\n",
       "    </tr>\n",
       "    <tr>\n",
       "      <th>...</th>\n",
       "      <td>...</td>\n",
       "      <td>...</td>\n",
       "      <td>...</td>\n",
       "      <td>...</td>\n",
       "      <td>...</td>\n",
       "      <td>...</td>\n",
       "      <td>...</td>\n",
       "      <td>...</td>\n",
       "      <td>...</td>\n",
       "      <td>...</td>\n",
       "      <td>...</td>\n",
       "      <td>...</td>\n",
       "      <td>...</td>\n",
       "      <td>...</td>\n",
       "      <td>...</td>\n",
       "      <td>...</td>\n",
       "      <td>...</td>\n",
       "    </tr>\n",
       "    <tr>\n",
       "      <th>2351</th>\n",
       "      <td>666049248165822000</td>\n",
       "      <td>NaN</td>\n",
       "      <td>NaN</td>\n",
       "      <td>2015-11-16 00:24:50 +0000</td>\n",
       "      <td>&lt;a href=\"http://twitter.com/download/iphone\" r...</td>\n",
       "      <td>Here we have a 1949 1st generation vulpix. Enj...</td>\n",
       "      <td>NaN</td>\n",
       "      <td>NaN</td>\n",
       "      <td>NaN</td>\n",
       "      <td>https://twitter.com/dog_rates/status/666049248...</td>\n",
       "      <td>5</td>\n",
       "      <td>10</td>\n",
       "      <td>None</td>\n",
       "      <td>None</td>\n",
       "      <td>None</td>\n",
       "      <td>None</td>\n",
       "      <td>None</td>\n",
       "    </tr>\n",
       "    <tr>\n",
       "      <th>2352</th>\n",
       "      <td>666044226329800000</td>\n",
       "      <td>NaN</td>\n",
       "      <td>NaN</td>\n",
       "      <td>2015-11-16 00:04:52 +0000</td>\n",
       "      <td>&lt;a href=\"http://twitter.com/download/iphone\" r...</td>\n",
       "      <td>This is a purebred Piers Morgan. Loves to Netf...</td>\n",
       "      <td>NaN</td>\n",
       "      <td>NaN</td>\n",
       "      <td>NaN</td>\n",
       "      <td>https://twitter.com/dog_rates/status/666044226...</td>\n",
       "      <td>6</td>\n",
       "      <td>10</td>\n",
       "      <td>a</td>\n",
       "      <td>None</td>\n",
       "      <td>None</td>\n",
       "      <td>None</td>\n",
       "      <td>None</td>\n",
       "    </tr>\n",
       "    <tr>\n",
       "      <th>2353</th>\n",
       "      <td>666033412701032000</td>\n",
       "      <td>NaN</td>\n",
       "      <td>NaN</td>\n",
       "      <td>2015-11-15 23:21:54 +0000</td>\n",
       "      <td>&lt;a href=\"http://twitter.com/download/iphone\" r...</td>\n",
       "      <td>Here is a very happy pup. Big fan of well-main...</td>\n",
       "      <td>NaN</td>\n",
       "      <td>NaN</td>\n",
       "      <td>NaN</td>\n",
       "      <td>https://twitter.com/dog_rates/status/666033412...</td>\n",
       "      <td>9</td>\n",
       "      <td>10</td>\n",
       "      <td>a</td>\n",
       "      <td>None</td>\n",
       "      <td>None</td>\n",
       "      <td>None</td>\n",
       "      <td>None</td>\n",
       "    </tr>\n",
       "    <tr>\n",
       "      <th>2354</th>\n",
       "      <td>666029285002620000</td>\n",
       "      <td>NaN</td>\n",
       "      <td>NaN</td>\n",
       "      <td>2015-11-15 23:05:30 +0000</td>\n",
       "      <td>&lt;a href=\"http://twitter.com/download/iphone\" r...</td>\n",
       "      <td>This is a western brown Mitsubishi terrier. Up...</td>\n",
       "      <td>NaN</td>\n",
       "      <td>NaN</td>\n",
       "      <td>NaN</td>\n",
       "      <td>https://twitter.com/dog_rates/status/666029285...</td>\n",
       "      <td>7</td>\n",
       "      <td>10</td>\n",
       "      <td>a</td>\n",
       "      <td>None</td>\n",
       "      <td>None</td>\n",
       "      <td>None</td>\n",
       "      <td>None</td>\n",
       "    </tr>\n",
       "    <tr>\n",
       "      <th>2355</th>\n",
       "      <td>666020888022790000</td>\n",
       "      <td>NaN</td>\n",
       "      <td>NaN</td>\n",
       "      <td>2015-11-15 22:32:08 +0000</td>\n",
       "      <td>&lt;a href=\"http://twitter.com/download/iphone\" r...</td>\n",
       "      <td>Here we have a Japanese Irish Setter. Lost eye...</td>\n",
       "      <td>NaN</td>\n",
       "      <td>NaN</td>\n",
       "      <td>NaN</td>\n",
       "      <td>https://twitter.com/dog_rates/status/666020888...</td>\n",
       "      <td>8</td>\n",
       "      <td>10</td>\n",
       "      <td>None</td>\n",
       "      <td>None</td>\n",
       "      <td>None</td>\n",
       "      <td>None</td>\n",
       "      <td>None</td>\n",
       "    </tr>\n",
       "  </tbody>\n",
       "</table>\n",
       "<p>2356 rows × 17 columns</p>\n",
       "</div>"
      ],
      "text/plain": [
       "                tweet_id  in_reply_to_status_id  in_reply_to_user_id  \\\n",
       "0     892420643555336000                    NaN                  NaN   \n",
       "1     892177421306343000                    NaN                  NaN   \n",
       "2     891815181378084000                    NaN                  NaN   \n",
       "3     891689557279858000                    NaN                  NaN   \n",
       "4     891327558926688000                    NaN                  NaN   \n",
       "...                  ...                    ...                  ...   \n",
       "2351  666049248165822000                    NaN                  NaN   \n",
       "2352  666044226329800000                    NaN                  NaN   \n",
       "2353  666033412701032000                    NaN                  NaN   \n",
       "2354  666029285002620000                    NaN                  NaN   \n",
       "2355  666020888022790000                    NaN                  NaN   \n",
       "\n",
       "                      timestamp  \\\n",
       "0     2017-08-01 16:23:56 +0000   \n",
       "1     2017-08-01 00:17:27 +0000   \n",
       "2     2017-07-31 00:18:03 +0000   \n",
       "3     2017-07-30 15:58:51 +0000   \n",
       "4     2017-07-29 16:00:24 +0000   \n",
       "...                         ...   \n",
       "2351  2015-11-16 00:24:50 +0000   \n",
       "2352  2015-11-16 00:04:52 +0000   \n",
       "2353  2015-11-15 23:21:54 +0000   \n",
       "2354  2015-11-15 23:05:30 +0000   \n",
       "2355  2015-11-15 22:32:08 +0000   \n",
       "\n",
       "                                                 source  \\\n",
       "0     <a href=\"http://twitter.com/download/iphone\" r...   \n",
       "1     <a href=\"http://twitter.com/download/iphone\" r...   \n",
       "2     <a href=\"http://twitter.com/download/iphone\" r...   \n",
       "3     <a href=\"http://twitter.com/download/iphone\" r...   \n",
       "4     <a href=\"http://twitter.com/download/iphone\" r...   \n",
       "...                                                 ...   \n",
       "2351  <a href=\"http://twitter.com/download/iphone\" r...   \n",
       "2352  <a href=\"http://twitter.com/download/iphone\" r...   \n",
       "2353  <a href=\"http://twitter.com/download/iphone\" r...   \n",
       "2354  <a href=\"http://twitter.com/download/iphone\" r...   \n",
       "2355  <a href=\"http://twitter.com/download/iphone\" r...   \n",
       "\n",
       "                                                   text  retweeted_status_id  \\\n",
       "0     This is Phineas. He's a mystical boy. Only eve...                  NaN   \n",
       "1     This is Tilly. She's just checking pup on you....                  NaN   \n",
       "2     This is Archie. He is a rare Norwegian Pouncin...                  NaN   \n",
       "3     This is Darla. She commenced a snooze mid meal...                  NaN   \n",
       "4     This is Franklin. He would like you to stop ca...                  NaN   \n",
       "...                                                 ...                  ...   \n",
       "2351  Here we have a 1949 1st generation vulpix. Enj...                  NaN   \n",
       "2352  This is a purebred Piers Morgan. Loves to Netf...                  NaN   \n",
       "2353  Here is a very happy pup. Big fan of well-main...                  NaN   \n",
       "2354  This is a western brown Mitsubishi terrier. Up...                  NaN   \n",
       "2355  Here we have a Japanese Irish Setter. Lost eye...                  NaN   \n",
       "\n",
       "      retweeted_status_user_id retweeted_status_timestamp  \\\n",
       "0                          NaN                        NaN   \n",
       "1                          NaN                        NaN   \n",
       "2                          NaN                        NaN   \n",
       "3                          NaN                        NaN   \n",
       "4                          NaN                        NaN   \n",
       "...                        ...                        ...   \n",
       "2351                       NaN                        NaN   \n",
       "2352                       NaN                        NaN   \n",
       "2353                       NaN                        NaN   \n",
       "2354                       NaN                        NaN   \n",
       "2355                       NaN                        NaN   \n",
       "\n",
       "                                          expanded_urls  rating_numerator  \\\n",
       "0     https://twitter.com/dog_rates/status/892420643...                13   \n",
       "1     https://twitter.com/dog_rates/status/892177421...                13   \n",
       "2     https://twitter.com/dog_rates/status/891815181...                12   \n",
       "3     https://twitter.com/dog_rates/status/891689557...                13   \n",
       "4     https://twitter.com/dog_rates/status/891327558...                12   \n",
       "...                                                 ...               ...   \n",
       "2351  https://twitter.com/dog_rates/status/666049248...                 5   \n",
       "2352  https://twitter.com/dog_rates/status/666044226...                 6   \n",
       "2353  https://twitter.com/dog_rates/status/666033412...                 9   \n",
       "2354  https://twitter.com/dog_rates/status/666029285...                 7   \n",
       "2355  https://twitter.com/dog_rates/status/666020888...                 8   \n",
       "\n",
       "      rating_denominator      name doggo floofer pupper puppo  \n",
       "0                     10   Phineas  None    None   None  None  \n",
       "1                     10     Tilly  None    None   None  None  \n",
       "2                     10    Archie  None    None   None  None  \n",
       "3                     10     Darla  None    None   None  None  \n",
       "4                     10  Franklin  None    None   None  None  \n",
       "...                  ...       ...   ...     ...    ...   ...  \n",
       "2351                  10      None  None    None   None  None  \n",
       "2352                  10         a  None    None   None  None  \n",
       "2353                  10         a  None    None   None  None  \n",
       "2354                  10         a  None    None   None  None  \n",
       "2355                  10      None  None    None   None  None  \n",
       "\n",
       "[2356 rows x 17 columns]"
      ]
     },
     "execution_count": 9,
     "metadata": {},
     "output_type": "execute_result"
    }
   ],
   "source": [
    "#Visualizing twitter archive data \n",
    "\n",
    "twitter_archive_data"
   ]
  },
  {
   "cell_type": "code",
   "execution_count": 10,
   "metadata": {},
   "outputs": [
    {
     "data": {
      "text/html": [
       "<div>\n",
       "<style scoped>\n",
       "    .dataframe tbody tr th:only-of-type {\n",
       "        vertical-align: middle;\n",
       "    }\n",
       "\n",
       "    .dataframe tbody tr th {\n",
       "        vertical-align: top;\n",
       "    }\n",
       "\n",
       "    .dataframe thead th {\n",
       "        text-align: right;\n",
       "    }\n",
       "</style>\n",
       "<table border=\"1\" class=\"dataframe\">\n",
       "  <thead>\n",
       "    <tr style=\"text-align: right;\">\n",
       "      <th></th>\n",
       "      <th>tweet_id</th>\n",
       "      <th>jpg_url</th>\n",
       "      <th>img_num</th>\n",
       "      <th>p1</th>\n",
       "      <th>p1_conf</th>\n",
       "      <th>p1_dog</th>\n",
       "      <th>p2</th>\n",
       "      <th>p2_conf</th>\n",
       "      <th>p2_dog</th>\n",
       "      <th>p3</th>\n",
       "      <th>p3_conf</th>\n",
       "      <th>p3_dog</th>\n",
       "    </tr>\n",
       "  </thead>\n",
       "  <tbody>\n",
       "    <tr>\n",
       "      <th>0</th>\n",
       "      <td>666020888022790149</td>\n",
       "      <td>https://pbs.twimg.com/media/CT4udn0WwAA0aMy.jpg</td>\n",
       "      <td>1</td>\n",
       "      <td>Welsh_springer_spaniel</td>\n",
       "      <td>0.465074</td>\n",
       "      <td>True</td>\n",
       "      <td>collie</td>\n",
       "      <td>0.156665</td>\n",
       "      <td>True</td>\n",
       "      <td>Shetland_sheepdog</td>\n",
       "      <td>0.061428</td>\n",
       "      <td>True</td>\n",
       "    </tr>\n",
       "    <tr>\n",
       "      <th>1</th>\n",
       "      <td>666029285002620928</td>\n",
       "      <td>https://pbs.twimg.com/media/CT42GRgUYAA5iDo.jpg</td>\n",
       "      <td>1</td>\n",
       "      <td>redbone</td>\n",
       "      <td>0.506826</td>\n",
       "      <td>True</td>\n",
       "      <td>miniature_pinscher</td>\n",
       "      <td>0.074192</td>\n",
       "      <td>True</td>\n",
       "      <td>Rhodesian_ridgeback</td>\n",
       "      <td>0.072010</td>\n",
       "      <td>True</td>\n",
       "    </tr>\n",
       "    <tr>\n",
       "      <th>2</th>\n",
       "      <td>666033412701032449</td>\n",
       "      <td>https://pbs.twimg.com/media/CT4521TWwAEvMyu.jpg</td>\n",
       "      <td>1</td>\n",
       "      <td>German_shepherd</td>\n",
       "      <td>0.596461</td>\n",
       "      <td>True</td>\n",
       "      <td>malinois</td>\n",
       "      <td>0.138584</td>\n",
       "      <td>True</td>\n",
       "      <td>bloodhound</td>\n",
       "      <td>0.116197</td>\n",
       "      <td>True</td>\n",
       "    </tr>\n",
       "    <tr>\n",
       "      <th>3</th>\n",
       "      <td>666044226329800704</td>\n",
       "      <td>https://pbs.twimg.com/media/CT5Dr8HUEAA-lEu.jpg</td>\n",
       "      <td>1</td>\n",
       "      <td>Rhodesian_ridgeback</td>\n",
       "      <td>0.408143</td>\n",
       "      <td>True</td>\n",
       "      <td>redbone</td>\n",
       "      <td>0.360687</td>\n",
       "      <td>True</td>\n",
       "      <td>miniature_pinscher</td>\n",
       "      <td>0.222752</td>\n",
       "      <td>True</td>\n",
       "    </tr>\n",
       "    <tr>\n",
       "      <th>4</th>\n",
       "      <td>666049248165822465</td>\n",
       "      <td>https://pbs.twimg.com/media/CT5IQmsXIAAKY4A.jpg</td>\n",
       "      <td>1</td>\n",
       "      <td>miniature_pinscher</td>\n",
       "      <td>0.560311</td>\n",
       "      <td>True</td>\n",
       "      <td>Rottweiler</td>\n",
       "      <td>0.243682</td>\n",
       "      <td>True</td>\n",
       "      <td>Doberman</td>\n",
       "      <td>0.154629</td>\n",
       "      <td>True</td>\n",
       "    </tr>\n",
       "    <tr>\n",
       "      <th>...</th>\n",
       "      <td>...</td>\n",
       "      <td>...</td>\n",
       "      <td>...</td>\n",
       "      <td>...</td>\n",
       "      <td>...</td>\n",
       "      <td>...</td>\n",
       "      <td>...</td>\n",
       "      <td>...</td>\n",
       "      <td>...</td>\n",
       "      <td>...</td>\n",
       "      <td>...</td>\n",
       "      <td>...</td>\n",
       "    </tr>\n",
       "    <tr>\n",
       "      <th>2070</th>\n",
       "      <td>891327558926688256</td>\n",
       "      <td>https://pbs.twimg.com/media/DF6hr6BUMAAzZgT.jpg</td>\n",
       "      <td>2</td>\n",
       "      <td>basset</td>\n",
       "      <td>0.555712</td>\n",
       "      <td>True</td>\n",
       "      <td>English_springer</td>\n",
       "      <td>0.225770</td>\n",
       "      <td>True</td>\n",
       "      <td>German_short-haired_pointer</td>\n",
       "      <td>0.175219</td>\n",
       "      <td>True</td>\n",
       "    </tr>\n",
       "    <tr>\n",
       "      <th>2071</th>\n",
       "      <td>891689557279858688</td>\n",
       "      <td>https://pbs.twimg.com/media/DF_q7IAWsAEuuN8.jpg</td>\n",
       "      <td>1</td>\n",
       "      <td>paper_towel</td>\n",
       "      <td>0.170278</td>\n",
       "      <td>False</td>\n",
       "      <td>Labrador_retriever</td>\n",
       "      <td>0.168086</td>\n",
       "      <td>True</td>\n",
       "      <td>spatula</td>\n",
       "      <td>0.040836</td>\n",
       "      <td>False</td>\n",
       "    </tr>\n",
       "    <tr>\n",
       "      <th>2072</th>\n",
       "      <td>891815181378084864</td>\n",
       "      <td>https://pbs.twimg.com/media/DGBdLU1WsAANxJ9.jpg</td>\n",
       "      <td>1</td>\n",
       "      <td>Chihuahua</td>\n",
       "      <td>0.716012</td>\n",
       "      <td>True</td>\n",
       "      <td>malamute</td>\n",
       "      <td>0.078253</td>\n",
       "      <td>True</td>\n",
       "      <td>kelpie</td>\n",
       "      <td>0.031379</td>\n",
       "      <td>True</td>\n",
       "    </tr>\n",
       "    <tr>\n",
       "      <th>2073</th>\n",
       "      <td>892177421306343426</td>\n",
       "      <td>https://pbs.twimg.com/media/DGGmoV4XsAAUL6n.jpg</td>\n",
       "      <td>1</td>\n",
       "      <td>Chihuahua</td>\n",
       "      <td>0.323581</td>\n",
       "      <td>True</td>\n",
       "      <td>Pekinese</td>\n",
       "      <td>0.090647</td>\n",
       "      <td>True</td>\n",
       "      <td>papillon</td>\n",
       "      <td>0.068957</td>\n",
       "      <td>True</td>\n",
       "    </tr>\n",
       "    <tr>\n",
       "      <th>2074</th>\n",
       "      <td>892420643555336193</td>\n",
       "      <td>https://pbs.twimg.com/media/DGKD1-bXoAAIAUK.jpg</td>\n",
       "      <td>1</td>\n",
       "      <td>orange</td>\n",
       "      <td>0.097049</td>\n",
       "      <td>False</td>\n",
       "      <td>bagel</td>\n",
       "      <td>0.085851</td>\n",
       "      <td>False</td>\n",
       "      <td>banana</td>\n",
       "      <td>0.076110</td>\n",
       "      <td>False</td>\n",
       "    </tr>\n",
       "  </tbody>\n",
       "</table>\n",
       "<p>2075 rows × 12 columns</p>\n",
       "</div>"
      ],
      "text/plain": [
       "                tweet_id                                          jpg_url  \\\n",
       "0     666020888022790149  https://pbs.twimg.com/media/CT4udn0WwAA0aMy.jpg   \n",
       "1     666029285002620928  https://pbs.twimg.com/media/CT42GRgUYAA5iDo.jpg   \n",
       "2     666033412701032449  https://pbs.twimg.com/media/CT4521TWwAEvMyu.jpg   \n",
       "3     666044226329800704  https://pbs.twimg.com/media/CT5Dr8HUEAA-lEu.jpg   \n",
       "4     666049248165822465  https://pbs.twimg.com/media/CT5IQmsXIAAKY4A.jpg   \n",
       "...                  ...                                              ...   \n",
       "2070  891327558926688256  https://pbs.twimg.com/media/DF6hr6BUMAAzZgT.jpg   \n",
       "2071  891689557279858688  https://pbs.twimg.com/media/DF_q7IAWsAEuuN8.jpg   \n",
       "2072  891815181378084864  https://pbs.twimg.com/media/DGBdLU1WsAANxJ9.jpg   \n",
       "2073  892177421306343426  https://pbs.twimg.com/media/DGGmoV4XsAAUL6n.jpg   \n",
       "2074  892420643555336193  https://pbs.twimg.com/media/DGKD1-bXoAAIAUK.jpg   \n",
       "\n",
       "      img_num                      p1   p1_conf  p1_dog                  p2  \\\n",
       "0           1  Welsh_springer_spaniel  0.465074    True              collie   \n",
       "1           1                 redbone  0.506826    True  miniature_pinscher   \n",
       "2           1         German_shepherd  0.596461    True            malinois   \n",
       "3           1     Rhodesian_ridgeback  0.408143    True             redbone   \n",
       "4           1      miniature_pinscher  0.560311    True          Rottweiler   \n",
       "...       ...                     ...       ...     ...                 ...   \n",
       "2070        2                  basset  0.555712    True    English_springer   \n",
       "2071        1             paper_towel  0.170278   False  Labrador_retriever   \n",
       "2072        1               Chihuahua  0.716012    True            malamute   \n",
       "2073        1               Chihuahua  0.323581    True            Pekinese   \n",
       "2074        1                  orange  0.097049   False               bagel   \n",
       "\n",
       "       p2_conf  p2_dog                           p3   p3_conf  p3_dog  \n",
       "0     0.156665    True            Shetland_sheepdog  0.061428    True  \n",
       "1     0.074192    True          Rhodesian_ridgeback  0.072010    True  \n",
       "2     0.138584    True                   bloodhound  0.116197    True  \n",
       "3     0.360687    True           miniature_pinscher  0.222752    True  \n",
       "4     0.243682    True                     Doberman  0.154629    True  \n",
       "...        ...     ...                          ...       ...     ...  \n",
       "2070  0.225770    True  German_short-haired_pointer  0.175219    True  \n",
       "2071  0.168086    True                      spatula  0.040836   False  \n",
       "2072  0.078253    True                       kelpie  0.031379    True  \n",
       "2073  0.090647    True                     papillon  0.068957    True  \n",
       "2074  0.085851   False                       banana  0.076110   False  \n",
       "\n",
       "[2075 rows x 12 columns]"
      ]
     },
     "execution_count": 10,
     "metadata": {},
     "output_type": "execute_result"
    }
   ],
   "source": [
    "#Visualizing image archive data \n",
    "\n",
    "\n",
    "image_data\n",
    "\n",
    " "
   ]
  },
  {
   "cell_type": "code",
   "execution_count": 11,
   "metadata": {},
   "outputs": [
    {
     "data": {
      "text/html": [
       "<div>\n",
       "<style scoped>\n",
       "    .dataframe tbody tr th:only-of-type {\n",
       "        vertical-align: middle;\n",
       "    }\n",
       "\n",
       "    .dataframe tbody tr th {\n",
       "        vertical-align: top;\n",
       "    }\n",
       "\n",
       "    .dataframe thead th {\n",
       "        text-align: right;\n",
       "    }\n",
       "</style>\n",
       "<table border=\"1\" class=\"dataframe\">\n",
       "  <thead>\n",
       "    <tr style=\"text-align: right;\">\n",
       "      <th></th>\n",
       "      <th>tweet_id</th>\n",
       "      <th>retweet_count</th>\n",
       "      <th>friends_count</th>\n",
       "      <th>favorite_count</th>\n",
       "      <th>followers_count</th>\n",
       "      <th>listed_count</th>\n",
       "    </tr>\n",
       "  </thead>\n",
       "  <tbody>\n",
       "    <tr>\n",
       "      <th>0</th>\n",
       "      <td>892420643555336193</td>\n",
       "      <td>8853</td>\n",
       "      <td>104</td>\n",
       "      <td>39467</td>\n",
       "      <td>3200889</td>\n",
       "      <td>2784</td>\n",
       "    </tr>\n",
       "    <tr>\n",
       "      <th>1</th>\n",
       "      <td>892177421306343426</td>\n",
       "      <td>6514</td>\n",
       "      <td>104</td>\n",
       "      <td>33819</td>\n",
       "      <td>3200889</td>\n",
       "      <td>2784</td>\n",
       "    </tr>\n",
       "    <tr>\n",
       "      <th>2</th>\n",
       "      <td>891815181378084864</td>\n",
       "      <td>4328</td>\n",
       "      <td>104</td>\n",
       "      <td>25461</td>\n",
       "      <td>3200889</td>\n",
       "      <td>2784</td>\n",
       "    </tr>\n",
       "    <tr>\n",
       "      <th>3</th>\n",
       "      <td>891689557279858688</td>\n",
       "      <td>8964</td>\n",
       "      <td>104</td>\n",
       "      <td>42908</td>\n",
       "      <td>3200889</td>\n",
       "      <td>2784</td>\n",
       "    </tr>\n",
       "    <tr>\n",
       "      <th>4</th>\n",
       "      <td>891327558926688256</td>\n",
       "      <td>9774</td>\n",
       "      <td>104</td>\n",
       "      <td>41048</td>\n",
       "      <td>3200889</td>\n",
       "      <td>2784</td>\n",
       "    </tr>\n",
       "    <tr>\n",
       "      <th>...</th>\n",
       "      <td>...</td>\n",
       "      <td>...</td>\n",
       "      <td>...</td>\n",
       "      <td>...</td>\n",
       "      <td>...</td>\n",
       "      <td>...</td>\n",
       "    </tr>\n",
       "    <tr>\n",
       "      <th>2349</th>\n",
       "      <td>666049248165822465</td>\n",
       "      <td>41</td>\n",
       "      <td>104</td>\n",
       "      <td>111</td>\n",
       "      <td>3201018</td>\n",
       "      <td>2812</td>\n",
       "    </tr>\n",
       "    <tr>\n",
       "      <th>2350</th>\n",
       "      <td>666044226329800704</td>\n",
       "      <td>147</td>\n",
       "      <td>104</td>\n",
       "      <td>311</td>\n",
       "      <td>3201018</td>\n",
       "      <td>2812</td>\n",
       "    </tr>\n",
       "    <tr>\n",
       "      <th>2351</th>\n",
       "      <td>666033412701032449</td>\n",
       "      <td>47</td>\n",
       "      <td>104</td>\n",
       "      <td>128</td>\n",
       "      <td>3201018</td>\n",
       "      <td>2812</td>\n",
       "    </tr>\n",
       "    <tr>\n",
       "      <th>2352</th>\n",
       "      <td>666029285002620928</td>\n",
       "      <td>48</td>\n",
       "      <td>104</td>\n",
       "      <td>132</td>\n",
       "      <td>3201018</td>\n",
       "      <td>2812</td>\n",
       "    </tr>\n",
       "    <tr>\n",
       "      <th>2353</th>\n",
       "      <td>666020888022790149</td>\n",
       "      <td>532</td>\n",
       "      <td>104</td>\n",
       "      <td>2535</td>\n",
       "      <td>3201018</td>\n",
       "      <td>2812</td>\n",
       "    </tr>\n",
       "  </tbody>\n",
       "</table>\n",
       "<p>2354 rows × 6 columns</p>\n",
       "</div>"
      ],
      "text/plain": [
       "                tweet_id  retweet_count  friends_count  favorite_count  \\\n",
       "0     892420643555336193           8853            104           39467   \n",
       "1     892177421306343426           6514            104           33819   \n",
       "2     891815181378084864           4328            104           25461   \n",
       "3     891689557279858688           8964            104           42908   \n",
       "4     891327558926688256           9774            104           41048   \n",
       "...                  ...            ...            ...             ...   \n",
       "2349  666049248165822465             41            104             111   \n",
       "2350  666044226329800704            147            104             311   \n",
       "2351  666033412701032449             47            104             128   \n",
       "2352  666029285002620928             48            104             132   \n",
       "2353  666020888022790149            532            104            2535   \n",
       "\n",
       "      followers_count  listed_count  \n",
       "0             3200889          2784  \n",
       "1             3200889          2784  \n",
       "2             3200889          2784  \n",
       "3             3200889          2784  \n",
       "4             3200889          2784  \n",
       "...               ...           ...  \n",
       "2349          3201018          2812  \n",
       "2350          3201018          2812  \n",
       "2351          3201018          2812  \n",
       "2352          3201018          2812  \n",
       "2353          3201018          2812  \n",
       "\n",
       "[2354 rows x 6 columns]"
      ]
     },
     "execution_count": 11,
     "metadata": {},
     "output_type": "execute_result"
    }
   ],
   "source": [
    "#Visualizing Json archive data \n",
    "\n",
    "Json_data\n",
    " "
   ]
  },
  {
   "cell_type": "markdown",
   "metadata": {},
   "source": [
    "###### Programmatic Assessment\n",
    "\n"
   ]
  },
  {
   "cell_type": "code",
   "execution_count": 12,
   "metadata": {},
   "outputs": [
    {
     "data": {
      "text/html": [
       "<div>\n",
       "<style scoped>\n",
       "    .dataframe tbody tr th:only-of-type {\n",
       "        vertical-align: middle;\n",
       "    }\n",
       "\n",
       "    .dataframe tbody tr th {\n",
       "        vertical-align: top;\n",
       "    }\n",
       "\n",
       "    .dataframe thead th {\n",
       "        text-align: right;\n",
       "    }\n",
       "</style>\n",
       "<table border=\"1\" class=\"dataframe\">\n",
       "  <thead>\n",
       "    <tr style=\"text-align: right;\">\n",
       "      <th></th>\n",
       "      <th>tweet_id</th>\n",
       "      <th>in_reply_to_status_id</th>\n",
       "      <th>in_reply_to_user_id</th>\n",
       "      <th>timestamp</th>\n",
       "      <th>source</th>\n",
       "      <th>text</th>\n",
       "      <th>retweeted_status_id</th>\n",
       "      <th>retweeted_status_user_id</th>\n",
       "      <th>retweeted_status_timestamp</th>\n",
       "      <th>expanded_urls</th>\n",
       "      <th>rating_numerator</th>\n",
       "      <th>rating_denominator</th>\n",
       "      <th>name</th>\n",
       "      <th>doggo</th>\n",
       "      <th>floofer</th>\n",
       "      <th>pupper</th>\n",
       "      <th>puppo</th>\n",
       "    </tr>\n",
       "  </thead>\n",
       "  <tbody>\n",
       "    <tr>\n",
       "      <th>404</th>\n",
       "      <td>824025158776213000</td>\n",
       "      <td>NaN</td>\n",
       "      <td>NaN</td>\n",
       "      <td>2017-01-24 22:44:42 +0000</td>\n",
       "      <td>&lt;a href=\"http://twitter.com/download/iphone\" r...</td>\n",
       "      <td>\"I wish we were dogs\" 14/10 for @BadlandsNPS h...</td>\n",
       "      <td>NaN</td>\n",
       "      <td>NaN</td>\n",
       "      <td>NaN</td>\n",
       "      <td>https://twitter.com/badlandsnps/status/8239662...</td>\n",
       "      <td>14</td>\n",
       "      <td>10</td>\n",
       "      <td>None</td>\n",
       "      <td>None</td>\n",
       "      <td>None</td>\n",
       "      <td>None</td>\n",
       "      <td>None</td>\n",
       "    </tr>\n",
       "    <tr>\n",
       "      <th>1106</th>\n",
       "      <td>734787690684657000</td>\n",
       "      <td>NaN</td>\n",
       "      <td>NaN</td>\n",
       "      <td>2016-05-23 16:46:51 +0000</td>\n",
       "      <td>&lt;a href=\"http://twitter.com/download/iphone\" r...</td>\n",
       "      <td>This dog is more successful than I will ever b...</td>\n",
       "      <td>NaN</td>\n",
       "      <td>NaN</td>\n",
       "      <td>NaN</td>\n",
       "      <td>https://twitter.com/dog_rates/status/734787690...</td>\n",
       "      <td>13</td>\n",
       "      <td>10</td>\n",
       "      <td>None</td>\n",
       "      <td>None</td>\n",
       "      <td>None</td>\n",
       "      <td>None</td>\n",
       "      <td>None</td>\n",
       "    </tr>\n",
       "    <tr>\n",
       "      <th>1415</th>\n",
       "      <td>698703483621523000</td>\n",
       "      <td>NaN</td>\n",
       "      <td>NaN</td>\n",
       "      <td>2016-02-14 03:01:06 +0000</td>\n",
       "      <td>&lt;a href=\"http://twitter.com/download/iphone\" r...</td>\n",
       "      <td>This is Rusty. He has no respect for POULTRY p...</td>\n",
       "      <td>NaN</td>\n",
       "      <td>NaN</td>\n",
       "      <td>NaN</td>\n",
       "      <td>https://twitter.com/dog_rates/status/698703483...</td>\n",
       "      <td>7</td>\n",
       "      <td>10</td>\n",
       "      <td>Rusty</td>\n",
       "      <td>None</td>\n",
       "      <td>None</td>\n",
       "      <td>None</td>\n",
       "      <td>None</td>\n",
       "    </tr>\n",
       "    <tr>\n",
       "      <th>497</th>\n",
       "      <td>813142292504645000</td>\n",
       "      <td>NaN</td>\n",
       "      <td>NaN</td>\n",
       "      <td>2016-12-25 22:00:04 +0000</td>\n",
       "      <td>&lt;a href=\"http://twitter.com/download/iphone\" r...</td>\n",
       "      <td>Everybody stop what you're doing and look at t...</td>\n",
       "      <td>NaN</td>\n",
       "      <td>NaN</td>\n",
       "      <td>NaN</td>\n",
       "      <td>https://twitter.com/dog_rates/status/813142292...</td>\n",
       "      <td>13</td>\n",
       "      <td>10</td>\n",
       "      <td>None</td>\n",
       "      <td>None</td>\n",
       "      <td>None</td>\n",
       "      <td>None</td>\n",
       "      <td>None</td>\n",
       "    </tr>\n",
       "    <tr>\n",
       "      <th>2270</th>\n",
       "      <td>667502640335572000</td>\n",
       "      <td>NaN</td>\n",
       "      <td>NaN</td>\n",
       "      <td>2015-11-20 00:40:05 +0000</td>\n",
       "      <td>&lt;a href=\"http://twitter.com\" rel=\"nofollow\"&gt;Tw...</td>\n",
       "      <td>Say hello to Hall and Oates. Oates is winking ...</td>\n",
       "      <td>NaN</td>\n",
       "      <td>NaN</td>\n",
       "      <td>NaN</td>\n",
       "      <td>https://twitter.com/dog_rates/status/667502640...</td>\n",
       "      <td>11</td>\n",
       "      <td>10</td>\n",
       "      <td>Hall</td>\n",
       "      <td>None</td>\n",
       "      <td>None</td>\n",
       "      <td>None</td>\n",
       "      <td>None</td>\n",
       "    </tr>\n",
       "    <tr>\n",
       "      <th>2002</th>\n",
       "      <td>672481316919734000</td>\n",
       "      <td>NaN</td>\n",
       "      <td>NaN</td>\n",
       "      <td>2015-12-03 18:23:34 +0000</td>\n",
       "      <td>&lt;a href=\"http://twitter.com/download/iphone\" r...</td>\n",
       "      <td>Say hello to Jazz. She should be on the cover ...</td>\n",
       "      <td>NaN</td>\n",
       "      <td>NaN</td>\n",
       "      <td>NaN</td>\n",
       "      <td>https://twitter.com/dog_rates/status/672481316...</td>\n",
       "      <td>12</td>\n",
       "      <td>10</td>\n",
       "      <td>Jazz</td>\n",
       "      <td>None</td>\n",
       "      <td>None</td>\n",
       "      <td>pupper</td>\n",
       "      <td>None</td>\n",
       "    </tr>\n",
       "    <tr>\n",
       "      <th>763</th>\n",
       "      <td>778027034220126000</td>\n",
       "      <td>NaN</td>\n",
       "      <td>NaN</td>\n",
       "      <td>2016-09-20 00:24:34 +0000</td>\n",
       "      <td>&lt;a href=\"http://twitter.com/download/iphone\" r...</td>\n",
       "      <td>This is Sophie. She's a Jubilant Bush Pupper. ...</td>\n",
       "      <td>NaN</td>\n",
       "      <td>NaN</td>\n",
       "      <td>NaN</td>\n",
       "      <td>https://twitter.com/dog_rates/status/778027034...</td>\n",
       "      <td>27</td>\n",
       "      <td>10</td>\n",
       "      <td>Sophie</td>\n",
       "      <td>None</td>\n",
       "      <td>None</td>\n",
       "      <td>pupper</td>\n",
       "      <td>None</td>\n",
       "    </tr>\n",
       "    <tr>\n",
       "      <th>1002</th>\n",
       "      <td>747885874273214000</td>\n",
       "      <td>NaN</td>\n",
       "      <td>NaN</td>\n",
       "      <td>2016-06-28 20:14:22 +0000</td>\n",
       "      <td>&lt;a href=\"http://twitter.com/download/iphone\" r...</td>\n",
       "      <td>This is a mighty rare blue-tailed hammer sherk...</td>\n",
       "      <td>NaN</td>\n",
       "      <td>NaN</td>\n",
       "      <td>NaN</td>\n",
       "      <td>https://twitter.com/dog_rates/status/747885874...</td>\n",
       "      <td>8</td>\n",
       "      <td>10</td>\n",
       "      <td>a</td>\n",
       "      <td>None</td>\n",
       "      <td>None</td>\n",
       "      <td>None</td>\n",
       "      <td>None</td>\n",
       "    </tr>\n",
       "    <tr>\n",
       "      <th>587</th>\n",
       "      <td>799757965289017000</td>\n",
       "      <td>NaN</td>\n",
       "      <td>NaN</td>\n",
       "      <td>2016-11-18 23:35:32 +0000</td>\n",
       "      <td>&lt;a href=\"http://twitter.com/download/iphone\" r...</td>\n",
       "      <td>This is Sobe. She's a h*ckin happy doggo. Only...</td>\n",
       "      <td>NaN</td>\n",
       "      <td>NaN</td>\n",
       "      <td>NaN</td>\n",
       "      <td>https://twitter.com/dog_rates/status/799757965...</td>\n",
       "      <td>13</td>\n",
       "      <td>10</td>\n",
       "      <td>Sobe</td>\n",
       "      <td>doggo</td>\n",
       "      <td>None</td>\n",
       "      <td>None</td>\n",
       "      <td>None</td>\n",
       "    </tr>\n",
       "    <tr>\n",
       "      <th>1577</th>\n",
       "      <td>687399393394311000</td>\n",
       "      <td>NaN</td>\n",
       "      <td>NaN</td>\n",
       "      <td>2016-01-13 22:22:41 +0000</td>\n",
       "      <td>&lt;a href=\"http://vine.co\" rel=\"nofollow\"&gt;Vine -...</td>\n",
       "      <td>This is Barry. He's very fast. I hope he finds...</td>\n",
       "      <td>NaN</td>\n",
       "      <td>NaN</td>\n",
       "      <td>NaN</td>\n",
       "      <td>https://vine.co/v/iM2hLu9LU5i</td>\n",
       "      <td>10</td>\n",
       "      <td>10</td>\n",
       "      <td>Barry</td>\n",
       "      <td>None</td>\n",
       "      <td>None</td>\n",
       "      <td>None</td>\n",
       "      <td>None</td>\n",
       "    </tr>\n",
       "  </tbody>\n",
       "</table>\n",
       "</div>"
      ],
      "text/plain": [
       "                tweet_id  in_reply_to_status_id  in_reply_to_user_id  \\\n",
       "404   824025158776213000                    NaN                  NaN   \n",
       "1106  734787690684657000                    NaN                  NaN   \n",
       "1415  698703483621523000                    NaN                  NaN   \n",
       "497   813142292504645000                    NaN                  NaN   \n",
       "2270  667502640335572000                    NaN                  NaN   \n",
       "2002  672481316919734000                    NaN                  NaN   \n",
       "763   778027034220126000                    NaN                  NaN   \n",
       "1002  747885874273214000                    NaN                  NaN   \n",
       "587   799757965289017000                    NaN                  NaN   \n",
       "1577  687399393394311000                    NaN                  NaN   \n",
       "\n",
       "                      timestamp  \\\n",
       "404   2017-01-24 22:44:42 +0000   \n",
       "1106  2016-05-23 16:46:51 +0000   \n",
       "1415  2016-02-14 03:01:06 +0000   \n",
       "497   2016-12-25 22:00:04 +0000   \n",
       "2270  2015-11-20 00:40:05 +0000   \n",
       "2002  2015-12-03 18:23:34 +0000   \n",
       "763   2016-09-20 00:24:34 +0000   \n",
       "1002  2016-06-28 20:14:22 +0000   \n",
       "587   2016-11-18 23:35:32 +0000   \n",
       "1577  2016-01-13 22:22:41 +0000   \n",
       "\n",
       "                                                 source  \\\n",
       "404   <a href=\"http://twitter.com/download/iphone\" r...   \n",
       "1106  <a href=\"http://twitter.com/download/iphone\" r...   \n",
       "1415  <a href=\"http://twitter.com/download/iphone\" r...   \n",
       "497   <a href=\"http://twitter.com/download/iphone\" r...   \n",
       "2270  <a href=\"http://twitter.com\" rel=\"nofollow\">Tw...   \n",
       "2002  <a href=\"http://twitter.com/download/iphone\" r...   \n",
       "763   <a href=\"http://twitter.com/download/iphone\" r...   \n",
       "1002  <a href=\"http://twitter.com/download/iphone\" r...   \n",
       "587   <a href=\"http://twitter.com/download/iphone\" r...   \n",
       "1577  <a href=\"http://vine.co\" rel=\"nofollow\">Vine -...   \n",
       "\n",
       "                                                   text  retweeted_status_id  \\\n",
       "404   \"I wish we were dogs\" 14/10 for @BadlandsNPS h...                  NaN   \n",
       "1106  This dog is more successful than I will ever b...                  NaN   \n",
       "1415  This is Rusty. He has no respect for POULTRY p...                  NaN   \n",
       "497   Everybody stop what you're doing and look at t...                  NaN   \n",
       "2270  Say hello to Hall and Oates. Oates is winking ...                  NaN   \n",
       "2002  Say hello to Jazz. She should be on the cover ...                  NaN   \n",
       "763   This is Sophie. She's a Jubilant Bush Pupper. ...                  NaN   \n",
       "1002  This is a mighty rare blue-tailed hammer sherk...                  NaN   \n",
       "587   This is Sobe. She's a h*ckin happy doggo. Only...                  NaN   \n",
       "1577  This is Barry. He's very fast. I hope he finds...                  NaN   \n",
       "\n",
       "      retweeted_status_user_id retweeted_status_timestamp  \\\n",
       "404                        NaN                        NaN   \n",
       "1106                       NaN                        NaN   \n",
       "1415                       NaN                        NaN   \n",
       "497                        NaN                        NaN   \n",
       "2270                       NaN                        NaN   \n",
       "2002                       NaN                        NaN   \n",
       "763                        NaN                        NaN   \n",
       "1002                       NaN                        NaN   \n",
       "587                        NaN                        NaN   \n",
       "1577                       NaN                        NaN   \n",
       "\n",
       "                                          expanded_urls  rating_numerator  \\\n",
       "404   https://twitter.com/badlandsnps/status/8239662...                14   \n",
       "1106  https://twitter.com/dog_rates/status/734787690...                13   \n",
       "1415  https://twitter.com/dog_rates/status/698703483...                 7   \n",
       "497   https://twitter.com/dog_rates/status/813142292...                13   \n",
       "2270  https://twitter.com/dog_rates/status/667502640...                11   \n",
       "2002  https://twitter.com/dog_rates/status/672481316...                12   \n",
       "763   https://twitter.com/dog_rates/status/778027034...                27   \n",
       "1002  https://twitter.com/dog_rates/status/747885874...                 8   \n",
       "587   https://twitter.com/dog_rates/status/799757965...                13   \n",
       "1577                      https://vine.co/v/iM2hLu9LU5i                10   \n",
       "\n",
       "      rating_denominator    name  doggo floofer  pupper puppo  \n",
       "404                   10    None   None    None    None  None  \n",
       "1106                  10    None   None    None    None  None  \n",
       "1415                  10   Rusty   None    None    None  None  \n",
       "497                   10    None   None    None    None  None  \n",
       "2270                  10    Hall   None    None    None  None  \n",
       "2002                  10    Jazz   None    None  pupper  None  \n",
       "763                   10  Sophie   None    None  pupper  None  \n",
       "1002                  10       a   None    None    None  None  \n",
       "587                   10    Sobe  doggo    None    None  None  \n",
       "1577                  10   Barry   None    None    None  None  "
      ]
     },
     "execution_count": 12,
     "metadata": {},
     "output_type": "execute_result"
    }
   ],
   "source": [
    "twitter_archive_data.sample(10)\n"
   ]
  },
  {
   "cell_type": "code",
   "execution_count": 13,
   "metadata": {},
   "outputs": [
    {
     "data": {
      "text/html": [
       "<div>\n",
       "<style scoped>\n",
       "    .dataframe tbody tr th:only-of-type {\n",
       "        vertical-align: middle;\n",
       "    }\n",
       "\n",
       "    .dataframe tbody tr th {\n",
       "        vertical-align: top;\n",
       "    }\n",
       "\n",
       "    .dataframe thead th {\n",
       "        text-align: right;\n",
       "    }\n",
       "</style>\n",
       "<table border=\"1\" class=\"dataframe\">\n",
       "  <thead>\n",
       "    <tr style=\"text-align: right;\">\n",
       "      <th></th>\n",
       "      <th>tweet_id</th>\n",
       "      <th>in_reply_to_status_id</th>\n",
       "      <th>in_reply_to_user_id</th>\n",
       "      <th>retweeted_status_id</th>\n",
       "      <th>retweeted_status_user_id</th>\n",
       "      <th>rating_numerator</th>\n",
       "      <th>rating_denominator</th>\n",
       "    </tr>\n",
       "  </thead>\n",
       "  <tbody>\n",
       "    <tr>\n",
       "      <th>count</th>\n",
       "      <td>2.356000e+03</td>\n",
       "      <td>7.800000e+01</td>\n",
       "      <td>7.800000e+01</td>\n",
       "      <td>1.810000e+02</td>\n",
       "      <td>1.810000e+02</td>\n",
       "      <td>2356.000000</td>\n",
       "      <td>2356.000000</td>\n",
       "    </tr>\n",
       "    <tr>\n",
       "      <th>mean</th>\n",
       "      <td>7.427716e+17</td>\n",
       "      <td>7.455079e+17</td>\n",
       "      <td>2.014171e+16</td>\n",
       "      <td>7.720400e+17</td>\n",
       "      <td>1.241698e+16</td>\n",
       "      <td>13.126486</td>\n",
       "      <td>10.455433</td>\n",
       "    </tr>\n",
       "    <tr>\n",
       "      <th>std</th>\n",
       "      <td>6.856705e+16</td>\n",
       "      <td>7.582495e+16</td>\n",
       "      <td>1.252797e+17</td>\n",
       "      <td>6.236930e+16</td>\n",
       "      <td>9.599252e+16</td>\n",
       "      <td>45.876648</td>\n",
       "      <td>6.745237</td>\n",
       "    </tr>\n",
       "    <tr>\n",
       "      <th>min</th>\n",
       "      <td>6.660209e+17</td>\n",
       "      <td>6.658150e+17</td>\n",
       "      <td>1.185634e+07</td>\n",
       "      <td>6.661040e+17</td>\n",
       "      <td>7.832140e+05</td>\n",
       "      <td>0.000000</td>\n",
       "      <td>0.000000</td>\n",
       "    </tr>\n",
       "    <tr>\n",
       "      <th>25%</th>\n",
       "      <td>6.783989e+17</td>\n",
       "      <td>6.757418e+17</td>\n",
       "      <td>3.086374e+08</td>\n",
       "      <td>7.186310e+17</td>\n",
       "      <td>4.196984e+09</td>\n",
       "      <td>10.000000</td>\n",
       "      <td>10.000000</td>\n",
       "    </tr>\n",
       "    <tr>\n",
       "      <th>50%</th>\n",
       "      <td>7.196279e+17</td>\n",
       "      <td>7.038710e+17</td>\n",
       "      <td>4.196984e+09</td>\n",
       "      <td>7.804660e+17</td>\n",
       "      <td>4.196984e+09</td>\n",
       "      <td>11.000000</td>\n",
       "      <td>10.000000</td>\n",
       "    </tr>\n",
       "    <tr>\n",
       "      <th>75%</th>\n",
       "      <td>7.993373e+17</td>\n",
       "      <td>8.257800e+17</td>\n",
       "      <td>4.196984e+09</td>\n",
       "      <td>8.203150e+17</td>\n",
       "      <td>4.196984e+09</td>\n",
       "      <td>12.000000</td>\n",
       "      <td>10.000000</td>\n",
       "    </tr>\n",
       "    <tr>\n",
       "      <th>max</th>\n",
       "      <td>8.924206e+17</td>\n",
       "      <td>8.862660e+17</td>\n",
       "      <td>8.405480e+17</td>\n",
       "      <td>8.874740e+17</td>\n",
       "      <td>7.874620e+17</td>\n",
       "      <td>1776.000000</td>\n",
       "      <td>170.000000</td>\n",
       "    </tr>\n",
       "  </tbody>\n",
       "</table>\n",
       "</div>"
      ],
      "text/plain": [
       "           tweet_id  in_reply_to_status_id  in_reply_to_user_id  \\\n",
       "count  2.356000e+03           7.800000e+01         7.800000e+01   \n",
       "mean   7.427716e+17           7.455079e+17         2.014171e+16   \n",
       "std    6.856705e+16           7.582495e+16         1.252797e+17   \n",
       "min    6.660209e+17           6.658150e+17         1.185634e+07   \n",
       "25%    6.783989e+17           6.757418e+17         3.086374e+08   \n",
       "50%    7.196279e+17           7.038710e+17         4.196984e+09   \n",
       "75%    7.993373e+17           8.257800e+17         4.196984e+09   \n",
       "max    8.924206e+17           8.862660e+17         8.405480e+17   \n",
       "\n",
       "       retweeted_status_id  retweeted_status_user_id  rating_numerator  \\\n",
       "count         1.810000e+02              1.810000e+02       2356.000000   \n",
       "mean          7.720400e+17              1.241698e+16         13.126486   \n",
       "std           6.236930e+16              9.599252e+16         45.876648   \n",
       "min           6.661040e+17              7.832140e+05          0.000000   \n",
       "25%           7.186310e+17              4.196984e+09         10.000000   \n",
       "50%           7.804660e+17              4.196984e+09         11.000000   \n",
       "75%           8.203150e+17              4.196984e+09         12.000000   \n",
       "max           8.874740e+17              7.874620e+17       1776.000000   \n",
       "\n",
       "       rating_denominator  \n",
       "count         2356.000000  \n",
       "mean            10.455433  \n",
       "std              6.745237  \n",
       "min              0.000000  \n",
       "25%             10.000000  \n",
       "50%             10.000000  \n",
       "75%             10.000000  \n",
       "max            170.000000  "
      ]
     },
     "execution_count": 13,
     "metadata": {},
     "output_type": "execute_result"
    }
   ],
   "source": [
    "twitter_archive_data.describe()"
   ]
  },
  {
   "cell_type": "code",
   "execution_count": 14,
   "metadata": {},
   "outputs": [
    {
     "name": "stdout",
     "output_type": "stream",
     "text": [
      "<class 'pandas.core.frame.DataFrame'>\n",
      "RangeIndex: 2356 entries, 0 to 2355\n",
      "Data columns (total 17 columns):\n",
      " #   Column                      Non-Null Count  Dtype  \n",
      "---  ------                      --------------  -----  \n",
      " 0   tweet_id                    2356 non-null   int64  \n",
      " 1   in_reply_to_status_id       78 non-null     float64\n",
      " 2   in_reply_to_user_id         78 non-null     float64\n",
      " 3   timestamp                   2356 non-null   object \n",
      " 4   source                      2356 non-null   object \n",
      " 5   text                        2356 non-null   object \n",
      " 6   retweeted_status_id         181 non-null    float64\n",
      " 7   retweeted_status_user_id    181 non-null    float64\n",
      " 8   retweeted_status_timestamp  181 non-null    object \n",
      " 9   expanded_urls               2297 non-null   object \n",
      " 10  rating_numerator            2356 non-null   int64  \n",
      " 11  rating_denominator          2356 non-null   int64  \n",
      " 12  name                        2356 non-null   object \n",
      " 13  doggo                       2356 non-null   object \n",
      " 14  floofer                     2356 non-null   object \n",
      " 15  pupper                      2356 non-null   object \n",
      " 16  puppo                       2356 non-null   object \n",
      "dtypes: float64(4), int64(3), object(10)\n",
      "memory usage: 313.0+ KB\n"
     ]
    }
   ],
   "source": [
    "twitter_archive_data.info()"
   ]
  },
  {
   "cell_type": "code",
   "execution_count": 15,
   "metadata": {},
   "outputs": [
    {
     "data": {
      "text/html": [
       "<div>\n",
       "<style scoped>\n",
       "    .dataframe tbody tr th:only-of-type {\n",
       "        vertical-align: middle;\n",
       "    }\n",
       "\n",
       "    .dataframe tbody tr th {\n",
       "        vertical-align: top;\n",
       "    }\n",
       "\n",
       "    .dataframe thead th {\n",
       "        text-align: right;\n",
       "    }\n",
       "</style>\n",
       "<table border=\"1\" class=\"dataframe\">\n",
       "  <thead>\n",
       "    <tr style=\"text-align: right;\">\n",
       "      <th></th>\n",
       "      <th>tweet_id</th>\n",
       "      <th>jpg_url</th>\n",
       "      <th>img_num</th>\n",
       "      <th>p1</th>\n",
       "      <th>p1_conf</th>\n",
       "      <th>p1_dog</th>\n",
       "      <th>p2</th>\n",
       "      <th>p2_conf</th>\n",
       "      <th>p2_dog</th>\n",
       "      <th>p3</th>\n",
       "      <th>p3_conf</th>\n",
       "      <th>p3_dog</th>\n",
       "    </tr>\n",
       "  </thead>\n",
       "  <tbody>\n",
       "    <tr>\n",
       "      <th>125</th>\n",
       "      <td>668248472370458624</td>\n",
       "      <td>https://pbs.twimg.com/media/CUYYcMfXAAAixe7.jpg</td>\n",
       "      <td>1</td>\n",
       "      <td>Chihuahua</td>\n",
       "      <td>0.734547</td>\n",
       "      <td>True</td>\n",
       "      <td>miniature_pinscher</td>\n",
       "      <td>0.068294</td>\n",
       "      <td>True</td>\n",
       "      <td>toy_terrier</td>\n",
       "      <td>0.046367</td>\n",
       "      <td>True</td>\n",
       "    </tr>\n",
       "    <tr>\n",
       "      <th>1758</th>\n",
       "      <td>825535076884762624</td>\n",
       "      <td>https://pbs.twimg.com/media/C3TjvitXAAAI-QH.jpg</td>\n",
       "      <td>1</td>\n",
       "      <td>Rottweiler</td>\n",
       "      <td>0.681495</td>\n",
       "      <td>True</td>\n",
       "      <td>Tibetan_mastiff</td>\n",
       "      <td>0.147940</td>\n",
       "      <td>True</td>\n",
       "      <td>black-and-tan_coonhound</td>\n",
       "      <td>0.024525</td>\n",
       "      <td>True</td>\n",
       "    </tr>\n",
       "    <tr>\n",
       "      <th>1034</th>\n",
       "      <td>711732680602345472</td>\n",
       "      <td>https://pbs.twimg.com/media/CeCVGEbUYAASeY4.jpg</td>\n",
       "      <td>3</td>\n",
       "      <td>dingo</td>\n",
       "      <td>0.366875</td>\n",
       "      <td>False</td>\n",
       "      <td>Ibizan_hound</td>\n",
       "      <td>0.334929</td>\n",
       "      <td>True</td>\n",
       "      <td>Eskimo_dog</td>\n",
       "      <td>0.073876</td>\n",
       "      <td>True</td>\n",
       "    </tr>\n",
       "    <tr>\n",
       "      <th>1325</th>\n",
       "      <td>756998049151549440</td>\n",
       "      <td>https://pbs.twimg.com/media/CoFlsGAWgAA2YeV.jpg</td>\n",
       "      <td>4</td>\n",
       "      <td>golden_retriever</td>\n",
       "      <td>0.678555</td>\n",
       "      <td>True</td>\n",
       "      <td>Labrador_retriever</td>\n",
       "      <td>0.072632</td>\n",
       "      <td>True</td>\n",
       "      <td>Border_terrier</td>\n",
       "      <td>0.049033</td>\n",
       "      <td>True</td>\n",
       "    </tr>\n",
       "    <tr>\n",
       "      <th>1594</th>\n",
       "      <td>798697898615730177</td>\n",
       "      <td>https://pbs.twimg.com/media/CeRoBaxWEAABi0X.jpg</td>\n",
       "      <td>1</td>\n",
       "      <td>Labrador_retriever</td>\n",
       "      <td>0.868671</td>\n",
       "      <td>True</td>\n",
       "      <td>carton</td>\n",
       "      <td>0.095095</td>\n",
       "      <td>False</td>\n",
       "      <td>pug</td>\n",
       "      <td>0.007651</td>\n",
       "      <td>True</td>\n",
       "    </tr>\n",
       "    <tr>\n",
       "      <th>1178</th>\n",
       "      <td>737826014890496000</td>\n",
       "      <td>https://pbs.twimg.com/media/Cj1I1fbWYAAOwff.jpg</td>\n",
       "      <td>1</td>\n",
       "      <td>vizsla</td>\n",
       "      <td>0.990391</td>\n",
       "      <td>True</td>\n",
       "      <td>Rhodesian_ridgeback</td>\n",
       "      <td>0.005605</td>\n",
       "      <td>True</td>\n",
       "      <td>Chesapeake_Bay_retriever</td>\n",
       "      <td>0.002869</td>\n",
       "      <td>True</td>\n",
       "    </tr>\n",
       "    <tr>\n",
       "      <th>313</th>\n",
       "      <td>671561002136281088</td>\n",
       "      <td>https://pbs.twimg.com/media/CVHdK-7WwAAsuyc.jpg</td>\n",
       "      <td>1</td>\n",
       "      <td>Gordon_setter</td>\n",
       "      <td>0.469373</td>\n",
       "      <td>True</td>\n",
       "      <td>black-and-tan_coonhound</td>\n",
       "      <td>0.270893</td>\n",
       "      <td>True</td>\n",
       "      <td>Rottweiler</td>\n",
       "      <td>0.153233</td>\n",
       "      <td>True</td>\n",
       "    </tr>\n",
       "    <tr>\n",
       "      <th>195</th>\n",
       "      <td>669583744538451968</td>\n",
       "      <td>https://pbs.twimg.com/media/CUrW3DWXIAAiRqk.jpg</td>\n",
       "      <td>1</td>\n",
       "      <td>candle</td>\n",
       "      <td>0.174315</td>\n",
       "      <td>False</td>\n",
       "      <td>lampshade</td>\n",
       "      <td>0.120407</td>\n",
       "      <td>False</td>\n",
       "      <td>plunger</td>\n",
       "      <td>0.072099</td>\n",
       "      <td>False</td>\n",
       "    </tr>\n",
       "    <tr>\n",
       "      <th>1665</th>\n",
       "      <td>812503143955202048</td>\n",
       "      <td>https://pbs.twimg.com/media/C0aXTLqXEAADxBi.jpg</td>\n",
       "      <td>2</td>\n",
       "      <td>loupe</td>\n",
       "      <td>0.546856</td>\n",
       "      <td>False</td>\n",
       "      <td>web_site</td>\n",
       "      <td>0.345298</td>\n",
       "      <td>False</td>\n",
       "      <td>bubble</td>\n",
       "      <td>0.010528</td>\n",
       "      <td>False</td>\n",
       "    </tr>\n",
       "    <tr>\n",
       "      <th>288</th>\n",
       "      <td>671159727754231808</td>\n",
       "      <td>https://pbs.twimg.com/media/CVBwNjVWwAAlUFQ.jpg</td>\n",
       "      <td>1</td>\n",
       "      <td>pitcher</td>\n",
       "      <td>0.117446</td>\n",
       "      <td>False</td>\n",
       "      <td>sunglasses</td>\n",
       "      <td>0.062487</td>\n",
       "      <td>False</td>\n",
       "      <td>mask</td>\n",
       "      <td>0.059517</td>\n",
       "      <td>False</td>\n",
       "    </tr>\n",
       "  </tbody>\n",
       "</table>\n",
       "</div>"
      ],
      "text/plain": [
       "                tweet_id                                          jpg_url  \\\n",
       "125   668248472370458624  https://pbs.twimg.com/media/CUYYcMfXAAAixe7.jpg   \n",
       "1758  825535076884762624  https://pbs.twimg.com/media/C3TjvitXAAAI-QH.jpg   \n",
       "1034  711732680602345472  https://pbs.twimg.com/media/CeCVGEbUYAASeY4.jpg   \n",
       "1325  756998049151549440  https://pbs.twimg.com/media/CoFlsGAWgAA2YeV.jpg   \n",
       "1594  798697898615730177  https://pbs.twimg.com/media/CeRoBaxWEAABi0X.jpg   \n",
       "1178  737826014890496000  https://pbs.twimg.com/media/Cj1I1fbWYAAOwff.jpg   \n",
       "313   671561002136281088  https://pbs.twimg.com/media/CVHdK-7WwAAsuyc.jpg   \n",
       "195   669583744538451968  https://pbs.twimg.com/media/CUrW3DWXIAAiRqk.jpg   \n",
       "1665  812503143955202048  https://pbs.twimg.com/media/C0aXTLqXEAADxBi.jpg   \n",
       "288   671159727754231808  https://pbs.twimg.com/media/CVBwNjVWwAAlUFQ.jpg   \n",
       "\n",
       "      img_num                  p1   p1_conf  p1_dog                       p2  \\\n",
       "125         1           Chihuahua  0.734547    True       miniature_pinscher   \n",
       "1758        1          Rottweiler  0.681495    True          Tibetan_mastiff   \n",
       "1034        3               dingo  0.366875   False             Ibizan_hound   \n",
       "1325        4    golden_retriever  0.678555    True       Labrador_retriever   \n",
       "1594        1  Labrador_retriever  0.868671    True                   carton   \n",
       "1178        1              vizsla  0.990391    True      Rhodesian_ridgeback   \n",
       "313         1       Gordon_setter  0.469373    True  black-and-tan_coonhound   \n",
       "195         1              candle  0.174315   False                lampshade   \n",
       "1665        2               loupe  0.546856   False                 web_site   \n",
       "288         1             pitcher  0.117446   False               sunglasses   \n",
       "\n",
       "       p2_conf  p2_dog                        p3   p3_conf  p3_dog  \n",
       "125   0.068294    True               toy_terrier  0.046367    True  \n",
       "1758  0.147940    True   black-and-tan_coonhound  0.024525    True  \n",
       "1034  0.334929    True                Eskimo_dog  0.073876    True  \n",
       "1325  0.072632    True            Border_terrier  0.049033    True  \n",
       "1594  0.095095   False                       pug  0.007651    True  \n",
       "1178  0.005605    True  Chesapeake_Bay_retriever  0.002869    True  \n",
       "313   0.270893    True                Rottweiler  0.153233    True  \n",
       "195   0.120407   False                   plunger  0.072099   False  \n",
       "1665  0.345298   False                    bubble  0.010528   False  \n",
       "288   0.062487   False                      mask  0.059517   False  "
      ]
     },
     "execution_count": 15,
     "metadata": {},
     "output_type": "execute_result"
    }
   ],
   "source": [
    "image_data.sample(10)\n"
   ]
  },
  {
   "cell_type": "code",
   "execution_count": 16,
   "metadata": {},
   "outputs": [
    {
     "data": {
      "text/html": [
       "<div>\n",
       "<style scoped>\n",
       "    .dataframe tbody tr th:only-of-type {\n",
       "        vertical-align: middle;\n",
       "    }\n",
       "\n",
       "    .dataframe tbody tr th {\n",
       "        vertical-align: top;\n",
       "    }\n",
       "\n",
       "    .dataframe thead th {\n",
       "        text-align: right;\n",
       "    }\n",
       "</style>\n",
       "<table border=\"1\" class=\"dataframe\">\n",
       "  <thead>\n",
       "    <tr style=\"text-align: right;\">\n",
       "      <th></th>\n",
       "      <th>tweet_id</th>\n",
       "      <th>img_num</th>\n",
       "      <th>p1_conf</th>\n",
       "      <th>p2_conf</th>\n",
       "      <th>p3_conf</th>\n",
       "    </tr>\n",
       "  </thead>\n",
       "  <tbody>\n",
       "    <tr>\n",
       "      <th>count</th>\n",
       "      <td>2.075000e+03</td>\n",
       "      <td>2075.000000</td>\n",
       "      <td>2075.000000</td>\n",
       "      <td>2.075000e+03</td>\n",
       "      <td>2.075000e+03</td>\n",
       "    </tr>\n",
       "    <tr>\n",
       "      <th>mean</th>\n",
       "      <td>7.384514e+17</td>\n",
       "      <td>1.203855</td>\n",
       "      <td>0.594548</td>\n",
       "      <td>1.345886e-01</td>\n",
       "      <td>6.032417e-02</td>\n",
       "    </tr>\n",
       "    <tr>\n",
       "      <th>std</th>\n",
       "      <td>6.785203e+16</td>\n",
       "      <td>0.561875</td>\n",
       "      <td>0.271174</td>\n",
       "      <td>1.006657e-01</td>\n",
       "      <td>5.090593e-02</td>\n",
       "    </tr>\n",
       "    <tr>\n",
       "      <th>min</th>\n",
       "      <td>6.660209e+17</td>\n",
       "      <td>1.000000</td>\n",
       "      <td>0.044333</td>\n",
       "      <td>1.011300e-08</td>\n",
       "      <td>1.740170e-10</td>\n",
       "    </tr>\n",
       "    <tr>\n",
       "      <th>25%</th>\n",
       "      <td>6.764835e+17</td>\n",
       "      <td>1.000000</td>\n",
       "      <td>0.364412</td>\n",
       "      <td>5.388625e-02</td>\n",
       "      <td>1.622240e-02</td>\n",
       "    </tr>\n",
       "    <tr>\n",
       "      <th>50%</th>\n",
       "      <td>7.119988e+17</td>\n",
       "      <td>1.000000</td>\n",
       "      <td>0.588230</td>\n",
       "      <td>1.181810e-01</td>\n",
       "      <td>4.944380e-02</td>\n",
       "    </tr>\n",
       "    <tr>\n",
       "      <th>75%</th>\n",
       "      <td>7.932034e+17</td>\n",
       "      <td>1.000000</td>\n",
       "      <td>0.843855</td>\n",
       "      <td>1.955655e-01</td>\n",
       "      <td>9.180755e-02</td>\n",
       "    </tr>\n",
       "    <tr>\n",
       "      <th>max</th>\n",
       "      <td>8.924206e+17</td>\n",
       "      <td>4.000000</td>\n",
       "      <td>1.000000</td>\n",
       "      <td>4.880140e-01</td>\n",
       "      <td>2.734190e-01</td>\n",
       "    </tr>\n",
       "  </tbody>\n",
       "</table>\n",
       "</div>"
      ],
      "text/plain": [
       "           tweet_id      img_num      p1_conf       p2_conf       p3_conf\n",
       "count  2.075000e+03  2075.000000  2075.000000  2.075000e+03  2.075000e+03\n",
       "mean   7.384514e+17     1.203855     0.594548  1.345886e-01  6.032417e-02\n",
       "std    6.785203e+16     0.561875     0.271174  1.006657e-01  5.090593e-02\n",
       "min    6.660209e+17     1.000000     0.044333  1.011300e-08  1.740170e-10\n",
       "25%    6.764835e+17     1.000000     0.364412  5.388625e-02  1.622240e-02\n",
       "50%    7.119988e+17     1.000000     0.588230  1.181810e-01  4.944380e-02\n",
       "75%    7.932034e+17     1.000000     0.843855  1.955655e-01  9.180755e-02\n",
       "max    8.924206e+17     4.000000     1.000000  4.880140e-01  2.734190e-01"
      ]
     },
     "execution_count": 16,
     "metadata": {},
     "output_type": "execute_result"
    }
   ],
   "source": [
    "image_data.describe()"
   ]
  },
  {
   "cell_type": "code",
   "execution_count": 17,
   "metadata": {},
   "outputs": [
    {
     "name": "stdout",
     "output_type": "stream",
     "text": [
      "<class 'pandas.core.frame.DataFrame'>\n",
      "RangeIndex: 2075 entries, 0 to 2074\n",
      "Data columns (total 12 columns):\n",
      " #   Column    Non-Null Count  Dtype  \n",
      "---  ------    --------------  -----  \n",
      " 0   tweet_id  2075 non-null   int64  \n",
      " 1   jpg_url   2075 non-null   object \n",
      " 2   img_num   2075 non-null   int64  \n",
      " 3   p1        2075 non-null   object \n",
      " 4   p1_conf   2075 non-null   float64\n",
      " 5   p1_dog    2075 non-null   bool   \n",
      " 6   p2        2075 non-null   object \n",
      " 7   p2_conf   2075 non-null   float64\n",
      " 8   p2_dog    2075 non-null   bool   \n",
      " 9   p3        2075 non-null   object \n",
      " 10  p3_conf   2075 non-null   float64\n",
      " 11  p3_dog    2075 non-null   bool   \n",
      "dtypes: bool(3), float64(3), int64(2), object(4)\n",
      "memory usage: 152.1+ KB\n"
     ]
    }
   ],
   "source": [
    "image_data.info()"
   ]
  },
  {
   "cell_type": "code",
   "execution_count": 18,
   "metadata": {},
   "outputs": [
    {
     "data": {
      "text/html": [
       "<div>\n",
       "<style scoped>\n",
       "    .dataframe tbody tr th:only-of-type {\n",
       "        vertical-align: middle;\n",
       "    }\n",
       "\n",
       "    .dataframe tbody tr th {\n",
       "        vertical-align: top;\n",
       "    }\n",
       "\n",
       "    .dataframe thead th {\n",
       "        text-align: right;\n",
       "    }\n",
       "</style>\n",
       "<table border=\"1\" class=\"dataframe\">\n",
       "  <thead>\n",
       "    <tr style=\"text-align: right;\">\n",
       "      <th></th>\n",
       "      <th>tweet_id</th>\n",
       "      <th>retweet_count</th>\n",
       "      <th>friends_count</th>\n",
       "      <th>favorite_count</th>\n",
       "      <th>followers_count</th>\n",
       "      <th>listed_count</th>\n",
       "    </tr>\n",
       "  </thead>\n",
       "  <tbody>\n",
       "    <tr>\n",
       "      <th>1905</th>\n",
       "      <td>674447403907457024</td>\n",
       "      <td>393</td>\n",
       "      <td>104</td>\n",
       "      <td>1137</td>\n",
       "      <td>3201003</td>\n",
       "      <td>2812</td>\n",
       "    </tr>\n",
       "    <tr>\n",
       "      <th>1065</th>\n",
       "      <td>740676976021798912</td>\n",
       "      <td>7724</td>\n",
       "      <td>104</td>\n",
       "      <td>19881</td>\n",
       "      <td>3200851</td>\n",
       "      <td>2843</td>\n",
       "    </tr>\n",
       "    <tr>\n",
       "      <th>32</th>\n",
       "      <td>885984800019947520</td>\n",
       "      <td>7097</td>\n",
       "      <td>104</td>\n",
       "      <td>33382</td>\n",
       "      <td>3200890</td>\n",
       "      <td>2784</td>\n",
       "    </tr>\n",
       "    <tr>\n",
       "      <th>1040</th>\n",
       "      <td>743895849529389061</td>\n",
       "      <td>1087</td>\n",
       "      <td>104</td>\n",
       "      <td>3999</td>\n",
       "      <td>3200943</td>\n",
       "      <td>2802</td>\n",
       "    </tr>\n",
       "    <tr>\n",
       "      <th>1438</th>\n",
       "      <td>696886256886657024</td>\n",
       "      <td>2016</td>\n",
       "      <td>104</td>\n",
       "      <td>5317</td>\n",
       "      <td>3200950</td>\n",
       "      <td>2803</td>\n",
       "    </tr>\n",
       "    <tr>\n",
       "      <th>743</th>\n",
       "      <td>780192070812196864</td>\n",
       "      <td>2589</td>\n",
       "      <td>104</td>\n",
       "      <td>9712</td>\n",
       "      <td>3200901</td>\n",
       "      <td>2789</td>\n",
       "    </tr>\n",
       "    <tr>\n",
       "      <th>741</th>\n",
       "      <td>780476555013349377</td>\n",
       "      <td>136</td>\n",
       "      <td>104</td>\n",
       "      <td>0</td>\n",
       "      <td>3200901</td>\n",
       "      <td>2789</td>\n",
       "    </tr>\n",
       "    <tr>\n",
       "      <th>275</th>\n",
       "      <td>840632337062862849</td>\n",
       "      <td>1972</td>\n",
       "      <td>104</td>\n",
       "      <td>9761</td>\n",
       "      <td>3200891</td>\n",
       "      <td>2786</td>\n",
       "    </tr>\n",
       "    <tr>\n",
       "      <th>853</th>\n",
       "      <td>764857477905154048</td>\n",
       "      <td>2029</td>\n",
       "      <td>104</td>\n",
       "      <td>7099</td>\n",
       "      <td>3200907</td>\n",
       "      <td>2789</td>\n",
       "    </tr>\n",
       "    <tr>\n",
       "      <th>729</th>\n",
       "      <td>781661882474196992</td>\n",
       "      <td>3129</td>\n",
       "      <td>104</td>\n",
       "      <td>11634</td>\n",
       "      <td>3200901</td>\n",
       "      <td>2789</td>\n",
       "    </tr>\n",
       "  </tbody>\n",
       "</table>\n",
       "</div>"
      ],
      "text/plain": [
       "                tweet_id  retweet_count  friends_count  favorite_count  \\\n",
       "1905  674447403907457024            393            104            1137   \n",
       "1065  740676976021798912           7724            104           19881   \n",
       "32    885984800019947520           7097            104           33382   \n",
       "1040  743895849529389061           1087            104            3999   \n",
       "1438  696886256886657024           2016            104            5317   \n",
       "743   780192070812196864           2589            104            9712   \n",
       "741   780476555013349377            136            104               0   \n",
       "275   840632337062862849           1972            104            9761   \n",
       "853   764857477905154048           2029            104            7099   \n",
       "729   781661882474196992           3129            104           11634   \n",
       "\n",
       "      followers_count  listed_count  \n",
       "1905          3201003          2812  \n",
       "1065          3200851          2843  \n",
       "32            3200890          2784  \n",
       "1040          3200943          2802  \n",
       "1438          3200950          2803  \n",
       "743           3200901          2789  \n",
       "741           3200901          2789  \n",
       "275           3200891          2786  \n",
       "853           3200907          2789  \n",
       "729           3200901          2789  "
      ]
     },
     "execution_count": 18,
     "metadata": {},
     "output_type": "execute_result"
    }
   ],
   "source": [
    "Json_data.sample(10)"
   ]
  },
  {
   "cell_type": "code",
   "execution_count": 19,
   "metadata": {},
   "outputs": [
    {
     "data": {
      "text/html": [
       "<div>\n",
       "<style scoped>\n",
       "    .dataframe tbody tr th:only-of-type {\n",
       "        vertical-align: middle;\n",
       "    }\n",
       "\n",
       "    .dataframe tbody tr th {\n",
       "        vertical-align: top;\n",
       "    }\n",
       "\n",
       "    .dataframe thead th {\n",
       "        text-align: right;\n",
       "    }\n",
       "</style>\n",
       "<table border=\"1\" class=\"dataframe\">\n",
       "  <thead>\n",
       "    <tr style=\"text-align: right;\">\n",
       "      <th></th>\n",
       "      <th>tweet_id</th>\n",
       "      <th>retweet_count</th>\n",
       "      <th>friends_count</th>\n",
       "      <th>favorite_count</th>\n",
       "      <th>followers_count</th>\n",
       "      <th>listed_count</th>\n",
       "    </tr>\n",
       "  </thead>\n",
       "  <tbody>\n",
       "    <tr>\n",
       "      <th>count</th>\n",
       "      <td>2.354000e+03</td>\n",
       "      <td>2354.000000</td>\n",
       "      <td>2354.0</td>\n",
       "      <td>2354.000000</td>\n",
       "      <td>2.354000e+03</td>\n",
       "      <td>2354.000000</td>\n",
       "    </tr>\n",
       "    <tr>\n",
       "      <th>mean</th>\n",
       "      <td>7.426978e+17</td>\n",
       "      <td>3164.797366</td>\n",
       "      <td>104.0</td>\n",
       "      <td>8080.968564</td>\n",
       "      <td>3.200942e+06</td>\n",
       "      <td>2799.480884</td>\n",
       "    </tr>\n",
       "    <tr>\n",
       "      <th>std</th>\n",
       "      <td>6.852812e+16</td>\n",
       "      <td>5284.770364</td>\n",
       "      <td>0.0</td>\n",
       "      <td>11814.771334</td>\n",
       "      <td>4.457302e+01</td>\n",
       "      <td>11.178223</td>\n",
       "    </tr>\n",
       "    <tr>\n",
       "      <th>min</th>\n",
       "      <td>6.660209e+17</td>\n",
       "      <td>0.000000</td>\n",
       "      <td>104.0</td>\n",
       "      <td>0.000000</td>\n",
       "      <td>3.200799e+06</td>\n",
       "      <td>2724.000000</td>\n",
       "    </tr>\n",
       "    <tr>\n",
       "      <th>25%</th>\n",
       "      <td>6.783975e+17</td>\n",
       "      <td>624.500000</td>\n",
       "      <td>104.0</td>\n",
       "      <td>1415.000000</td>\n",
       "      <td>3.200898e+06</td>\n",
       "      <td>2788.000000</td>\n",
       "    </tr>\n",
       "    <tr>\n",
       "      <th>50%</th>\n",
       "      <td>7.194596e+17</td>\n",
       "      <td>1473.500000</td>\n",
       "      <td>104.0</td>\n",
       "      <td>3603.500000</td>\n",
       "      <td>3.200945e+06</td>\n",
       "      <td>2803.000000</td>\n",
       "    </tr>\n",
       "    <tr>\n",
       "      <th>75%</th>\n",
       "      <td>7.993058e+17</td>\n",
       "      <td>3652.000000</td>\n",
       "      <td>104.0</td>\n",
       "      <td>10122.250000</td>\n",
       "      <td>3.200953e+06</td>\n",
       "      <td>2805.000000</td>\n",
       "    </tr>\n",
       "    <tr>\n",
       "      <th>max</th>\n",
       "      <td>8.924206e+17</td>\n",
       "      <td>79515.000000</td>\n",
       "      <td>104.0</td>\n",
       "      <td>132810.000000</td>\n",
       "      <td>3.201018e+06</td>\n",
       "      <td>2846.000000</td>\n",
       "    </tr>\n",
       "  </tbody>\n",
       "</table>\n",
       "</div>"
      ],
      "text/plain": [
       "           tweet_id  retweet_count  friends_count  favorite_count  \\\n",
       "count  2.354000e+03    2354.000000         2354.0     2354.000000   \n",
       "mean   7.426978e+17    3164.797366          104.0     8080.968564   \n",
       "std    6.852812e+16    5284.770364            0.0    11814.771334   \n",
       "min    6.660209e+17       0.000000          104.0        0.000000   \n",
       "25%    6.783975e+17     624.500000          104.0     1415.000000   \n",
       "50%    7.194596e+17    1473.500000          104.0     3603.500000   \n",
       "75%    7.993058e+17    3652.000000          104.0    10122.250000   \n",
       "max    8.924206e+17   79515.000000          104.0   132810.000000   \n",
       "\n",
       "       followers_count  listed_count  \n",
       "count     2.354000e+03   2354.000000  \n",
       "mean      3.200942e+06   2799.480884  \n",
       "std       4.457302e+01     11.178223  \n",
       "min       3.200799e+06   2724.000000  \n",
       "25%       3.200898e+06   2788.000000  \n",
       "50%       3.200945e+06   2803.000000  \n",
       "75%       3.200953e+06   2805.000000  \n",
       "max       3.201018e+06   2846.000000  "
      ]
     },
     "execution_count": 19,
     "metadata": {},
     "output_type": "execute_result"
    }
   ],
   "source": [
    "Json_data.describe()\n",
    "  "
   ]
  },
  {
   "cell_type": "code",
   "execution_count": 20,
   "metadata": {},
   "outputs": [
    {
     "name": "stdout",
     "output_type": "stream",
     "text": [
      "<class 'pandas.core.frame.DataFrame'>\n",
      "RangeIndex: 2354 entries, 0 to 2353\n",
      "Data columns (total 6 columns):\n",
      " #   Column           Non-Null Count  Dtype\n",
      "---  ------           --------------  -----\n",
      " 0   tweet_id         2354 non-null   int64\n",
      " 1   retweet_count    2354 non-null   int64\n",
      " 2   friends_count    2354 non-null   int64\n",
      " 3   favorite_count   2354 non-null   int64\n",
      " 4   followers_count  2354 non-null   int64\n",
      " 5   listed_count     2354 non-null   int64\n",
      "dtypes: int64(6)\n",
      "memory usage: 110.5 KB\n"
     ]
    }
   ],
   "source": [
    "Json_data.info()"
   ]
  },
  {
   "cell_type": "code",
   "execution_count": null,
   "metadata": {},
   "outputs": [],
   "source": []
  },
  {
   "cell_type": "code",
   "execution_count": 21,
   "metadata": {},
   "outputs": [
    {
     "data": {
      "text/plain": [
       "(2356, 17)"
      ]
     },
     "execution_count": 21,
     "metadata": {},
     "output_type": "execute_result"
    }
   ],
   "source": [
    "twitter_archive_data.shape"
   ]
  },
  {
   "cell_type": "code",
   "execution_count": 22,
   "metadata": {},
   "outputs": [
    {
     "data": {
      "text/plain": [
       "(2075, 12)"
      ]
     },
     "execution_count": 22,
     "metadata": {},
     "output_type": "execute_result"
    }
   ],
   "source": [
    "image_data.shape\n"
   ]
  },
  {
   "cell_type": "code",
   "execution_count": 23,
   "metadata": {},
   "outputs": [
    {
     "data": {
      "text/plain": [
       "(2354, 6)"
      ]
     },
     "execution_count": 23,
     "metadata": {},
     "output_type": "execute_result"
    }
   ],
   "source": [
    "Json_data.shape"
   ]
  },
  {
   "cell_type": "code",
   "execution_count": null,
   "metadata": {},
   "outputs": [],
   "source": []
  },
  {
   "cell_type": "code",
   "execution_count": null,
   "metadata": {},
   "outputs": [],
   "source": []
  },
  {
   "cell_type": "markdown",
   "metadata": {},
   "source": [
    "### Quality issues\n",
    "\n",
    "###### Twitter archive table\n",
    "1. Missing data in 'in_reply_to_status_id', 'in_reply_to_user_id', 'retweeted_status_id', 'retweeted_status_user_id','retweeted_status_timestamp' columns\n",
    "\n",
    "2. Content not original tweets in 'in_reply_to_status_id', 'in_reply_to_user_id', 'retweeted_status_id', 'retweeted_status_user_id','retweeted_status_timestamp' columns\n",
    "\n",
    "3. Some values in name column does not look like name of a noun\n",
    "\n",
    "4. Text containing \"We only rate dogs\" and \"I only rate dogs\" suggest rating is not for a dog\n",
    "\n",
    "5. Some text description indicates retweeted text and not original tweets\n",
    "\n",
    "6. timestamp column is object type instead of datetime            \n",
    "\n",
    "7. denominator column has value more than 10\n",
    "\n",
    "8. Missing rows in expanded_urls columns\n"
   ]
  },
  {
   "cell_type": "markdown",
   "metadata": {
    "extensions": {
     "jupyter_dashboards": {
      "version": 1,
      "views": {
       "grid_default": {
        "col": 0,
        "height": 7,
        "hidden": false,
        "row": 40,
        "width": 12
       },
       "report_default": {
        "hidden": false
       }
      }
     }
    }
   },
   "source": [
    "### Tidiness issues\n",
    "\n",
    "###### Image data table\n",
    "1. Unclear column names of p1, p1_conf, p1_dog, p2\tp2_conf, p2_dog, p3, p3_conf, p3_dog\n",
    "\n",
    "###### Tweet archive data table\n",
    "\n",
    "2. Unpivot the dogs stage columns (doggo, floofer, pupper, puppo)"
   ]
  },
  {
   "cell_type": "markdown",
   "metadata": {
    "extensions": {
     "jupyter_dashboards": {
      "version": 1,
      "views": {
       "grid_default": {
        "col": 4,
        "height": 4,
        "hidden": false,
        "row": 32,
        "width": 4
       },
       "report_default": {
        "hidden": false
       }
      }
     }
    }
   },
   "source": [
    "## Cleaning Data\n",
    "In this section, clean **all** of the issues you documented while assessing. \n",
    "\n",
    "**Note:** Make a copy of the original data before cleaning. Cleaning includes merging individual pieces of data according to the rules of [tidy data](https://cran.r-project.org/web/packages/tidyr/vignettes/tidy-data.html). The result should be a high-quality and tidy master pandas DataFrame (or DataFrames, if appropriate)."
   ]
  },
  {
   "cell_type": "code",
   "execution_count": 24,
   "metadata": {},
   "outputs": [],
   "source": [
    "# Make copies of original pieces of data\n",
    "\n",
    "twitter_archive_data2 = twitter_df.copy()\n",
    "image_data2 = image_df.copy()\n",
    "Json_data2 = tweet_json_data.copy()"
   ]
  },
  {
   "cell_type": "markdown",
   "metadata": {},
   "source": [
    "### Issues one"
   ]
  },
  {
   "cell_type": "markdown",
   "metadata": {},
   "source": [
    "#### Define:  Table contained retweeted data\n",
    "\n",
    "Remove rows with these data "
   ]
  },
  {
   "cell_type": "markdown",
   "metadata": {},
   "source": [
    "#### Code"
   ]
  },
  {
   "cell_type": "code",
   "execution_count": 25,
   "metadata": {},
   "outputs": [
    {
     "data": {
      "text/plain": [
       "Index(['tweet_id', 'in_reply_to_status_id', 'in_reply_to_user_id', 'timestamp',\n",
       "       'source', 'text', 'retweeted_status_id', 'retweeted_status_user_id',\n",
       "       'retweeted_status_timestamp', 'expanded_urls', 'rating_numerator',\n",
       "       'rating_denominator', 'name', 'doggo', 'floofer', 'pupper', 'puppo'],\n",
       "      dtype='object')"
      ]
     },
     "execution_count": 25,
     "metadata": {},
     "output_type": "execute_result"
    }
   ],
   "source": [
    "twitter_archive_data2.columns"
   ]
  },
  {
   "cell_type": "code",
   "execution_count": 26,
   "metadata": {},
   "outputs": [
    {
     "name": "stdout",
     "output_type": "stream",
     "text": [
      "<class 'pandas.core.frame.DataFrame'>\n",
      "RangeIndex: 2356 entries, 0 to 2355\n",
      "Data columns (total 17 columns):\n",
      " #   Column                      Non-Null Count  Dtype  \n",
      "---  ------                      --------------  -----  \n",
      " 0   tweet_id                    2356 non-null   int64  \n",
      " 1   in_reply_to_status_id       78 non-null     float64\n",
      " 2   in_reply_to_user_id         78 non-null     float64\n",
      " 3   timestamp                   2356 non-null   object \n",
      " 4   source                      2356 non-null   object \n",
      " 5   text                        2356 non-null   object \n",
      " 6   retweeted_status_id         181 non-null    float64\n",
      " 7   retweeted_status_user_id    181 non-null    float64\n",
      " 8   retweeted_status_timestamp  181 non-null    object \n",
      " 9   expanded_urls               2297 non-null   object \n",
      " 10  rating_numerator            2356 non-null   int64  \n",
      " 11  rating_denominator          2356 non-null   int64  \n",
      " 12  name                        2356 non-null   object \n",
      " 13  doggo                       2356 non-null   object \n",
      " 14  floofer                     2356 non-null   object \n",
      " 15  pupper                      2356 non-null   object \n",
      " 16  puppo                       2356 non-null   object \n",
      "dtypes: float64(4), int64(3), object(10)\n",
      "memory usage: 313.0+ KB\n"
     ]
    }
   ],
   "source": [
    "twitter_archive_data2.info()"
   ]
  },
  {
   "cell_type": "code",
   "execution_count": 27,
   "metadata": {},
   "outputs": [],
   "source": [
    "twitter_archive_data2.drop(twitter_archive_data2[twitter_archive_data2['retweeted_status_id'] > 0].index, inplace=True)"
   ]
  },
  {
   "cell_type": "markdown",
   "metadata": {},
   "source": [
    "#### Test"
   ]
  },
  {
   "cell_type": "code",
   "execution_count": 28,
   "metadata": {},
   "outputs": [
    {
     "name": "stdout",
     "output_type": "stream",
     "text": [
      "<class 'pandas.core.frame.DataFrame'>\n",
      "Int64Index: 2175 entries, 0 to 2355\n",
      "Data columns (total 17 columns):\n",
      " #   Column                      Non-Null Count  Dtype  \n",
      "---  ------                      --------------  -----  \n",
      " 0   tweet_id                    2175 non-null   int64  \n",
      " 1   in_reply_to_status_id       78 non-null     float64\n",
      " 2   in_reply_to_user_id         78 non-null     float64\n",
      " 3   timestamp                   2175 non-null   object \n",
      " 4   source                      2175 non-null   object \n",
      " 5   text                        2175 non-null   object \n",
      " 6   retweeted_status_id         0 non-null      float64\n",
      " 7   retweeted_status_user_id    0 non-null      float64\n",
      " 8   retweeted_status_timestamp  0 non-null      object \n",
      " 9   expanded_urls               2117 non-null   object \n",
      " 10  rating_numerator            2175 non-null   int64  \n",
      " 11  rating_denominator          2175 non-null   int64  \n",
      " 12  name                        2175 non-null   object \n",
      " 13  doggo                       2175 non-null   object \n",
      " 14  floofer                     2175 non-null   object \n",
      " 15  pupper                      2175 non-null   object \n",
      " 16  puppo                       2175 non-null   object \n",
      "dtypes: float64(4), int64(3), object(10)\n",
      "memory usage: 305.9+ KB\n"
     ]
    }
   ],
   "source": [
    "twitter_archive_data2.info()"
   ]
  },
  {
   "cell_type": "code",
   "execution_count": 29,
   "metadata": {},
   "outputs": [
    {
     "data": {
      "text/plain": [
       "(2175, 17)"
      ]
     },
     "execution_count": 29,
     "metadata": {},
     "output_type": "execute_result"
    }
   ],
   "source": [
    "twitter_archive_data2.shape"
   ]
  },
  {
   "cell_type": "markdown",
   "metadata": {},
   "source": [
    "### Issue #2:"
   ]
  },
  {
   "cell_type": "markdown",
   "metadata": {
    "collapsed": true,
    "extensions": {
     "jupyter_dashboards": {
      "version": 1,
      "views": {
       "grid_default": {
        "hidden": true
       },
       "report_default": {
        "hidden": true
       }
      }
     }
    }
   },
   "source": [
    "#### Define : Table contained replied tweets.\n",
    "\n",
    "Remove all replied tweets"
   ]
  },
  {
   "cell_type": "markdown",
   "metadata": {},
   "source": [
    "#### Code"
   ]
  },
  {
   "cell_type": "code",
   "execution_count": 30,
   "metadata": {},
   "outputs": [],
   "source": [
    "twitter_archive_data2.drop(twitter_archive_data2[twitter_archive_data2['in_reply_to_status_id'] > 0].index, inplace=True)"
   ]
  },
  {
   "cell_type": "markdown",
   "metadata": {},
   "source": [
    "#### Test"
   ]
  },
  {
   "cell_type": "code",
   "execution_count": 31,
   "metadata": {},
   "outputs": [
    {
     "name": "stdout",
     "output_type": "stream",
     "text": [
      "<class 'pandas.core.frame.DataFrame'>\n",
      "Int64Index: 2097 entries, 0 to 2355\n",
      "Data columns (total 17 columns):\n",
      " #   Column                      Non-Null Count  Dtype  \n",
      "---  ------                      --------------  -----  \n",
      " 0   tweet_id                    2097 non-null   int64  \n",
      " 1   in_reply_to_status_id       0 non-null      float64\n",
      " 2   in_reply_to_user_id         0 non-null      float64\n",
      " 3   timestamp                   2097 non-null   object \n",
      " 4   source                      2097 non-null   object \n",
      " 5   text                        2097 non-null   object \n",
      " 6   retweeted_status_id         0 non-null      float64\n",
      " 7   retweeted_status_user_id    0 non-null      float64\n",
      " 8   retweeted_status_timestamp  0 non-null      object \n",
      " 9   expanded_urls               2094 non-null   object \n",
      " 10  rating_numerator            2097 non-null   int64  \n",
      " 11  rating_denominator          2097 non-null   int64  \n",
      " 12  name                        2097 non-null   object \n",
      " 13  doggo                       2097 non-null   object \n",
      " 14  floofer                     2097 non-null   object \n",
      " 15  pupper                      2097 non-null   object \n",
      " 16  puppo                       2097 non-null   object \n",
      "dtypes: float64(4), int64(3), object(10)\n",
      "memory usage: 294.9+ KB\n"
     ]
    }
   ],
   "source": [
    "twitter_archive_data2.info()"
   ]
  },
  {
   "cell_type": "code",
   "execution_count": 32,
   "metadata": {},
   "outputs": [
    {
     "data": {
      "text/plain": [
       "(2097, 17)"
      ]
     },
     "execution_count": 32,
     "metadata": {},
     "output_type": "execute_result"
    }
   ],
   "source": [
    "twitter_archive_data2.shape"
   ]
  },
  {
   "cell_type": "markdown",
   "metadata": {},
   "source": [
    "### Issue #3:"
   ]
  },
  {
   "cell_type": "markdown",
   "metadata": {},
   "source": [
    "#### Define : Tweet archive contained columns with no values.\n",
    "\n",
    "Remove all columns with no values.\n",
    "\n",
    "Removing in_reply_to_status_id', 'in_reply_to_user_id','retweeted_status_id', 'retweeted_status_user_id', 'retweeted_status_timestamp' columns"
   ]
  },
  {
   "cell_type": "markdown",
   "metadata": {},
   "source": [
    "#### Code"
   ]
  },
  {
   "cell_type": "code",
   "execution_count": 33,
   "metadata": {},
   "outputs": [
    {
     "name": "stdout",
     "output_type": "stream",
     "text": [
      "<class 'pandas.core.frame.DataFrame'>\n",
      "Int64Index: 2097 entries, 0 to 2355\n",
      "Data columns (total 17 columns):\n",
      " #   Column                      Non-Null Count  Dtype  \n",
      "---  ------                      --------------  -----  \n",
      " 0   tweet_id                    2097 non-null   int64  \n",
      " 1   in_reply_to_status_id       0 non-null      float64\n",
      " 2   in_reply_to_user_id         0 non-null      float64\n",
      " 3   timestamp                   2097 non-null   object \n",
      " 4   source                      2097 non-null   object \n",
      " 5   text                        2097 non-null   object \n",
      " 6   retweeted_status_id         0 non-null      float64\n",
      " 7   retweeted_status_user_id    0 non-null      float64\n",
      " 8   retweeted_status_timestamp  0 non-null      object \n",
      " 9   expanded_urls               2094 non-null   object \n",
      " 10  rating_numerator            2097 non-null   int64  \n",
      " 11  rating_denominator          2097 non-null   int64  \n",
      " 12  name                        2097 non-null   object \n",
      " 13  doggo                       2097 non-null   object \n",
      " 14  floofer                     2097 non-null   object \n",
      " 15  pupper                      2097 non-null   object \n",
      " 16  puppo                       2097 non-null   object \n",
      "dtypes: float64(4), int64(3), object(10)\n",
      "memory usage: 294.9+ KB\n"
     ]
    }
   ],
   "source": [
    "twitter_archive_data2.info()"
   ]
  },
  {
   "cell_type": "code",
   "execution_count": 34,
   "metadata": {},
   "outputs": [],
   "source": [
    "twitter_archive_data2.drop(['in_reply_to_status_id', 'in_reply_to_user_id','retweeted_status_id', 'retweeted_status_user_id',\n",
    "       'retweeted_status_timestamp'], axis = 1, inplace=True)"
   ]
  },
  {
   "cell_type": "markdown",
   "metadata": {},
   "source": [
    "### Test"
   ]
  },
  {
   "cell_type": "code",
   "execution_count": 35,
   "metadata": {},
   "outputs": [
    {
     "name": "stdout",
     "output_type": "stream",
     "text": [
      "<class 'pandas.core.frame.DataFrame'>\n",
      "Int64Index: 2097 entries, 0 to 2355\n",
      "Data columns (total 12 columns):\n",
      " #   Column              Non-Null Count  Dtype \n",
      "---  ------              --------------  ----- \n",
      " 0   tweet_id            2097 non-null   int64 \n",
      " 1   timestamp           2097 non-null   object\n",
      " 2   source              2097 non-null   object\n",
      " 3   text                2097 non-null   object\n",
      " 4   expanded_urls       2094 non-null   object\n",
      " 5   rating_numerator    2097 non-null   int64 \n",
      " 6   rating_denominator  2097 non-null   int64 \n",
      " 7   name                2097 non-null   object\n",
      " 8   doggo               2097 non-null   object\n",
      " 9   floofer             2097 non-null   object\n",
      " 10  pupper              2097 non-null   object\n",
      " 11  puppo               2097 non-null   object\n",
      "dtypes: int64(3), object(9)\n",
      "memory usage: 213.0+ KB\n"
     ]
    }
   ],
   "source": [
    "twitter_archive_data2.info()"
   ]
  },
  {
   "cell_type": "code",
   "execution_count": null,
   "metadata": {},
   "outputs": [],
   "source": []
  },
  {
   "cell_type": "markdown",
   "metadata": {},
   "source": [
    "### Issue 4"
   ]
  },
  {
   "cell_type": "markdown",
   "metadata": {},
   "source": [
    "### Define\n",
    "\n",
    "timestamp column in twitter archive table is object type instead of datetime"
   ]
  },
  {
   "cell_type": "markdown",
   "metadata": {},
   "source": [
    "### code"
   ]
  },
  {
   "cell_type": "code",
   "execution_count": 36,
   "metadata": {},
   "outputs": [],
   "source": [
    "# Code to convert timestamp from object to datetime\n",
    "twitter_archive_data2.timestamp = pd.to_datetime(twitter_archive_data2.timestamp)"
   ]
  },
  {
   "cell_type": "markdown",
   "metadata": {},
   "source": [
    "### test"
   ]
  },
  {
   "cell_type": "code",
   "execution_count": 37,
   "metadata": {},
   "outputs": [
    {
     "name": "stdout",
     "output_type": "stream",
     "text": [
      "<class 'pandas.core.frame.DataFrame'>\n",
      "Int64Index: 2097 entries, 0 to 2355\n",
      "Data columns (total 12 columns):\n",
      " #   Column              Non-Null Count  Dtype              \n",
      "---  ------              --------------  -----              \n",
      " 0   tweet_id            2097 non-null   int64              \n",
      " 1   timestamp           2097 non-null   datetime64[ns, UTC]\n",
      " 2   source              2097 non-null   object             \n",
      " 3   text                2097 non-null   object             \n",
      " 4   expanded_urls       2094 non-null   object             \n",
      " 5   rating_numerator    2097 non-null   int64              \n",
      " 6   rating_denominator  2097 non-null   int64              \n",
      " 7   name                2097 non-null   object             \n",
      " 8   doggo               2097 non-null   object             \n",
      " 9   floofer             2097 non-null   object             \n",
      " 10  pupper              2097 non-null   object             \n",
      " 11  puppo               2097 non-null   object             \n",
      "dtypes: datetime64[ns, UTC](1), int64(3), object(8)\n",
      "memory usage: 213.0+ KB\n"
     ]
    }
   ],
   "source": [
    "twitter_archive_data2.info()"
   ]
  },
  {
   "cell_type": "markdown",
   "metadata": {},
   "source": [
    "### Issue 5"
   ]
  },
  {
   "cell_type": "markdown",
   "metadata": {},
   "source": [
    "#### Define\n",
    "\n",
    "Replace none to nan in dog stages column to aid these columns restructuring in twitter archive table"
   ]
  },
  {
   "cell_type": "markdown",
   "metadata": {},
   "source": [
    "#### Code"
   ]
  },
  {
   "cell_type": "code",
   "execution_count": null,
   "metadata": {},
   "outputs": [],
   "source": []
  },
  {
   "cell_type": "code",
   "execution_count": 38,
   "metadata": {},
   "outputs": [],
   "source": [
    "twitter_archive_data2['doggo'] = twitter_archive_data2['doggo'].replace('None', \"\")"
   ]
  },
  {
   "cell_type": "code",
   "execution_count": 39,
   "metadata": {},
   "outputs": [],
   "source": [
    "twitter_archive_data2['floofer'] = twitter_archive_data2['floofer'].replace('None', \"\")"
   ]
  },
  {
   "cell_type": "code",
   "execution_count": 40,
   "metadata": {},
   "outputs": [],
   "source": [
    "twitter_archive_data2['pupper'] = twitter_archive_data2['pupper'].replace('None', \"\")"
   ]
  },
  {
   "cell_type": "code",
   "execution_count": 41,
   "metadata": {},
   "outputs": [],
   "source": [
    "twitter_archive_data2['puppo'] = twitter_archive_data2['puppo'].replace('None', \"\")"
   ]
  },
  {
   "cell_type": "code",
   "execution_count": null,
   "metadata": {},
   "outputs": [],
   "source": []
  },
  {
   "cell_type": "markdown",
   "metadata": {},
   "source": [
    "#### Test"
   ]
  },
  {
   "cell_type": "code",
   "execution_count": 42,
   "metadata": {},
   "outputs": [
    {
     "data": {
      "text/plain": [
       "array(['', 'doggo'], dtype=object)"
      ]
     },
     "execution_count": 42,
     "metadata": {},
     "output_type": "execute_result"
    }
   ],
   "source": [
    "twitter_archive_data2['doggo'].unique()"
   ]
  },
  {
   "cell_type": "code",
   "execution_count": 43,
   "metadata": {},
   "outputs": [
    {
     "data": {
      "text/plain": [
       "array(['', 'floofer'], dtype=object)"
      ]
     },
     "execution_count": 43,
     "metadata": {},
     "output_type": "execute_result"
    }
   ],
   "source": [
    "twitter_archive_data2['floofer'].unique()"
   ]
  },
  {
   "cell_type": "code",
   "execution_count": 44,
   "metadata": {},
   "outputs": [
    {
     "data": {
      "text/plain": [
       "array(['', 'pupper'], dtype=object)"
      ]
     },
     "execution_count": 44,
     "metadata": {},
     "output_type": "execute_result"
    }
   ],
   "source": [
    "twitter_archive_data2['pupper'].unique()"
   ]
  },
  {
   "cell_type": "code",
   "execution_count": 45,
   "metadata": {},
   "outputs": [
    {
     "data": {
      "text/plain": [
       "array(['', 'puppo'], dtype=object)"
      ]
     },
     "execution_count": 45,
     "metadata": {},
     "output_type": "execute_result"
    }
   ],
   "source": [
    "twitter_archive_data2['puppo'].unique()"
   ]
  },
  {
   "cell_type": "code",
   "execution_count": 46,
   "metadata": {},
   "outputs": [
    {
     "name": "stdout",
     "output_type": "stream",
     "text": [
      "<class 'pandas.core.frame.DataFrame'>\n",
      "Int64Index: 2097 entries, 0 to 2355\n",
      "Data columns (total 12 columns):\n",
      " #   Column              Non-Null Count  Dtype              \n",
      "---  ------              --------------  -----              \n",
      " 0   tweet_id            2097 non-null   int64              \n",
      " 1   timestamp           2097 non-null   datetime64[ns, UTC]\n",
      " 2   source              2097 non-null   object             \n",
      " 3   text                2097 non-null   object             \n",
      " 4   expanded_urls       2094 non-null   object             \n",
      " 5   rating_numerator    2097 non-null   int64              \n",
      " 6   rating_denominator  2097 non-null   int64              \n",
      " 7   name                2097 non-null   object             \n",
      " 8   doggo               2097 non-null   object             \n",
      " 9   floofer             2097 non-null   object             \n",
      " 10  pupper              2097 non-null   object             \n",
      " 11  puppo               2097 non-null   object             \n",
      "dtypes: datetime64[ns, UTC](1), int64(3), object(8)\n",
      "memory usage: 213.0+ KB\n"
     ]
    }
   ],
   "source": [
    "twitter_archive_data2.info()"
   ]
  },
  {
   "cell_type": "code",
   "execution_count": 47,
   "metadata": {},
   "outputs": [
    {
     "data": {
      "text/plain": [
       "'Happy 4/20 from the squad! 13/10 for all https://t.co/eV1diwds8a'"
      ]
     },
     "execution_count": 47,
     "metadata": {},
     "output_type": "execute_result"
    }
   ],
   "source": [
    "twitter_archive_data2['text'][1165]"
   ]
  },
  {
   "cell_type": "code",
   "execution_count": null,
   "metadata": {},
   "outputs": [],
   "source": []
  },
  {
   "cell_type": "markdown",
   "metadata": {},
   "source": [
    "### Issue 6"
   ]
  },
  {
   "cell_type": "markdown",
   "metadata": {},
   "source": [
    "#### Define\n",
    "\n",
    "Some numerator and denominator ratings are not correct. Based on details in text column.\n",
    "\n",
    "Extracting the ratings for both numerator and denominator"
   ]
  },
  {
   "cell_type": "markdown",
   "metadata": {},
   "source": [
    "#### Code"
   ]
  },
  {
   "cell_type": "code",
   "execution_count": 48,
   "metadata": {},
   "outputs": [],
   "source": [
    "import re"
   ]
  },
  {
   "cell_type": "markdown",
   "metadata": {},
   "source": [
    "###### Regex selection"
   ]
  },
  {
   "cell_type": "code",
   "execution_count": 49,
   "metadata": {},
   "outputs": [],
   "source": [
    "regex = r\"(\\d+)/(\\d+)\""
   ]
  },
  {
   "cell_type": "code",
   "execution_count": null,
   "metadata": {},
   "outputs": [],
   "source": []
  },
  {
   "cell_type": "markdown",
   "metadata": {},
   "source": [
    "###### Rating numerator change"
   ]
  },
  {
   "cell_type": "code",
   "execution_count": 50,
   "metadata": {},
   "outputs": [],
   "source": [
    "def rating_numerator(data):\n",
    "    match_findall = re.findall(regex, data)\n",
    "    if len(match_findall) > 1:\n",
    "        return(match_findall[-1][0])\n",
    "    else:\n",
    "        return(match_findall[0][0])\n",
    "    \n"
   ]
  },
  {
   "cell_type": "code",
   "execution_count": 51,
   "metadata": {},
   "outputs": [],
   "source": [
    "twitter_archive_data2['rating_numerator2'] = twitter_archive_data2['text'].apply(rating_numerator).astype('int64')"
   ]
  },
  {
   "cell_type": "code",
   "execution_count": null,
   "metadata": {},
   "outputs": [],
   "source": []
  },
  {
   "cell_type": "markdown",
   "metadata": {},
   "source": [
    "###### Rating denominator change"
   ]
  },
  {
   "cell_type": "code",
   "execution_count": 52,
   "metadata": {},
   "outputs": [],
   "source": [
    "def rating_denominator(data):\n",
    "    match_findall = re.findall(regex, data)\n",
    "    if len(match_findall) > 1:\n",
    "        return(match_findall[-1][1])\n",
    "    else:\n",
    "        return(match_findall[0][1])\n",
    "    \n"
   ]
  },
  {
   "cell_type": "code",
   "execution_count": 53,
   "metadata": {},
   "outputs": [],
   "source": [
    "twitter_archive_data2['rating_denominator2'] = twitter_archive_data2['text'].apply(rating_denominator).astype('int64')"
   ]
  },
  {
   "cell_type": "code",
   "execution_count": null,
   "metadata": {},
   "outputs": [],
   "source": []
  },
  {
   "cell_type": "markdown",
   "metadata": {},
   "source": [
    "#### Test"
   ]
  },
  {
   "cell_type": "code",
   "execution_count": 54,
   "metadata": {},
   "outputs": [
    {
     "data": {
      "text/html": [
       "<div>\n",
       "<style scoped>\n",
       "    .dataframe tbody tr th:only-of-type {\n",
       "        vertical-align: middle;\n",
       "    }\n",
       "\n",
       "    .dataframe tbody tr th {\n",
       "        vertical-align: top;\n",
       "    }\n",
       "\n",
       "    .dataframe thead th {\n",
       "        text-align: right;\n",
       "    }\n",
       "</style>\n",
       "<table border=\"1\" class=\"dataframe\">\n",
       "  <thead>\n",
       "    <tr style=\"text-align: right;\">\n",
       "      <th></th>\n",
       "      <th>tweet_id</th>\n",
       "      <th>timestamp</th>\n",
       "      <th>source</th>\n",
       "      <th>text</th>\n",
       "      <th>expanded_urls</th>\n",
       "      <th>rating_numerator</th>\n",
       "      <th>rating_denominator</th>\n",
       "      <th>name</th>\n",
       "      <th>doggo</th>\n",
       "      <th>floofer</th>\n",
       "      <th>pupper</th>\n",
       "      <th>puppo</th>\n",
       "      <th>rating_numerator2</th>\n",
       "      <th>rating_denominator2</th>\n",
       "    </tr>\n",
       "  </thead>\n",
       "  <tbody>\n",
       "    <tr>\n",
       "      <th>433</th>\n",
       "      <td>820690176645140000</td>\n",
       "      <td>2017-01-15 17:52:40+00:00</td>\n",
       "      <td>&lt;a href=\"http://twitter.com/download/iphone\" r...</td>\n",
       "      <td>The floofs have been released I repeat the flo...</td>\n",
       "      <td>https://twitter.com/dog_rates/status/820690176...</td>\n",
       "      <td>84</td>\n",
       "      <td>70</td>\n",
       "      <td>None</td>\n",
       "      <td></td>\n",
       "      <td></td>\n",
       "      <td></td>\n",
       "      <td></td>\n",
       "      <td>84</td>\n",
       "      <td>70</td>\n",
       "    </tr>\n",
       "    <tr>\n",
       "      <th>902</th>\n",
       "      <td>758467244762497000</td>\n",
       "      <td>2016-07-28 01:00:57+00:00</td>\n",
       "      <td>&lt;a href=\"http://twitter.com/download/iphone\" r...</td>\n",
       "      <td>Why does this never happen at my front door......</td>\n",
       "      <td>https://twitter.com/dog_rates/status/758467244...</td>\n",
       "      <td>165</td>\n",
       "      <td>150</td>\n",
       "      <td>None</td>\n",
       "      <td></td>\n",
       "      <td></td>\n",
       "      <td></td>\n",
       "      <td></td>\n",
       "      <td>165</td>\n",
       "      <td>150</td>\n",
       "    </tr>\n",
       "    <tr>\n",
       "      <th>1068</th>\n",
       "      <td>740373189193256000</td>\n",
       "      <td>2016-06-08 02:41:38+00:00</td>\n",
       "      <td>&lt;a href=\"http://twitter.com/download/iphone\" r...</td>\n",
       "      <td>After so many requests, this is Bretagne. She ...</td>\n",
       "      <td>https://twitter.com/dog_rates/status/740373189...</td>\n",
       "      <td>9</td>\n",
       "      <td>11</td>\n",
       "      <td>None</td>\n",
       "      <td></td>\n",
       "      <td></td>\n",
       "      <td></td>\n",
       "      <td></td>\n",
       "      <td>14</td>\n",
       "      <td>10</td>\n",
       "    </tr>\n",
       "    <tr>\n",
       "      <th>1120</th>\n",
       "      <td>731156023742988000</td>\n",
       "      <td>2016-05-13 16:15:54+00:00</td>\n",
       "      <td>&lt;a href=\"http://twitter.com/download/iphone\" r...</td>\n",
       "      <td>Say hello to this unbelievably well behaved sq...</td>\n",
       "      <td>https://twitter.com/dog_rates/status/731156023...</td>\n",
       "      <td>204</td>\n",
       "      <td>170</td>\n",
       "      <td>this</td>\n",
       "      <td></td>\n",
       "      <td></td>\n",
       "      <td></td>\n",
       "      <td></td>\n",
       "      <td>204</td>\n",
       "      <td>170</td>\n",
       "    </tr>\n",
       "    <tr>\n",
       "      <th>1165</th>\n",
       "      <td>722974582966214000</td>\n",
       "      <td>2016-04-21 02:25:47+00:00</td>\n",
       "      <td>&lt;a href=\"http://twitter.com/download/iphone\" r...</td>\n",
       "      <td>Happy 4/20 from the squad! 13/10 for all https...</td>\n",
       "      <td>https://twitter.com/dog_rates/status/722974582...</td>\n",
       "      <td>4</td>\n",
       "      <td>20</td>\n",
       "      <td>None</td>\n",
       "      <td></td>\n",
       "      <td></td>\n",
       "      <td></td>\n",
       "      <td></td>\n",
       "      <td>13</td>\n",
       "      <td>10</td>\n",
       "    </tr>\n",
       "  </tbody>\n",
       "</table>\n",
       "</div>"
      ],
      "text/plain": [
       "                tweet_id                 timestamp  \\\n",
       "433   820690176645140000 2017-01-15 17:52:40+00:00   \n",
       "902   758467244762497000 2016-07-28 01:00:57+00:00   \n",
       "1068  740373189193256000 2016-06-08 02:41:38+00:00   \n",
       "1120  731156023742988000 2016-05-13 16:15:54+00:00   \n",
       "1165  722974582966214000 2016-04-21 02:25:47+00:00   \n",
       "\n",
       "                                                 source  \\\n",
       "433   <a href=\"http://twitter.com/download/iphone\" r...   \n",
       "902   <a href=\"http://twitter.com/download/iphone\" r...   \n",
       "1068  <a href=\"http://twitter.com/download/iphone\" r...   \n",
       "1120  <a href=\"http://twitter.com/download/iphone\" r...   \n",
       "1165  <a href=\"http://twitter.com/download/iphone\" r...   \n",
       "\n",
       "                                                   text  \\\n",
       "433   The floofs have been released I repeat the flo...   \n",
       "902   Why does this never happen at my front door......   \n",
       "1068  After so many requests, this is Bretagne. She ...   \n",
       "1120  Say hello to this unbelievably well behaved sq...   \n",
       "1165  Happy 4/20 from the squad! 13/10 for all https...   \n",
       "\n",
       "                                          expanded_urls  rating_numerator  \\\n",
       "433   https://twitter.com/dog_rates/status/820690176...                84   \n",
       "902   https://twitter.com/dog_rates/status/758467244...               165   \n",
       "1068  https://twitter.com/dog_rates/status/740373189...                 9   \n",
       "1120  https://twitter.com/dog_rates/status/731156023...               204   \n",
       "1165  https://twitter.com/dog_rates/status/722974582...                 4   \n",
       "\n",
       "      rating_denominator  name doggo floofer pupper puppo  rating_numerator2  \\\n",
       "433                   70  None                                            84   \n",
       "902                  150  None                                           165   \n",
       "1068                  11  None                                            14   \n",
       "1120                 170  this                                           204   \n",
       "1165                  20  None                                            13   \n",
       "\n",
       "      rating_denominator2  \n",
       "433                    70  \n",
       "902                   150  \n",
       "1068                   10  \n",
       "1120                  170  \n",
       "1165                   10  "
      ]
     },
     "execution_count": 54,
     "metadata": {},
     "output_type": "execute_result"
    }
   ],
   "source": [
    "twitter_archive_data2[twitter_archive_data2['rating_denominator'] > 10].head()"
   ]
  },
  {
   "cell_type": "code",
   "execution_count": null,
   "metadata": {},
   "outputs": [],
   "source": []
  },
  {
   "cell_type": "code",
   "execution_count": 55,
   "metadata": {},
   "outputs": [],
   "source": [
    "match = re.search(regex, twitter_archive_data2['text'][1165])"
   ]
  },
  {
   "cell_type": "code",
   "execution_count": 56,
   "metadata": {},
   "outputs": [
    {
     "name": "stdout",
     "output_type": "stream",
     "text": [
      "<re.Match object; span=(6, 10), match='4/20'>\n"
     ]
    }
   ],
   "source": [
    "print(match)"
   ]
  },
  {
   "cell_type": "code",
   "execution_count": 57,
   "metadata": {},
   "outputs": [],
   "source": [
    "match_findall = re.findall(regex, twitter_archive_data2['text'][1165])"
   ]
  },
  {
   "cell_type": "code",
   "execution_count": 58,
   "metadata": {},
   "outputs": [
    {
     "data": {
      "text/plain": [
       "[('4', '20'), ('13', '10')]"
      ]
     },
     "execution_count": 58,
     "metadata": {},
     "output_type": "execute_result"
    }
   ],
   "source": [
    "match_findall"
   ]
  },
  {
   "cell_type": "code",
   "execution_count": null,
   "metadata": {},
   "outputs": [],
   "source": []
  },
  {
   "cell_type": "code",
   "execution_count": null,
   "metadata": {},
   "outputs": [],
   "source": []
  },
  {
   "cell_type": "code",
   "execution_count": 59,
   "metadata": {},
   "outputs": [
    {
     "data": {
      "text/plain": [
       "Index(['tweet_id', 'timestamp', 'source', 'text', 'expanded_urls',\n",
       "       'rating_numerator', 'rating_denominator', 'name', 'doggo', 'floofer',\n",
       "       'pupper', 'puppo', 'rating_numerator2', 'rating_denominator2'],\n",
       "      dtype='object')"
      ]
     },
     "execution_count": 59,
     "metadata": {},
     "output_type": "execute_result"
    }
   ],
   "source": [
    "twitter_archive_data2.columns"
   ]
  },
  {
   "cell_type": "markdown",
   "metadata": {},
   "source": [
    "### issue 7 "
   ]
  },
  {
   "cell_type": "markdown",
   "metadata": {},
   "source": [
    "##### Define \n",
    "Wrong named dogs. Stop words used as dog names"
   ]
  },
  {
   "cell_type": "markdown",
   "metadata": {},
   "source": [
    "##### Code"
   ]
  },
  {
   "cell_type": "code",
   "execution_count": 60,
   "metadata": {},
   "outputs": [],
   "source": [
    "wrong_name_set = set()"
   ]
  },
  {
   "cell_type": "code",
   "execution_count": 61,
   "metadata": {},
   "outputs": [],
   "source": [
    "#All stop words begins with small letters\n",
    "for name in twitter_archive_data2['name']:\n",
    "    if name[0].islower():\n",
    "        wrong_name_set.add(name)\n"
   ]
  },
  {
   "cell_type": "code",
   "execution_count": 62,
   "metadata": {},
   "outputs": [
    {
     "data": {
      "text/plain": [
       "{'a',\n",
       " 'actually',\n",
       " 'all',\n",
       " 'an',\n",
       " 'by',\n",
       " 'getting',\n",
       " 'his',\n",
       " 'incredibly',\n",
       " 'infuriating',\n",
       " 'just',\n",
       " 'life',\n",
       " 'light',\n",
       " 'mad',\n",
       " 'my',\n",
       " 'not',\n",
       " 'officially',\n",
       " 'old',\n",
       " 'one',\n",
       " 'quite',\n",
       " 'space',\n",
       " 'such',\n",
       " 'the',\n",
       " 'this',\n",
       " 'unacceptable',\n",
       " 'very'}"
      ]
     },
     "execution_count": 62,
     "metadata": {},
     "output_type": "execute_result"
    }
   ],
   "source": [
    "wrong_name_set"
   ]
  },
  {
   "cell_type": "code",
   "execution_count": 63,
   "metadata": {},
   "outputs": [],
   "source": [
    "wrong_name_list = list((wrong_name_set)) + ['None']"
   ]
  },
  {
   "cell_type": "code",
   "execution_count": 64,
   "metadata": {},
   "outputs": [
    {
     "data": {
      "text/plain": [
       "['infuriating',\n",
       " 'an',\n",
       " 'very',\n",
       " 'old',\n",
       " 'by',\n",
       " 'mad',\n",
       " 'actually',\n",
       " 'one',\n",
       " 'unacceptable',\n",
       " 'a',\n",
       " 'all',\n",
       " 'the',\n",
       " 'quite',\n",
       " 'this',\n",
       " 'life',\n",
       " 'getting',\n",
       " 'just',\n",
       " 'officially',\n",
       " 'such',\n",
       " 'incredibly',\n",
       " 'space',\n",
       " 'not',\n",
       " 'his',\n",
       " 'light',\n",
       " 'my',\n",
       " 'None']"
      ]
     },
     "execution_count": 64,
     "metadata": {},
     "output_type": "execute_result"
    }
   ],
   "source": [
    "wrong_name_list"
   ]
  },
  {
   "cell_type": "code",
   "execution_count": 65,
   "metadata": {},
   "outputs": [],
   "source": [
    "#Replacing the stop words with No name\n",
    "\n",
    "\n",
    "twitter_archive_data2['name'].replace(wrong_name_list, \"No name\", inplace=True)"
   ]
  },
  {
   "cell_type": "markdown",
   "metadata": {},
   "source": [
    "##### Test"
   ]
  },
  {
   "cell_type": "code",
   "execution_count": 66,
   "metadata": {},
   "outputs": [
    {
     "data": {
      "text/plain": [
       "No name       707\n",
       "Lucy           11\n",
       "Charlie        11\n",
       "Oliver         10\n",
       "Cooper         10\n",
       "             ... \n",
       "Shelby          1\n",
       "Sephie          1\n",
       "Bonaparte       1\n",
       "Wishes          1\n",
       "Christoper      1\n",
       "Name: name, Length: 930, dtype: int64"
      ]
     },
     "execution_count": 66,
     "metadata": {},
     "output_type": "execute_result"
    }
   ],
   "source": [
    "twitter_archive_data2['name'].value_counts()"
   ]
  },
  {
   "cell_type": "code",
   "execution_count": 67,
   "metadata": {},
   "outputs": [
    {
     "data": {
      "text/plain": [
       "array(['Phineas', 'Tilly', 'Archie', 'Darla', 'Franklin', 'No name',\n",
       "       'Jax', 'Zoey', 'Cassie', 'Koda', 'Bruno', 'Ted', 'Stuart',\n",
       "       'Oliver', 'Jim', 'Zeke', 'Ralphus', 'Gerald', 'Jeffrey', 'Canela',\n",
       "       'Maya', 'Mingus', 'Derek', 'Roscoe', 'Waffles', 'Jimbo', 'Maisey',\n",
       "       'Earl', 'Lola', 'Kevin', 'Yogi', 'Noah', 'Bella', 'Grizzwald',\n",
       "       'Rusty', 'Gus', 'Stanley', 'Alfy', 'Koko', 'Rey', 'Gary', 'Elliot',\n",
       "       'Louis', 'Jesse', 'Romeo', 'Bailey', 'Duddles', 'Jack', 'Steven',\n",
       "       'Beau', 'Snoopy', 'Shadow', 'Emmy', 'Aja', 'Penny', 'Dante',\n",
       "       'Nelly', 'Ginger', 'Benedict', 'Venti', 'Goose', 'Nugget', 'Cash',\n",
       "       'Jed', 'Sebastian', 'Sierra', 'Monkey', 'Harry', 'Kody', 'Lassie',\n",
       "       'Rover', 'Napolean', 'Boomer', 'Cody', 'Rumble', 'Clifford',\n",
       "       'Dewey', 'Scout', 'Gizmo', 'Walter', 'Cooper', 'Harold', 'Shikha',\n",
       "       'Lili', 'Jamesy', 'Coco', 'Sammy', 'Meatball', 'Paisley', 'Albus',\n",
       "       'Neptune', 'Belle', 'Quinn', 'Zooey', 'Dave', 'Jersey', 'Hobbes',\n",
       "       'Burt', 'Lorenzo', 'Carl', 'Jordy', 'Milky', 'Trooper', 'Sophie',\n",
       "       'Wyatt', 'Rosie', 'Thor', 'Oscar', 'Callie', 'Cermet', 'Marlee',\n",
       "       'Arya', 'Einstein', 'Alice', 'Rumpole', 'Benny', 'Aspen', 'Jarod',\n",
       "       'Wiggles', 'General', 'Sailor', 'Iggy', 'Snoop', 'Kyle', 'Leo',\n",
       "       'Riley', 'Noosh', 'Odin', 'Jerry', 'Georgie', 'Rontu', 'Cannon',\n",
       "       'Furzey', 'Daisy', 'Tuck', 'Barney', 'Vixen', 'Jarvis', 'Mimosa',\n",
       "       'Pickles', 'Brady', 'Luna', 'Charlie', 'Margo', 'Sadie', 'Hank',\n",
       "       'Tycho', 'Indie', 'Winnie', 'George', 'Bentley', 'Max', 'Dawn',\n",
       "       'Maddie', 'Monty', 'Sojourner', 'Winston', 'Odie', 'Arlo',\n",
       "       'Vincent', 'Lucy', 'Clark', 'Mookie', 'Meera', 'Ava', 'Eli', 'Ash',\n",
       "       'Tucker', 'Tobi', 'Chester', 'Wilson', 'Sunshine', 'Lipton',\n",
       "       'Bronte', 'Poppy', 'Gidget', 'Rhino', 'Willow', 'Orion', 'Eevee',\n",
       "       'Smiley', 'Miguel', 'Emanuel', 'Kuyu', 'Dutch', 'Pete', 'Scooter',\n",
       "       'Reggie', 'Lilly', 'Samson', 'Mia', 'Astrid', 'Malcolm', 'Dexter',\n",
       "       'Alfie', 'Fiona', 'Mutt', 'Bear', 'Doobert', 'Beebop', 'Alexander',\n",
       "       'Sailer', 'Brutus', 'Kona', 'Boots', 'Ralphie', 'Loki', 'Cupid',\n",
       "       'Pawnd', 'Pilot', 'Ike', 'Mo', 'Toby', 'Sweet', 'Pablo', 'Nala',\n",
       "       'Crawford', 'Gabe', 'Jimison', 'Duchess', 'Harlso', 'Sundance',\n",
       "       'Luca', 'Flash', 'Sunny', 'Howie', 'Jazzy', 'Anna', 'Finn', 'Bo',\n",
       "       'Wafer', 'Tom', 'Florence', 'Autumn', 'Buddy', 'Dido', 'Eugene',\n",
       "       'Ken', 'Strudel', 'Tebow', 'Chloe', 'Timber', 'Binky', 'Moose',\n",
       "       'Dudley', 'Comet', 'Akumi', 'Titan', 'Olivia', 'Alf', 'Oshie',\n",
       "       'Chubbs', 'Sky', 'Atlas', 'Eleanor', 'Layla', 'Rocky', 'Baron',\n",
       "       'Tyr', 'Bauer', 'Swagger', 'Brandi', 'Mary', 'Moe', 'Halo',\n",
       "       'Augie', 'Craig', 'Sam', 'Hunter', 'Pavlov', 'Phil', 'Kyro',\n",
       "       'Wallace', 'Ito', 'Seamus', 'Ollie', 'Stephan', 'Lennon', 'Major',\n",
       "       'Duke', 'Sansa', 'Shooter', 'Django', 'Diogi', 'Sonny', 'Marley',\n",
       "       'Severus', 'Ronnie', 'Milo', 'Bones', 'Mauve', 'Chef', 'Doc',\n",
       "       'Peaches', 'Sobe', 'Longfellow', 'Mister', 'Iroh', 'Pancake',\n",
       "       'Snicku', 'Ruby', 'Brody', 'Mack', 'Nimbus', 'Laika', 'Maximus',\n",
       "       'Dobby', 'Moreton', 'Juno', 'Maude', 'Lily', 'Newt', 'Benji',\n",
       "       'Nida', 'Robin', 'Monster', 'BeBe', 'Remus', 'Levi', 'Mabel',\n",
       "       'Misty', 'Betty', 'Mosby', 'Maggie', 'Bruce', 'Happy', 'Ralphy',\n",
       "       'Brownie', 'Rizzy', 'Stella', 'Butter', 'Frank', 'Tonks',\n",
       "       'Lincoln', 'Rory', 'Logan', 'Dale', 'Rizzo', 'Arnie', 'Mattie',\n",
       "       'Pinot', 'Dallas', 'Hero', 'Frankie', 'Stormy', 'Reginald',\n",
       "       'Balto', 'Mairi', 'Loomis', 'Godi', 'Cali', 'Deacon', 'Timmy',\n",
       "       'Sampson', 'Chipson', 'Combo', 'Oakley', 'Dash', 'Hercules', 'Jay',\n",
       "       'Mya', 'Strider', 'Wesley', 'Solomon', 'Huck', 'O', 'Blue',\n",
       "       'Anakin', 'Finley', 'Sprinkles', 'Heinrich', 'Shakespeare',\n",
       "       'Chelsea', 'Bungalo', 'Chip', 'Grey', 'Roosevelt', 'Willem',\n",
       "       'Davey', 'Dakota', 'Fizz', 'Dixie', 'Al', 'Jackson', 'Carbon',\n",
       "       'Klein', 'DonDon', 'Kirby', 'Lou', 'Chevy', 'Tito', 'Philbert',\n",
       "       'Louie', 'Rupert', 'Rufus', 'Brudge', 'Shadoe', 'Angel', 'Brat',\n",
       "       'Tove', 'Gromit', 'Aubie', 'Kota', 'Leela', 'Glenn', 'Shelby',\n",
       "       'Sephie', 'Bonaparte', 'Albert', 'Wishes', 'Rose', 'Theo', 'Rocco',\n",
       "       'Fido', 'Emma', 'Spencer', 'Lilli', 'Boston', 'Brandonald',\n",
       "       'Corey', 'Leonard', 'Beckham', 'Devón', 'Gert', 'Watson', 'Keith',\n",
       "       'Dex', 'Ace', 'Tayzie', 'Grizzie', 'Fred', 'Gilbert', 'Meyer',\n",
       "       'Zoe', 'Stewie', 'Calvin', 'Lilah', 'Spanky', 'Jameson', 'Piper',\n",
       "       'Atticus', 'Blu', 'Dietrich', 'Divine', 'Tripp', 'Cora', 'Huxley',\n",
       "       'Keurig', 'Bookstore', 'Linus', 'Abby', 'Shiloh', 'Gustav',\n",
       "       'Arlen', 'Percy', 'Lenox', 'Sugar', 'Harvey', 'Blanket', 'Geno',\n",
       "       'Stark', 'Beya', 'Kilo', 'Kayla', 'Maxaroni', 'Bell', 'Doug',\n",
       "       'Edmund', 'Aqua', 'Theodore', 'Baloo', 'Chase', 'Nollie', 'Rorie',\n",
       "       'Simba', 'Charles', 'Bayley', 'Axel', 'Storkson', 'Remy',\n",
       "       'Chadrick', 'Kellogg', 'Buckley', 'Livvie', 'Terry', 'Hermione',\n",
       "       'Ralpher', 'Aldrick', 'Larry', 'Rooney', 'Crystal', 'Ziva',\n",
       "       'Stefan', 'Pupcasso', 'Puff', 'Flurpson', 'Coleman', 'Enchilada',\n",
       "       'Raymond', 'Rueben', 'Cilantro', 'Karll', 'Sprout', 'Blitz',\n",
       "       'Bloop', 'Colby', 'Lillie', 'Ashleigh', 'Kreggory', 'Sarge',\n",
       "       'Luther', 'Ivar', 'Jangle', 'Schnitzel', 'Panda', 'Berkeley',\n",
       "       'Ralphé', 'Charleson', 'Clyde', 'Harnold', 'Sid', 'Pippa', 'Otis',\n",
       "       'Carper', 'Bowie', 'Alexanderson', 'Suki', 'Barclay', 'Skittle',\n",
       "       'Ebby', 'Flávio', 'Smokey', 'Link', 'Jennifur', 'Ozzy', 'Bluebert',\n",
       "       'Stephanus', 'Bubbles', 'Zeus', 'Bertson', 'Nico',\n",
       "       'Michelangelope', 'Siba', 'Calbert', 'Curtis', 'Travis', 'Thumas',\n",
       "       'Kanu', 'Lance', 'Opie', 'Stubert', 'Kane', 'Olive', 'Chuckles',\n",
       "       'Staniel', 'Sora', 'Beemo', 'Gunner', 'Lacy', 'Tater', 'Olaf',\n",
       "       'Cecil', 'Vince', 'Karma', 'Billy', 'Walker', 'Rodney', 'Klevin',\n",
       "       'Malikai', 'Bobble', 'River', 'Jebberson', 'Remington', 'Farfle',\n",
       "       'Jiminus', 'Harper', 'Clarkus', 'Finnegus', 'Cupcake', 'Kathmandu',\n",
       "       'Ellie', 'Katie', 'Kara', 'Adele', 'Zara', 'Ambrose', 'Jimothy',\n",
       "       'Bode', 'Terrenth', 'Reese', 'Chesterson', 'Lucia', 'Bisquick',\n",
       "       'Ralphson', 'Socks', 'Rambo', 'Rudy', 'Fiji', 'Rilo', 'Bilbo',\n",
       "       'Coopson', 'Yoda', 'Millie', 'Chet', 'Crouton', 'Daniel', 'Kaia',\n",
       "       'Murphy', 'Dotsy', 'Eazy', 'Coops', 'Fillup', 'Miley', 'Charl',\n",
       "       'Reagan', 'Yukon', 'CeCe', 'Cuddles', 'Claude', 'Jessiga',\n",
       "       'Carter', 'Ole', 'Pherb', 'Blipson', 'Reptar', 'Trevith', 'Berb',\n",
       "       'Bob', 'Colin', 'Brian', 'Oliviér', 'Grady', 'Kobe', 'Freddery',\n",
       "       'Bodie', 'Dunkin', 'Wally', 'Tupawc', 'Amber', 'Herschel', 'Edgar',\n",
       "       'Teddy', 'Kingsley', 'Brockly', 'Richie', 'Molly', 'Vinscent',\n",
       "       'Cedrick', 'Hazel', 'Lolo', 'Eriq', 'Phred', 'Oddie', 'Maxwell',\n",
       "       'Geoff', 'Covach', 'Durg', 'Fynn', 'Ricky', 'Herald', 'Lucky',\n",
       "       'Ferg', 'Trip', 'Clarence', 'Hamrick', 'Brad', 'Pubert', 'Frönq',\n",
       "       'Derby', 'Lizzie', 'Ember', 'Blakely', 'Opal', 'Marq', 'Kramer',\n",
       "       'Barry', 'Tyrone', 'Gordon', 'Baxter', 'Mona', 'Horace', 'Crimson',\n",
       "       'Birf', 'Hammond', 'Lorelei', 'Marty', 'Brooks', 'Petrick',\n",
       "       'Hubertson', 'Gerbald', 'Oreo', 'Bruiser', 'Perry', 'Bobby',\n",
       "       'Jeph', 'Obi', 'Tino', 'Kulet', 'Sweets', 'Lupe', 'Tiger',\n",
       "       'Jiminy', 'Griffin', 'Banjo', 'Brandy', 'Lulu', 'Darrel', 'Taco',\n",
       "       'Joey', 'Patrick', 'Kreg', 'Todo', 'Tess', 'Ulysses', 'Toffee',\n",
       "       'Apollo', 'Carly', 'Asher', 'Glacier', 'Chuck', 'Champ', 'Ozzie',\n",
       "       'Griswold', 'Cheesy', 'Moofasa', 'Hector', 'Goliath', 'Kawhi',\n",
       "       'Emmie', 'Penelope', 'Willie', 'Rinna', 'Mike', 'William',\n",
       "       'Dwight', 'Evy', 'Hurley', 'Rubio', 'Chompsky', 'Rascal', 'Linda',\n",
       "       'Tug', 'Tango', 'Grizz', 'Jerome', 'Crumpet', 'Jessifer', 'Izzy',\n",
       "       'Ralph', 'Sandy', 'Humphrey', 'Tassy', 'Juckson', 'Chuq', 'Tyrus',\n",
       "       'Karl', 'Godzilla', 'Vinnie', 'Kenneth', 'Herm', 'Bert', 'Striker',\n",
       "       'Donny', 'Pepper', 'Bernie', 'Buddah', 'Lenny', 'Arnold', 'Zuzu',\n",
       "       'Mollie', 'Laela', 'Tedders', 'Superpup', 'Rufio', 'Jeb', 'Rodman',\n",
       "       'Jonah', 'Chesney', 'Kenny', 'Henry', 'Bobbay', 'Mitch', 'Kaiya',\n",
       "       'Acro', 'Aiden', 'Obie', 'Dot', 'Shnuggles', 'Kendall', 'Jeffri',\n",
       "       'Steve', 'Eve', 'Mac', 'Fletcher', 'Kenzie', 'Pumpkin', 'Schnozz',\n",
       "       'Gustaf', 'Cheryl', 'Ed', 'Leonidas', 'Norman', 'Caryl', 'Scott',\n",
       "       'Taz', 'Darby', 'Jackie', 'Jazz', 'Franq', 'Pippin', 'Rolf',\n",
       "       'Snickers', 'Ridley', 'Cal', 'Bradley', 'Bubba', 'Tuco', 'Patch',\n",
       "       'Mojo', 'Batdog', 'Dylan', 'Mark', 'JD', 'Alejandro', 'Scruffers',\n",
       "       'Pip', 'Julius', 'Tanner', 'Sparky', 'Anthony', 'Holly', 'Jett',\n",
       "       'Amy', 'Sage', 'Andy', 'Mason', 'Trigger', 'Antony', 'Creg',\n",
       "       'Traviss', 'Gin', 'Jeffrie', 'Danny', 'Ester', 'Pluto', 'Bloo',\n",
       "       'Edd', 'Paull', 'Willy', 'Herb', 'Damon', 'Peanut', 'Nigel',\n",
       "       'Butters', 'Sandra', 'Fabio', 'Randall', 'Liam', 'Tommy', 'Ben',\n",
       "       'Raphael', 'Julio', 'Andru', 'Kloey', 'Shawwn', 'Skye', 'Kollin',\n",
       "       'Ronduh', 'Billl', 'Saydee', 'Dug', 'Sully', 'Kirk', 'Ralf',\n",
       "       'Clarq', 'Jaspers', 'Samsom', 'Terrance', 'Harrison', 'Chaz',\n",
       "       'Jeremy', 'Jaycob', 'Lambeau', 'Ruffles', 'Amélie', 'Bobb',\n",
       "       'Banditt', 'Kevon', 'Winifred', 'Hanz', 'Churlie', 'Zeek',\n",
       "       'Timofy', 'Maks', 'Jomathan', 'Kallie', 'Marvin', 'Spark',\n",
       "       'Gòrdón', 'Jo', 'DayZ', 'Jareld', 'Torque', 'Ron', 'Skittles',\n",
       "       'Cleopatricia', 'Erik', 'Stu', 'Tedrick', 'Shaggy', 'Filup',\n",
       "       'Kial', 'Naphaniel', 'Dook', 'Hall', 'Philippe', 'Biden', 'Fwed',\n",
       "       'Genevieve', 'Joshwa', 'Timison', 'Bradlay', 'Pipsy', 'Clybe',\n",
       "       'Keet', 'Carll', 'Jockson', 'Josep', 'Lugan', 'Christoper'],\n",
       "      dtype=object)"
      ]
     },
     "execution_count": 67,
     "metadata": {},
     "output_type": "execute_result"
    }
   ],
   "source": [
    "twitter_archive_data2['name'].unique()"
   ]
  },
  {
   "cell_type": "code",
   "execution_count": null,
   "metadata": {},
   "outputs": [],
   "source": []
  },
  {
   "cell_type": "markdown",
   "metadata": {},
   "source": [
    "###### name"
   ]
  },
  {
   "cell_type": "markdown",
   "metadata": {},
   "source": [
    "testing = twitter_archive_data2['text'][2326]\n",
    "print(testing)"
   ]
  },
  {
   "cell_type": "markdown",
   "metadata": {},
   "source": [
    "regex_name2 = r\"(Tt?his is|Meet)\\s(\\w{1,20})\""
   ]
  },
  {
   "cell_type": "markdown",
   "metadata": {},
   "source": [
    "match_find_name2 = re.findall(regex_name2, testing)"
   ]
  },
  {
   "cell_type": "markdown",
   "metadata": {},
   "source": [
    "print(match_find_name2)"
   ]
  },
  {
   "cell_type": "code",
   "execution_count": null,
   "metadata": {},
   "outputs": [],
   "source": []
  },
  {
   "cell_type": "code",
   "execution_count": null,
   "metadata": {},
   "outputs": [],
   "source": []
  },
  {
   "cell_type": "markdown",
   "metadata": {},
   "source": [
    "### Issue 8"
   ]
  },
  {
   "cell_type": "markdown",
   "metadata": {},
   "source": [
    "##### Define\n",
    "\n",
    "Inconsisted capitalization of p1, p2, p3\n",
    "\n",
    "Data in the p1, p2 and p3 columns of image_data2 data have some first letter capitalized while some are not."
   ]
  },
  {
   "cell_type": "markdown",
   "metadata": {},
   "source": [
    "##### Code"
   ]
  },
  {
   "cell_type": "code",
   "execution_count": 68,
   "metadata": {},
   "outputs": [],
   "source": [
    "image_data2['p1'] = image_data2['p1'].str.capitalize()"
   ]
  },
  {
   "cell_type": "code",
   "execution_count": 69,
   "metadata": {},
   "outputs": [],
   "source": [
    "image_data2['p2'] = image_data2['p2'].str.capitalize()"
   ]
  },
  {
   "cell_type": "code",
   "execution_count": 70,
   "metadata": {},
   "outputs": [],
   "source": [
    "image_data2['p3'] = image_data2['p3'].str.capitalize()"
   ]
  },
  {
   "cell_type": "code",
   "execution_count": null,
   "metadata": {},
   "outputs": [],
   "source": []
  },
  {
   "cell_type": "markdown",
   "metadata": {},
   "source": [
    "##### Test"
   ]
  },
  {
   "cell_type": "code",
   "execution_count": 71,
   "metadata": {},
   "outputs": [
    {
     "data": {
      "text/html": [
       "<div>\n",
       "<style scoped>\n",
       "    .dataframe tbody tr th:only-of-type {\n",
       "        vertical-align: middle;\n",
       "    }\n",
       "\n",
       "    .dataframe tbody tr th {\n",
       "        vertical-align: top;\n",
       "    }\n",
       "\n",
       "    .dataframe thead th {\n",
       "        text-align: right;\n",
       "    }\n",
       "</style>\n",
       "<table border=\"1\" class=\"dataframe\">\n",
       "  <thead>\n",
       "    <tr style=\"text-align: right;\">\n",
       "      <th></th>\n",
       "      <th>tweet_id</th>\n",
       "      <th>jpg_url</th>\n",
       "      <th>img_num</th>\n",
       "      <th>p1</th>\n",
       "      <th>p1_conf</th>\n",
       "      <th>p1_dog</th>\n",
       "      <th>p2</th>\n",
       "      <th>p2_conf</th>\n",
       "      <th>p2_dog</th>\n",
       "      <th>p3</th>\n",
       "      <th>p3_conf</th>\n",
       "      <th>p3_dog</th>\n",
       "    </tr>\n",
       "  </thead>\n",
       "  <tbody>\n",
       "    <tr>\n",
       "      <th>0</th>\n",
       "      <td>666020888022790149</td>\n",
       "      <td>https://pbs.twimg.com/media/CT4udn0WwAA0aMy.jpg</td>\n",
       "      <td>1</td>\n",
       "      <td>Welsh_springer_spaniel</td>\n",
       "      <td>0.465074</td>\n",
       "      <td>True</td>\n",
       "      <td>Collie</td>\n",
       "      <td>0.156665</td>\n",
       "      <td>True</td>\n",
       "      <td>Shetland_sheepdog</td>\n",
       "      <td>0.061428</td>\n",
       "      <td>True</td>\n",
       "    </tr>\n",
       "    <tr>\n",
       "      <th>1</th>\n",
       "      <td>666029285002620928</td>\n",
       "      <td>https://pbs.twimg.com/media/CT42GRgUYAA5iDo.jpg</td>\n",
       "      <td>1</td>\n",
       "      <td>Redbone</td>\n",
       "      <td>0.506826</td>\n",
       "      <td>True</td>\n",
       "      <td>Miniature_pinscher</td>\n",
       "      <td>0.074192</td>\n",
       "      <td>True</td>\n",
       "      <td>Rhodesian_ridgeback</td>\n",
       "      <td>0.072010</td>\n",
       "      <td>True</td>\n",
       "    </tr>\n",
       "    <tr>\n",
       "      <th>2</th>\n",
       "      <td>666033412701032449</td>\n",
       "      <td>https://pbs.twimg.com/media/CT4521TWwAEvMyu.jpg</td>\n",
       "      <td>1</td>\n",
       "      <td>German_shepherd</td>\n",
       "      <td>0.596461</td>\n",
       "      <td>True</td>\n",
       "      <td>Malinois</td>\n",
       "      <td>0.138584</td>\n",
       "      <td>True</td>\n",
       "      <td>Bloodhound</td>\n",
       "      <td>0.116197</td>\n",
       "      <td>True</td>\n",
       "    </tr>\n",
       "    <tr>\n",
       "      <th>3</th>\n",
       "      <td>666044226329800704</td>\n",
       "      <td>https://pbs.twimg.com/media/CT5Dr8HUEAA-lEu.jpg</td>\n",
       "      <td>1</td>\n",
       "      <td>Rhodesian_ridgeback</td>\n",
       "      <td>0.408143</td>\n",
       "      <td>True</td>\n",
       "      <td>Redbone</td>\n",
       "      <td>0.360687</td>\n",
       "      <td>True</td>\n",
       "      <td>Miniature_pinscher</td>\n",
       "      <td>0.222752</td>\n",
       "      <td>True</td>\n",
       "    </tr>\n",
       "    <tr>\n",
       "      <th>4</th>\n",
       "      <td>666049248165822465</td>\n",
       "      <td>https://pbs.twimg.com/media/CT5IQmsXIAAKY4A.jpg</td>\n",
       "      <td>1</td>\n",
       "      <td>Miniature_pinscher</td>\n",
       "      <td>0.560311</td>\n",
       "      <td>True</td>\n",
       "      <td>Rottweiler</td>\n",
       "      <td>0.243682</td>\n",
       "      <td>True</td>\n",
       "      <td>Doberman</td>\n",
       "      <td>0.154629</td>\n",
       "      <td>True</td>\n",
       "    </tr>\n",
       "    <tr>\n",
       "      <th>5</th>\n",
       "      <td>666050758794694657</td>\n",
       "      <td>https://pbs.twimg.com/media/CT5Jof1WUAEuVxN.jpg</td>\n",
       "      <td>1</td>\n",
       "      <td>Bernese_mountain_dog</td>\n",
       "      <td>0.651137</td>\n",
       "      <td>True</td>\n",
       "      <td>English_springer</td>\n",
       "      <td>0.263788</td>\n",
       "      <td>True</td>\n",
       "      <td>Greater_swiss_mountain_dog</td>\n",
       "      <td>0.016199</td>\n",
       "      <td>True</td>\n",
       "    </tr>\n",
       "    <tr>\n",
       "      <th>6</th>\n",
       "      <td>666051853826850816</td>\n",
       "      <td>https://pbs.twimg.com/media/CT5KoJ1WoAAJash.jpg</td>\n",
       "      <td>1</td>\n",
       "      <td>Box_turtle</td>\n",
       "      <td>0.933012</td>\n",
       "      <td>False</td>\n",
       "      <td>Mud_turtle</td>\n",
       "      <td>0.045885</td>\n",
       "      <td>False</td>\n",
       "      <td>Terrapin</td>\n",
       "      <td>0.017885</td>\n",
       "      <td>False</td>\n",
       "    </tr>\n",
       "    <tr>\n",
       "      <th>7</th>\n",
       "      <td>666055525042405380</td>\n",
       "      <td>https://pbs.twimg.com/media/CT5N9tpXIAAifs1.jpg</td>\n",
       "      <td>1</td>\n",
       "      <td>Chow</td>\n",
       "      <td>0.692517</td>\n",
       "      <td>True</td>\n",
       "      <td>Tibetan_mastiff</td>\n",
       "      <td>0.058279</td>\n",
       "      <td>True</td>\n",
       "      <td>Fur_coat</td>\n",
       "      <td>0.054449</td>\n",
       "      <td>False</td>\n",
       "    </tr>\n",
       "    <tr>\n",
       "      <th>8</th>\n",
       "      <td>666057090499244032</td>\n",
       "      <td>https://pbs.twimg.com/media/CT5PY90WoAAQGLo.jpg</td>\n",
       "      <td>1</td>\n",
       "      <td>Shopping_cart</td>\n",
       "      <td>0.962465</td>\n",
       "      <td>False</td>\n",
       "      <td>Shopping_basket</td>\n",
       "      <td>0.014594</td>\n",
       "      <td>False</td>\n",
       "      <td>Golden_retriever</td>\n",
       "      <td>0.007959</td>\n",
       "      <td>True</td>\n",
       "    </tr>\n",
       "    <tr>\n",
       "      <th>9</th>\n",
       "      <td>666058600524156928</td>\n",
       "      <td>https://pbs.twimg.com/media/CT5Qw94XAAA_2dP.jpg</td>\n",
       "      <td>1</td>\n",
       "      <td>Miniature_poodle</td>\n",
       "      <td>0.201493</td>\n",
       "      <td>True</td>\n",
       "      <td>Komondor</td>\n",
       "      <td>0.192305</td>\n",
       "      <td>True</td>\n",
       "      <td>Soft-coated_wheaten_terrier</td>\n",
       "      <td>0.082086</td>\n",
       "      <td>True</td>\n",
       "    </tr>\n",
       "    <tr>\n",
       "      <th>10</th>\n",
       "      <td>666063827256086533</td>\n",
       "      <td>https://pbs.twimg.com/media/CT5Vg_wXIAAXfnj.jpg</td>\n",
       "      <td>1</td>\n",
       "      <td>Golden_retriever</td>\n",
       "      <td>0.775930</td>\n",
       "      <td>True</td>\n",
       "      <td>Tibetan_mastiff</td>\n",
       "      <td>0.093718</td>\n",
       "      <td>True</td>\n",
       "      <td>Labrador_retriever</td>\n",
       "      <td>0.072427</td>\n",
       "      <td>True</td>\n",
       "    </tr>\n",
       "    <tr>\n",
       "      <th>11</th>\n",
       "      <td>666071193221509120</td>\n",
       "      <td>https://pbs.twimg.com/media/CT5cN_3WEAAlOoZ.jpg</td>\n",
       "      <td>1</td>\n",
       "      <td>Gordon_setter</td>\n",
       "      <td>0.503672</td>\n",
       "      <td>True</td>\n",
       "      <td>Yorkshire_terrier</td>\n",
       "      <td>0.174201</td>\n",
       "      <td>True</td>\n",
       "      <td>Pekinese</td>\n",
       "      <td>0.109454</td>\n",
       "      <td>True</td>\n",
       "    </tr>\n",
       "    <tr>\n",
       "      <th>12</th>\n",
       "      <td>666073100786774016</td>\n",
       "      <td>https://pbs.twimg.com/media/CT5d9DZXAAALcwe.jpg</td>\n",
       "      <td>1</td>\n",
       "      <td>Walker_hound</td>\n",
       "      <td>0.260857</td>\n",
       "      <td>True</td>\n",
       "      <td>English_foxhound</td>\n",
       "      <td>0.175382</td>\n",
       "      <td>True</td>\n",
       "      <td>Ibizan_hound</td>\n",
       "      <td>0.097471</td>\n",
       "      <td>True</td>\n",
       "    </tr>\n",
       "    <tr>\n",
       "      <th>13</th>\n",
       "      <td>666082916733198337</td>\n",
       "      <td>https://pbs.twimg.com/media/CT5m4VGWEAAtKc8.jpg</td>\n",
       "      <td>1</td>\n",
       "      <td>Pug</td>\n",
       "      <td>0.489814</td>\n",
       "      <td>True</td>\n",
       "      <td>Bull_mastiff</td>\n",
       "      <td>0.404722</td>\n",
       "      <td>True</td>\n",
       "      <td>French_bulldog</td>\n",
       "      <td>0.048960</td>\n",
       "      <td>True</td>\n",
       "    </tr>\n",
       "    <tr>\n",
       "      <th>14</th>\n",
       "      <td>666094000022159362</td>\n",
       "      <td>https://pbs.twimg.com/media/CT5w9gUW4AAsBNN.jpg</td>\n",
       "      <td>1</td>\n",
       "      <td>Bloodhound</td>\n",
       "      <td>0.195217</td>\n",
       "      <td>True</td>\n",
       "      <td>German_shepherd</td>\n",
       "      <td>0.078260</td>\n",
       "      <td>True</td>\n",
       "      <td>Malinois</td>\n",
       "      <td>0.075628</td>\n",
       "      <td>True</td>\n",
       "    </tr>\n",
       "    <tr>\n",
       "      <th>15</th>\n",
       "      <td>666099513787052032</td>\n",
       "      <td>https://pbs.twimg.com/media/CT51-JJUEAA6hV8.jpg</td>\n",
       "      <td>1</td>\n",
       "      <td>Lhasa</td>\n",
       "      <td>0.582330</td>\n",
       "      <td>True</td>\n",
       "      <td>Shih-tzu</td>\n",
       "      <td>0.166192</td>\n",
       "      <td>True</td>\n",
       "      <td>Dandie_dinmont</td>\n",
       "      <td>0.089688</td>\n",
       "      <td>True</td>\n",
       "    </tr>\n",
       "    <tr>\n",
       "      <th>16</th>\n",
       "      <td>666102155909144576</td>\n",
       "      <td>https://pbs.twimg.com/media/CT54YGiWUAEZnoK.jpg</td>\n",
       "      <td>1</td>\n",
       "      <td>English_setter</td>\n",
       "      <td>0.298617</td>\n",
       "      <td>True</td>\n",
       "      <td>Newfoundland</td>\n",
       "      <td>0.149842</td>\n",
       "      <td>True</td>\n",
       "      <td>Borzoi</td>\n",
       "      <td>0.133649</td>\n",
       "      <td>True</td>\n",
       "    </tr>\n",
       "    <tr>\n",
       "      <th>17</th>\n",
       "      <td>666104133288665088</td>\n",
       "      <td>https://pbs.twimg.com/media/CT56LSZWoAAlJj2.jpg</td>\n",
       "      <td>1</td>\n",
       "      <td>Hen</td>\n",
       "      <td>0.965932</td>\n",
       "      <td>False</td>\n",
       "      <td>Cock</td>\n",
       "      <td>0.033919</td>\n",
       "      <td>False</td>\n",
       "      <td>Partridge</td>\n",
       "      <td>0.000052</td>\n",
       "      <td>False</td>\n",
       "    </tr>\n",
       "    <tr>\n",
       "      <th>18</th>\n",
       "      <td>666268910803644416</td>\n",
       "      <td>https://pbs.twimg.com/media/CT8QCd1WEAADXws.jpg</td>\n",
       "      <td>1</td>\n",
       "      <td>Desktop_computer</td>\n",
       "      <td>0.086502</td>\n",
       "      <td>False</td>\n",
       "      <td>Desk</td>\n",
       "      <td>0.085547</td>\n",
       "      <td>False</td>\n",
       "      <td>Bookcase</td>\n",
       "      <td>0.079480</td>\n",
       "      <td>False</td>\n",
       "    </tr>\n",
       "    <tr>\n",
       "      <th>19</th>\n",
       "      <td>666273097616637952</td>\n",
       "      <td>https://pbs.twimg.com/media/CT8T1mtUwAA3aqm.jpg</td>\n",
       "      <td>1</td>\n",
       "      <td>Italian_greyhound</td>\n",
       "      <td>0.176053</td>\n",
       "      <td>True</td>\n",
       "      <td>Toy_terrier</td>\n",
       "      <td>0.111884</td>\n",
       "      <td>True</td>\n",
       "      <td>Basenji</td>\n",
       "      <td>0.111152</td>\n",
       "      <td>True</td>\n",
       "    </tr>\n",
       "  </tbody>\n",
       "</table>\n",
       "</div>"
      ],
      "text/plain": [
       "              tweet_id                                          jpg_url  \\\n",
       "0   666020888022790149  https://pbs.twimg.com/media/CT4udn0WwAA0aMy.jpg   \n",
       "1   666029285002620928  https://pbs.twimg.com/media/CT42GRgUYAA5iDo.jpg   \n",
       "2   666033412701032449  https://pbs.twimg.com/media/CT4521TWwAEvMyu.jpg   \n",
       "3   666044226329800704  https://pbs.twimg.com/media/CT5Dr8HUEAA-lEu.jpg   \n",
       "4   666049248165822465  https://pbs.twimg.com/media/CT5IQmsXIAAKY4A.jpg   \n",
       "5   666050758794694657  https://pbs.twimg.com/media/CT5Jof1WUAEuVxN.jpg   \n",
       "6   666051853826850816  https://pbs.twimg.com/media/CT5KoJ1WoAAJash.jpg   \n",
       "7   666055525042405380  https://pbs.twimg.com/media/CT5N9tpXIAAifs1.jpg   \n",
       "8   666057090499244032  https://pbs.twimg.com/media/CT5PY90WoAAQGLo.jpg   \n",
       "9   666058600524156928  https://pbs.twimg.com/media/CT5Qw94XAAA_2dP.jpg   \n",
       "10  666063827256086533  https://pbs.twimg.com/media/CT5Vg_wXIAAXfnj.jpg   \n",
       "11  666071193221509120  https://pbs.twimg.com/media/CT5cN_3WEAAlOoZ.jpg   \n",
       "12  666073100786774016  https://pbs.twimg.com/media/CT5d9DZXAAALcwe.jpg   \n",
       "13  666082916733198337  https://pbs.twimg.com/media/CT5m4VGWEAAtKc8.jpg   \n",
       "14  666094000022159362  https://pbs.twimg.com/media/CT5w9gUW4AAsBNN.jpg   \n",
       "15  666099513787052032  https://pbs.twimg.com/media/CT51-JJUEAA6hV8.jpg   \n",
       "16  666102155909144576  https://pbs.twimg.com/media/CT54YGiWUAEZnoK.jpg   \n",
       "17  666104133288665088  https://pbs.twimg.com/media/CT56LSZWoAAlJj2.jpg   \n",
       "18  666268910803644416  https://pbs.twimg.com/media/CT8QCd1WEAADXws.jpg   \n",
       "19  666273097616637952  https://pbs.twimg.com/media/CT8T1mtUwAA3aqm.jpg   \n",
       "\n",
       "    img_num                      p1   p1_conf  p1_dog                  p2  \\\n",
       "0         1  Welsh_springer_spaniel  0.465074    True              Collie   \n",
       "1         1                 Redbone  0.506826    True  Miniature_pinscher   \n",
       "2         1         German_shepherd  0.596461    True            Malinois   \n",
       "3         1     Rhodesian_ridgeback  0.408143    True             Redbone   \n",
       "4         1      Miniature_pinscher  0.560311    True          Rottweiler   \n",
       "5         1    Bernese_mountain_dog  0.651137    True    English_springer   \n",
       "6         1              Box_turtle  0.933012   False          Mud_turtle   \n",
       "7         1                    Chow  0.692517    True     Tibetan_mastiff   \n",
       "8         1           Shopping_cart  0.962465   False     Shopping_basket   \n",
       "9         1        Miniature_poodle  0.201493    True            Komondor   \n",
       "10        1        Golden_retriever  0.775930    True     Tibetan_mastiff   \n",
       "11        1           Gordon_setter  0.503672    True   Yorkshire_terrier   \n",
       "12        1            Walker_hound  0.260857    True    English_foxhound   \n",
       "13        1                     Pug  0.489814    True        Bull_mastiff   \n",
       "14        1              Bloodhound  0.195217    True     German_shepherd   \n",
       "15        1                   Lhasa  0.582330    True            Shih-tzu   \n",
       "16        1          English_setter  0.298617    True        Newfoundland   \n",
       "17        1                     Hen  0.965932   False                Cock   \n",
       "18        1        Desktop_computer  0.086502   False                Desk   \n",
       "19        1       Italian_greyhound  0.176053    True         Toy_terrier   \n",
       "\n",
       "     p2_conf  p2_dog                           p3   p3_conf  p3_dog  \n",
       "0   0.156665    True            Shetland_sheepdog  0.061428    True  \n",
       "1   0.074192    True          Rhodesian_ridgeback  0.072010    True  \n",
       "2   0.138584    True                   Bloodhound  0.116197    True  \n",
       "3   0.360687    True           Miniature_pinscher  0.222752    True  \n",
       "4   0.243682    True                     Doberman  0.154629    True  \n",
       "5   0.263788    True   Greater_swiss_mountain_dog  0.016199    True  \n",
       "6   0.045885   False                     Terrapin  0.017885   False  \n",
       "7   0.058279    True                     Fur_coat  0.054449   False  \n",
       "8   0.014594   False             Golden_retriever  0.007959    True  \n",
       "9   0.192305    True  Soft-coated_wheaten_terrier  0.082086    True  \n",
       "10  0.093718    True           Labrador_retriever  0.072427    True  \n",
       "11  0.174201    True                     Pekinese  0.109454    True  \n",
       "12  0.175382    True                 Ibizan_hound  0.097471    True  \n",
       "13  0.404722    True               French_bulldog  0.048960    True  \n",
       "14  0.078260    True                     Malinois  0.075628    True  \n",
       "15  0.166192    True               Dandie_dinmont  0.089688    True  \n",
       "16  0.149842    True                       Borzoi  0.133649    True  \n",
       "17  0.033919   False                    Partridge  0.000052   False  \n",
       "18  0.085547   False                     Bookcase  0.079480   False  \n",
       "19  0.111884    True                      Basenji  0.111152    True  "
      ]
     },
     "execution_count": 71,
     "metadata": {},
     "output_type": "execute_result"
    }
   ],
   "source": [
    "image_data2.head(20)"
   ]
  },
  {
   "cell_type": "code",
   "execution_count": 72,
   "metadata": {},
   "outputs": [
    {
     "data": {
      "text/plain": [
       "Golden_retriever      150\n",
       "Labrador_retriever    100\n",
       "Pembroke               89\n",
       "Chihuahua              83\n",
       "Pug                    57\n",
       "                     ... \n",
       "Pillow                  1\n",
       "Carousel                1\n",
       "Bald_eagle              1\n",
       "Lorikeet                1\n",
       "Orange                  1\n",
       "Name: p1, Length: 378, dtype: int64"
      ]
     },
     "execution_count": 72,
     "metadata": {},
     "output_type": "execute_result"
    }
   ],
   "source": [
    "image_data2['p1'].value_counts()"
   ]
  },
  {
   "cell_type": "markdown",
   "metadata": {},
   "source": [
    "### Issue 9\n",
    "\n",
    "tweet_id columns in all tables is int"
   ]
  },
  {
   "cell_type": "markdown",
   "metadata": {},
   "source": [
    "##### Define\n",
    "\n",
    "Convert tweet_id to string datatype in all datatypes"
   ]
  },
  {
   "cell_type": "code",
   "execution_count": null,
   "metadata": {},
   "outputs": [],
   "source": []
  },
  {
   "cell_type": "markdown",
   "metadata": {},
   "source": [
    "##### Code"
   ]
  },
  {
   "cell_type": "code",
   "execution_count": 73,
   "metadata": {},
   "outputs": [],
   "source": [
    "twitter_archive_data2.tweet_id = twitter_archive_data2.tweet_id.astype(str)\n",
    "image_data2.tweet_id = image_data2.tweet_id.astype(str)\n",
    "Json_data2.tweet_id = Json_data2.tweet_id.astype(str)"
   ]
  },
  {
   "cell_type": "code",
   "execution_count": 74,
   "metadata": {},
   "outputs": [],
   "source": [
    "##### Test"
   ]
  },
  {
   "cell_type": "code",
   "execution_count": 75,
   "metadata": {},
   "outputs": [
    {
     "data": {
      "text/plain": [
       "dtype('O')"
      ]
     },
     "execution_count": 75,
     "metadata": {},
     "output_type": "execute_result"
    }
   ],
   "source": [
    "twitter_archive_data2.tweet_id.dtype"
   ]
  },
  {
   "cell_type": "code",
   "execution_count": 76,
   "metadata": {},
   "outputs": [
    {
     "data": {
      "text/plain": [
       "dtype('O')"
      ]
     },
     "execution_count": 76,
     "metadata": {},
     "output_type": "execute_result"
    }
   ],
   "source": [
    "image_data2.tweet_id.dtype"
   ]
  },
  {
   "cell_type": "code",
   "execution_count": 77,
   "metadata": {},
   "outputs": [
    {
     "data": {
      "text/plain": [
       "dtype('O')"
      ]
     },
     "execution_count": 77,
     "metadata": {},
     "output_type": "execute_result"
    }
   ],
   "source": [
    "Json_data2.tweet_id.dtype"
   ]
  },
  {
   "cell_type": "markdown",
   "metadata": {},
   "source": [
    "### Tidiness issue"
   ]
  },
  {
   "cell_type": "markdown",
   "metadata": {},
   "source": [
    "#### Issue 1"
   ]
  },
  {
   "cell_type": "markdown",
   "metadata": {},
   "source": [
    "###### Define\n",
    " \n",
    "Merging dog_stage name to one column"
   ]
  },
  {
   "cell_type": "markdown",
   "metadata": {},
   "source": [
    "##### Code"
   ]
  },
  {
   "cell_type": "markdown",
   "metadata": {},
   "source": [
    "twitter_archive_data2 = twitter_df.copy()\n",
    "image_data2 = image_df.copy()\n",
    "Json_data2 = tweet_json_data.copy()"
   ]
  },
  {
   "cell_type": "code",
   "execution_count": 78,
   "metadata": {},
   "outputs": [
    {
     "data": {
      "text/plain": [
       "(2097, 14)"
      ]
     },
     "execution_count": 78,
     "metadata": {},
     "output_type": "execute_result"
    }
   ],
   "source": [
    "twitter_archive_data2.shape"
   ]
  },
  {
   "cell_type": "code",
   "execution_count": 79,
   "metadata": {},
   "outputs": [
    {
     "data": {
      "text/plain": [
       "Index(['tweet_id', 'timestamp', 'source', 'text', 'expanded_urls',\n",
       "       'rating_numerator', 'rating_denominator', 'name', 'doggo', 'floofer',\n",
       "       'pupper', 'puppo', 'rating_numerator2', 'rating_denominator2'],\n",
       "      dtype='object')"
      ]
     },
     "execution_count": 79,
     "metadata": {},
     "output_type": "execute_result"
    }
   ],
   "source": [
    "twitter_archive_data2.columns"
   ]
  },
  {
   "cell_type": "markdown",
   "metadata": {},
   "source": [
    "twitter_archive_data_staged = twitter_archive_data2.melt(id_vars=['tweet_id', 'timestamp', 'source', 'text', 'expanded_urls', 'rating_numerator', 'rating_denominator', 'name','rating_numerator2', 'rating_denominator2'], value_vars=['doggo','floofer','pupper','puppo'], var_name='dog_stage', value_name='dog_stage_name')"
   ]
  },
  {
   "cell_type": "code",
   "execution_count": 80,
   "metadata": {},
   "outputs": [],
   "source": [
    "### unbunduling the dog stage colums using concantenation method\n",
    "\n",
    "twitter_archive_data2['dog_stage'] = twitter_archive_data2['doggo'] + twitter_archive_data2['floofer'] + twitter_archive_data2['pupper'] + twitter_archive_data2['puppo'] "
   ]
  },
  {
   "cell_type": "code",
   "execution_count": 81,
   "metadata": {},
   "outputs": [
    {
     "name": "stdout",
     "output_type": "stream",
     "text": [
      "<class 'pandas.core.frame.DataFrame'>\n",
      "Int64Index: 2097 entries, 0 to 2355\n",
      "Data columns (total 15 columns):\n",
      " #   Column               Non-Null Count  Dtype              \n",
      "---  ------               --------------  -----              \n",
      " 0   tweet_id             2097 non-null   object             \n",
      " 1   timestamp            2097 non-null   datetime64[ns, UTC]\n",
      " 2   source               2097 non-null   object             \n",
      " 3   text                 2097 non-null   object             \n",
      " 4   expanded_urls        2094 non-null   object             \n",
      " 5   rating_numerator     2097 non-null   int64              \n",
      " 6   rating_denominator   2097 non-null   int64              \n",
      " 7   name                 2097 non-null   object             \n",
      " 8   doggo                2097 non-null   object             \n",
      " 9   floofer              2097 non-null   object             \n",
      " 10  pupper               2097 non-null   object             \n",
      " 11  puppo                2097 non-null   object             \n",
      " 12  rating_numerator2    2097 non-null   int64              \n",
      " 13  rating_denominator2  2097 non-null   int64              \n",
      " 14  dog_stage            2097 non-null   object             \n",
      "dtypes: datetime64[ns, UTC](1), int64(4), object(10)\n",
      "memory usage: 326.7+ KB\n"
     ]
    }
   ],
   "source": [
    "twitter_archive_data2.info()"
   ]
  },
  {
   "cell_type": "code",
   "execution_count": 82,
   "metadata": {},
   "outputs": [
    {
     "data": {
      "text/plain": [
       "                1761\n",
       "pupper           221\n",
       "doggo             72\n",
       "puppo             23\n",
       "floofer            9\n",
       "doggopupper        9\n",
       "doggopuppo         1\n",
       "doggofloofer       1\n",
       "Name: dog_stage, dtype: int64"
      ]
     },
     "execution_count": 82,
     "metadata": {},
     "output_type": "execute_result"
    }
   ],
   "source": [
    "twitter_archive_data2['dog_stage'].value_counts()"
   ]
  },
  {
   "cell_type": "code",
   "execution_count": 83,
   "metadata": {},
   "outputs": [],
   "source": [
    "#Making dog stage readable\n",
    "\n",
    "twitter_archive_data2.dog_stage.replace('doggopupper', 'doggo, pupper', inplace=True)\n",
    "\n",
    "twitter_archive_data2.dog_stage.replace('doggopuppo', 'doggo, puppo', inplace=True)\n",
    "\n",
    "twitter_archive_data2.dog_stage.replace('doggofloofer', 'doggo, floofer', inplace=True)\n",
    "\n",
    "twitter_archive_data2.dog_stage.replace('', 'None', inplace=True)\n",
    "\n"
   ]
  },
  {
   "cell_type": "code",
   "execution_count": null,
   "metadata": {},
   "outputs": [],
   "source": []
  },
  {
   "cell_type": "code",
   "execution_count": null,
   "metadata": {},
   "outputs": [],
   "source": []
  },
  {
   "cell_type": "code",
   "execution_count": null,
   "metadata": {},
   "outputs": [],
   "source": []
  },
  {
   "cell_type": "code",
   "execution_count": null,
   "metadata": {},
   "outputs": [],
   "source": []
  },
  {
   "cell_type": "code",
   "execution_count": null,
   "metadata": {},
   "outputs": [],
   "source": []
  },
  {
   "cell_type": "markdown",
   "metadata": {},
   "source": [
    "##### Test"
   ]
  },
  {
   "cell_type": "code",
   "execution_count": 84,
   "metadata": {},
   "outputs": [
    {
     "data": {
      "text/plain": [
       "None              1761\n",
       "pupper             221\n",
       "doggo               72\n",
       "puppo               23\n",
       "floofer              9\n",
       "doggo, pupper        9\n",
       "doggo, puppo         1\n",
       "doggo, floofer       1\n",
       "Name: dog_stage, dtype: int64"
      ]
     },
     "execution_count": 84,
     "metadata": {},
     "output_type": "execute_result"
    }
   ],
   "source": [
    "twitter_archive_data2['dog_stage'].value_counts()"
   ]
  },
  {
   "cell_type": "code",
   "execution_count": 85,
   "metadata": {},
   "outputs": [
    {
     "data": {
      "text/plain": [
       "Index(['tweet_id', 'timestamp', 'source', 'text', 'expanded_urls',\n",
       "       'rating_numerator', 'rating_denominator', 'name', 'doggo', 'floofer',\n",
       "       'pupper', 'puppo', 'rating_numerator2', 'rating_denominator2',\n",
       "       'dog_stage'],\n",
       "      dtype='object')"
      ]
     },
     "execution_count": 85,
     "metadata": {},
     "output_type": "execute_result"
    }
   ],
   "source": [
    "twitter_archive_data2.columns\n"
   ]
  },
  {
   "cell_type": "code",
   "execution_count": 86,
   "metadata": {},
   "outputs": [],
   "source": [
    "#dropping dog stage values used as columns\n",
    "twitter_archive_data2.drop(['doggo', 'floofer', 'pupper', 'puppo','rating_numerator', 'rating_denominator'], axis=1, inplace=True)"
   ]
  },
  {
   "cell_type": "code",
   "execution_count": null,
   "metadata": {},
   "outputs": [],
   "source": []
  },
  {
   "cell_type": "markdown",
   "metadata": {},
   "source": [
    "#### Issue 2"
   ]
  },
  {
   "cell_type": "markdown",
   "metadata": {},
   "source": [
    "###### Define\n",
    "\n",
    "\n",
    "Rename columns in image_data2 to be more descriptive and clear"
   ]
  },
  {
   "cell_type": "markdown",
   "metadata": {},
   "source": [
    "##### code"
   ]
  },
  {
   "cell_type": "code",
   "execution_count": 87,
   "metadata": {},
   "outputs": [],
   "source": [
    "image_data2.rename(columns = {'p1':'img_predicton1', 'p1_conf':'img_prediction1_conf', 'p1_dog':'img_prediction1_isbreed' }, inplace = True)\n"
   ]
  },
  {
   "cell_type": "code",
   "execution_count": 88,
   "metadata": {},
   "outputs": [],
   "source": [
    "image_data2.rename(columns = {'p2':'img_predicton2', 'p2_conf':'img_prediction2_conf', 'p2_dog':'img_prediction2_isbreed' }, inplace = True)\n"
   ]
  },
  {
   "cell_type": "code",
   "execution_count": 89,
   "metadata": {},
   "outputs": [],
   "source": [
    "image_data2.rename(columns = {'p3':'img_predicton3', 'p3_conf':'img_prediction3_conf', 'p3_dog':'img_prediction3_isbreed' }, inplace = True)\n"
   ]
  },
  {
   "cell_type": "code",
   "execution_count": null,
   "metadata": {},
   "outputs": [],
   "source": []
  },
  {
   "cell_type": "code",
   "execution_count": null,
   "metadata": {},
   "outputs": [],
   "source": []
  },
  {
   "cell_type": "code",
   "execution_count": null,
   "metadata": {},
   "outputs": [],
   "source": []
  },
  {
   "cell_type": "markdown",
   "metadata": {},
   "source": [
    "##### Test"
   ]
  },
  {
   "cell_type": "code",
   "execution_count": 90,
   "metadata": {},
   "outputs": [
    {
     "data": {
      "text/html": [
       "<div>\n",
       "<style scoped>\n",
       "    .dataframe tbody tr th:only-of-type {\n",
       "        vertical-align: middle;\n",
       "    }\n",
       "\n",
       "    .dataframe tbody tr th {\n",
       "        vertical-align: top;\n",
       "    }\n",
       "\n",
       "    .dataframe thead th {\n",
       "        text-align: right;\n",
       "    }\n",
       "</style>\n",
       "<table border=\"1\" class=\"dataframe\">\n",
       "  <thead>\n",
       "    <tr style=\"text-align: right;\">\n",
       "      <th></th>\n",
       "      <th>tweet_id</th>\n",
       "      <th>jpg_url</th>\n",
       "      <th>img_num</th>\n",
       "      <th>img_predicton1</th>\n",
       "      <th>img_prediction1_conf</th>\n",
       "      <th>img_prediction1_isbreed</th>\n",
       "      <th>img_predicton2</th>\n",
       "      <th>img_prediction2_conf</th>\n",
       "      <th>img_prediction2_isbreed</th>\n",
       "      <th>img_predicton3</th>\n",
       "      <th>img_prediction3_conf</th>\n",
       "      <th>img_prediction3_isbreed</th>\n",
       "    </tr>\n",
       "  </thead>\n",
       "  <tbody>\n",
       "    <tr>\n",
       "      <th>0</th>\n",
       "      <td>666020888022790149</td>\n",
       "      <td>https://pbs.twimg.com/media/CT4udn0WwAA0aMy.jpg</td>\n",
       "      <td>1</td>\n",
       "      <td>Welsh_springer_spaniel</td>\n",
       "      <td>0.465074</td>\n",
       "      <td>True</td>\n",
       "      <td>Collie</td>\n",
       "      <td>0.156665</td>\n",
       "      <td>True</td>\n",
       "      <td>Shetland_sheepdog</td>\n",
       "      <td>0.061428</td>\n",
       "      <td>True</td>\n",
       "    </tr>\n",
       "    <tr>\n",
       "      <th>1</th>\n",
       "      <td>666029285002620928</td>\n",
       "      <td>https://pbs.twimg.com/media/CT42GRgUYAA5iDo.jpg</td>\n",
       "      <td>1</td>\n",
       "      <td>Redbone</td>\n",
       "      <td>0.506826</td>\n",
       "      <td>True</td>\n",
       "      <td>Miniature_pinscher</td>\n",
       "      <td>0.074192</td>\n",
       "      <td>True</td>\n",
       "      <td>Rhodesian_ridgeback</td>\n",
       "      <td>0.072010</td>\n",
       "      <td>True</td>\n",
       "    </tr>\n",
       "    <tr>\n",
       "      <th>2</th>\n",
       "      <td>666033412701032449</td>\n",
       "      <td>https://pbs.twimg.com/media/CT4521TWwAEvMyu.jpg</td>\n",
       "      <td>1</td>\n",
       "      <td>German_shepherd</td>\n",
       "      <td>0.596461</td>\n",
       "      <td>True</td>\n",
       "      <td>Malinois</td>\n",
       "      <td>0.138584</td>\n",
       "      <td>True</td>\n",
       "      <td>Bloodhound</td>\n",
       "      <td>0.116197</td>\n",
       "      <td>True</td>\n",
       "    </tr>\n",
       "    <tr>\n",
       "      <th>3</th>\n",
       "      <td>666044226329800704</td>\n",
       "      <td>https://pbs.twimg.com/media/CT5Dr8HUEAA-lEu.jpg</td>\n",
       "      <td>1</td>\n",
       "      <td>Rhodesian_ridgeback</td>\n",
       "      <td>0.408143</td>\n",
       "      <td>True</td>\n",
       "      <td>Redbone</td>\n",
       "      <td>0.360687</td>\n",
       "      <td>True</td>\n",
       "      <td>Miniature_pinscher</td>\n",
       "      <td>0.222752</td>\n",
       "      <td>True</td>\n",
       "    </tr>\n",
       "    <tr>\n",
       "      <th>4</th>\n",
       "      <td>666049248165822465</td>\n",
       "      <td>https://pbs.twimg.com/media/CT5IQmsXIAAKY4A.jpg</td>\n",
       "      <td>1</td>\n",
       "      <td>Miniature_pinscher</td>\n",
       "      <td>0.560311</td>\n",
       "      <td>True</td>\n",
       "      <td>Rottweiler</td>\n",
       "      <td>0.243682</td>\n",
       "      <td>True</td>\n",
       "      <td>Doberman</td>\n",
       "      <td>0.154629</td>\n",
       "      <td>True</td>\n",
       "    </tr>\n",
       "  </tbody>\n",
       "</table>\n",
       "</div>"
      ],
      "text/plain": [
       "             tweet_id                                          jpg_url  \\\n",
       "0  666020888022790149  https://pbs.twimg.com/media/CT4udn0WwAA0aMy.jpg   \n",
       "1  666029285002620928  https://pbs.twimg.com/media/CT42GRgUYAA5iDo.jpg   \n",
       "2  666033412701032449  https://pbs.twimg.com/media/CT4521TWwAEvMyu.jpg   \n",
       "3  666044226329800704  https://pbs.twimg.com/media/CT5Dr8HUEAA-lEu.jpg   \n",
       "4  666049248165822465  https://pbs.twimg.com/media/CT5IQmsXIAAKY4A.jpg   \n",
       "\n",
       "   img_num          img_predicton1  img_prediction1_conf  \\\n",
       "0        1  Welsh_springer_spaniel              0.465074   \n",
       "1        1                 Redbone              0.506826   \n",
       "2        1         German_shepherd              0.596461   \n",
       "3        1     Rhodesian_ridgeback              0.408143   \n",
       "4        1      Miniature_pinscher              0.560311   \n",
       "\n",
       "   img_prediction1_isbreed      img_predicton2  img_prediction2_conf  \\\n",
       "0                     True              Collie              0.156665   \n",
       "1                     True  Miniature_pinscher              0.074192   \n",
       "2                     True            Malinois              0.138584   \n",
       "3                     True             Redbone              0.360687   \n",
       "4                     True          Rottweiler              0.243682   \n",
       "\n",
       "   img_prediction2_isbreed       img_predicton3  img_prediction3_conf  \\\n",
       "0                     True    Shetland_sheepdog              0.061428   \n",
       "1                     True  Rhodesian_ridgeback              0.072010   \n",
       "2                     True           Bloodhound              0.116197   \n",
       "3                     True   Miniature_pinscher              0.222752   \n",
       "4                     True             Doberman              0.154629   \n",
       "\n",
       "   img_prediction3_isbreed  \n",
       "0                     True  \n",
       "1                     True  \n",
       "2                     True  \n",
       "3                     True  \n",
       "4                     True  "
      ]
     },
     "execution_count": 90,
     "metadata": {},
     "output_type": "execute_result"
    }
   ],
   "source": [
    "image_data2.head()"
   ]
  },
  {
   "cell_type": "code",
   "execution_count": 91,
   "metadata": {},
   "outputs": [
    {
     "data": {
      "text/plain": [
       "Index(['tweet_id', 'jpg_url', 'img_num', 'img_predicton1',\n",
       "       'img_prediction1_conf', 'img_prediction1_isbreed', 'img_predicton2',\n",
       "       'img_prediction2_conf', 'img_prediction2_isbreed', 'img_predicton3',\n",
       "       'img_prediction3_conf', 'img_prediction3_isbreed'],\n",
       "      dtype='object')"
      ]
     },
     "execution_count": 91,
     "metadata": {},
     "output_type": "execute_result"
    }
   ],
   "source": [
    "image_data2.columns"
   ]
  },
  {
   "cell_type": "code",
   "execution_count": 92,
   "metadata": {},
   "outputs": [
    {
     "data": {
      "text/plain": [
       "Index(['tweet_id', 'timestamp', 'source', 'text', 'expanded_urls', 'name',\n",
       "       'rating_numerator2', 'rating_denominator2', 'dog_stage'],\n",
       "      dtype='object')"
      ]
     },
     "execution_count": 92,
     "metadata": {},
     "output_type": "execute_result"
    }
   ],
   "source": [
    "twitter_archive_data2.columns"
   ]
  },
  {
   "cell_type": "code",
   "execution_count": null,
   "metadata": {},
   "outputs": [],
   "source": []
  },
  {
   "cell_type": "markdown",
   "metadata": {},
   "source": [
    "#### issue 3\n",
    "\n",
    "tweet_id floating-point rounding issue.\n",
    "\n",
    "Link: https://stackoverflow.com/questions/66801873/why-is-my-individual-tweet-id-number-changing-last-few-digits-to-0-when-receiv"
   ]
  },
  {
   "cell_type": "markdown",
   "metadata": {},
   "source": [
    "##### Define\n",
    "\n",
    "In practice, JSON numbers are often parsed into IEEE 754 double-precision floating-point values; when a value is encountered that cannot be represented exactly by that number format, the number is usually rounded to the nearest representable value.\n",
    "\n",
    "This made merging on tweet_id difficult.\n",
    "\n",
    "Removing the last three digit on tweet_id\n"
   ]
  },
  {
   "cell_type": "markdown",
   "metadata": {},
   "source": [
    "##### Code"
   ]
  },
  {
   "cell_type": "code",
   "execution_count": null,
   "metadata": {},
   "outputs": [],
   "source": []
  },
  {
   "cell_type": "code",
   "execution_count": 93,
   "metadata": {},
   "outputs": [],
   "source": [
    "twitter_archive_data2['tweet_id'] = twitter_archive_data2['tweet_id'].apply(lambda x: x[0:-3])\n",
    "image_data2['tweet_id'] = image_data2['tweet_id'].apply(lambda x: x[0:-3])\n",
    "Json_data2['tweet_id'] = Json_data2['tweet_id'].apply(lambda x: x[0:-3])"
   ]
  },
  {
   "cell_type": "code",
   "execution_count": null,
   "metadata": {},
   "outputs": [],
   "source": []
  },
  {
   "cell_type": "code",
   "execution_count": null,
   "metadata": {},
   "outputs": [],
   "source": []
  },
  {
   "cell_type": "markdown",
   "metadata": {},
   "source": [
    "##### Test"
   ]
  },
  {
   "cell_type": "code",
   "execution_count": 94,
   "metadata": {},
   "outputs": [
    {
     "data": {
      "text/plain": [
       "15"
      ]
     },
     "execution_count": 94,
     "metadata": {},
     "output_type": "execute_result"
    }
   ],
   "source": [
    "len(twitter_archive_data2['tweet_id'][1])"
   ]
  },
  {
   "cell_type": "code",
   "execution_count": null,
   "metadata": {},
   "outputs": [],
   "source": [
    "\n"
   ]
  },
  {
   "cell_type": "code",
   "execution_count": null,
   "metadata": {},
   "outputs": [],
   "source": []
  },
  {
   "cell_type": "code",
   "execution_count": null,
   "metadata": {},
   "outputs": [],
   "source": []
  },
  {
   "cell_type": "markdown",
   "metadata": {},
   "source": [
    "## Storing Data\n",
    "Save gathered, assessed, and cleaned master dataset to a CSV file named \"twitter_archive_master.csv\"."
   ]
  },
  {
   "cell_type": "markdown",
   "metadata": {},
   "source": [
    "twitter_archive_data2\n",
    "\n",
    "image_data2 \n",
    "\n",
    "Json_data2 "
   ]
  },
  {
   "cell_type": "code",
   "execution_count": null,
   "metadata": {},
   "outputs": [],
   "source": []
  },
  {
   "cell_type": "code",
   "execution_count": 95,
   "metadata": {},
   "outputs": [],
   "source": [
    "#Reset indexes of dataframes\n",
    "\n",
    "\n",
    "\n",
    "twitter_archive_data2 = twitter_archive_data2.reset_index(drop=True)\n",
    "image_data2 = image_data2.reset_index(drop=True)\n",
    "Json_data2 = Json_data2.reset_index(drop=True)"
   ]
  },
  {
   "cell_type": "code",
   "execution_count": null,
   "metadata": {},
   "outputs": [],
   "source": []
  },
  {
   "cell_type": "code",
   "execution_count": null,
   "metadata": {},
   "outputs": [],
   "source": []
  },
  {
   "cell_type": "code",
   "execution_count": 96,
   "metadata": {},
   "outputs": [
    {
     "data": {
      "text/plain": [
       "(2097, 9)"
      ]
     },
     "execution_count": 96,
     "metadata": {},
     "output_type": "execute_result"
    }
   ],
   "source": [
    "twitter_archive_data2.shape"
   ]
  },
  {
   "cell_type": "code",
   "execution_count": 97,
   "metadata": {},
   "outputs": [
    {
     "data": {
      "text/plain": [
       "(2075, 12)"
      ]
     },
     "execution_count": 97,
     "metadata": {},
     "output_type": "execute_result"
    }
   ],
   "source": [
    "image_data2.shape"
   ]
  },
  {
   "cell_type": "code",
   "execution_count": 98,
   "metadata": {},
   "outputs": [
    {
     "data": {
      "text/plain": [
       "(2354, 6)"
      ]
     },
     "execution_count": 98,
     "metadata": {},
     "output_type": "execute_result"
    }
   ],
   "source": [
    "Json_data2.shape"
   ]
  },
  {
   "cell_type": "markdown",
   "metadata": {},
   "source": [
    "###### merging on similar tweet id"
   ]
  },
  {
   "cell_type": "code",
   "execution_count": 99,
   "metadata": {},
   "outputs": [],
   "source": [
    "twitter_archive_master = twitter_archive_data2.merge(Json_data2,on='tweet_id').merge(image_data2,on='tweet_id')"
   ]
  },
  {
   "cell_type": "code",
   "execution_count": 100,
   "metadata": {},
   "outputs": [
    {
     "data": {
      "text/plain": [
       "(1971, 25)"
      ]
     },
     "execution_count": 100,
     "metadata": {},
     "output_type": "execute_result"
    }
   ],
   "source": [
    "twitter_archive_master.shape"
   ]
  },
  {
   "cell_type": "code",
   "execution_count": 101,
   "metadata": {},
   "outputs": [
    {
     "data": {
      "text/html": [
       "<div>\n",
       "<style scoped>\n",
       "    .dataframe tbody tr th:only-of-type {\n",
       "        vertical-align: middle;\n",
       "    }\n",
       "\n",
       "    .dataframe tbody tr th {\n",
       "        vertical-align: top;\n",
       "    }\n",
       "\n",
       "    .dataframe thead th {\n",
       "        text-align: right;\n",
       "    }\n",
       "</style>\n",
       "<table border=\"1\" class=\"dataframe\">\n",
       "  <thead>\n",
       "    <tr style=\"text-align: right;\">\n",
       "      <th></th>\n",
       "      <th>tweet_id</th>\n",
       "      <th>timestamp</th>\n",
       "      <th>source</th>\n",
       "      <th>text</th>\n",
       "      <th>expanded_urls</th>\n",
       "      <th>name</th>\n",
       "      <th>rating_numerator2</th>\n",
       "      <th>rating_denominator2</th>\n",
       "      <th>dog_stage</th>\n",
       "      <th>retweet_count</th>\n",
       "      <th>...</th>\n",
       "      <th>img_num</th>\n",
       "      <th>img_predicton1</th>\n",
       "      <th>img_prediction1_conf</th>\n",
       "      <th>img_prediction1_isbreed</th>\n",
       "      <th>img_predicton2</th>\n",
       "      <th>img_prediction2_conf</th>\n",
       "      <th>img_prediction2_isbreed</th>\n",
       "      <th>img_predicton3</th>\n",
       "      <th>img_prediction3_conf</th>\n",
       "      <th>img_prediction3_isbreed</th>\n",
       "    </tr>\n",
       "  </thead>\n",
       "  <tbody>\n",
       "    <tr>\n",
       "      <th>0</th>\n",
       "      <td>892420643555336</td>\n",
       "      <td>2017-08-01 16:23:56+00:00</td>\n",
       "      <td>&lt;a href=\"http://twitter.com/download/iphone\" r...</td>\n",
       "      <td>This is Phineas. He's a mystical boy. Only eve...</td>\n",
       "      <td>https://twitter.com/dog_rates/status/892420643...</td>\n",
       "      <td>Phineas</td>\n",
       "      <td>13</td>\n",
       "      <td>10</td>\n",
       "      <td>None</td>\n",
       "      <td>8853</td>\n",
       "      <td>...</td>\n",
       "      <td>1</td>\n",
       "      <td>Orange</td>\n",
       "      <td>0.097049</td>\n",
       "      <td>False</td>\n",
       "      <td>Bagel</td>\n",
       "      <td>0.085851</td>\n",
       "      <td>False</td>\n",
       "      <td>Banana</td>\n",
       "      <td>0.076110</td>\n",
       "      <td>False</td>\n",
       "    </tr>\n",
       "    <tr>\n",
       "      <th>1</th>\n",
       "      <td>892177421306343</td>\n",
       "      <td>2017-08-01 00:17:27+00:00</td>\n",
       "      <td>&lt;a href=\"http://twitter.com/download/iphone\" r...</td>\n",
       "      <td>This is Tilly. She's just checking pup on you....</td>\n",
       "      <td>https://twitter.com/dog_rates/status/892177421...</td>\n",
       "      <td>Tilly</td>\n",
       "      <td>13</td>\n",
       "      <td>10</td>\n",
       "      <td>None</td>\n",
       "      <td>6514</td>\n",
       "      <td>...</td>\n",
       "      <td>1</td>\n",
       "      <td>Chihuahua</td>\n",
       "      <td>0.323581</td>\n",
       "      <td>True</td>\n",
       "      <td>Pekinese</td>\n",
       "      <td>0.090647</td>\n",
       "      <td>True</td>\n",
       "      <td>Papillon</td>\n",
       "      <td>0.068957</td>\n",
       "      <td>True</td>\n",
       "    </tr>\n",
       "    <tr>\n",
       "      <th>2</th>\n",
       "      <td>891815181378084</td>\n",
       "      <td>2017-07-31 00:18:03+00:00</td>\n",
       "      <td>&lt;a href=\"http://twitter.com/download/iphone\" r...</td>\n",
       "      <td>This is Archie. He is a rare Norwegian Pouncin...</td>\n",
       "      <td>https://twitter.com/dog_rates/status/891815181...</td>\n",
       "      <td>Archie</td>\n",
       "      <td>12</td>\n",
       "      <td>10</td>\n",
       "      <td>None</td>\n",
       "      <td>4328</td>\n",
       "      <td>...</td>\n",
       "      <td>1</td>\n",
       "      <td>Chihuahua</td>\n",
       "      <td>0.716012</td>\n",
       "      <td>True</td>\n",
       "      <td>Malamute</td>\n",
       "      <td>0.078253</td>\n",
       "      <td>True</td>\n",
       "      <td>Kelpie</td>\n",
       "      <td>0.031379</td>\n",
       "      <td>True</td>\n",
       "    </tr>\n",
       "    <tr>\n",
       "      <th>3</th>\n",
       "      <td>891689557279858</td>\n",
       "      <td>2017-07-30 15:58:51+00:00</td>\n",
       "      <td>&lt;a href=\"http://twitter.com/download/iphone\" r...</td>\n",
       "      <td>This is Darla. She commenced a snooze mid meal...</td>\n",
       "      <td>https://twitter.com/dog_rates/status/891689557...</td>\n",
       "      <td>Darla</td>\n",
       "      <td>13</td>\n",
       "      <td>10</td>\n",
       "      <td>None</td>\n",
       "      <td>8964</td>\n",
       "      <td>...</td>\n",
       "      <td>1</td>\n",
       "      <td>Paper_towel</td>\n",
       "      <td>0.170278</td>\n",
       "      <td>False</td>\n",
       "      <td>Labrador_retriever</td>\n",
       "      <td>0.168086</td>\n",
       "      <td>True</td>\n",
       "      <td>Spatula</td>\n",
       "      <td>0.040836</td>\n",
       "      <td>False</td>\n",
       "    </tr>\n",
       "    <tr>\n",
       "      <th>4</th>\n",
       "      <td>891327558926688</td>\n",
       "      <td>2017-07-29 16:00:24+00:00</td>\n",
       "      <td>&lt;a href=\"http://twitter.com/download/iphone\" r...</td>\n",
       "      <td>This is Franklin. He would like you to stop ca...</td>\n",
       "      <td>https://twitter.com/dog_rates/status/891327558...</td>\n",
       "      <td>Franklin</td>\n",
       "      <td>12</td>\n",
       "      <td>10</td>\n",
       "      <td>None</td>\n",
       "      <td>9774</td>\n",
       "      <td>...</td>\n",
       "      <td>2</td>\n",
       "      <td>Basset</td>\n",
       "      <td>0.555712</td>\n",
       "      <td>True</td>\n",
       "      <td>English_springer</td>\n",
       "      <td>0.225770</td>\n",
       "      <td>True</td>\n",
       "      <td>German_short-haired_pointer</td>\n",
       "      <td>0.175219</td>\n",
       "      <td>True</td>\n",
       "    </tr>\n",
       "  </tbody>\n",
       "</table>\n",
       "<p>5 rows × 25 columns</p>\n",
       "</div>"
      ],
      "text/plain": [
       "          tweet_id                 timestamp  \\\n",
       "0  892420643555336 2017-08-01 16:23:56+00:00   \n",
       "1  892177421306343 2017-08-01 00:17:27+00:00   \n",
       "2  891815181378084 2017-07-31 00:18:03+00:00   \n",
       "3  891689557279858 2017-07-30 15:58:51+00:00   \n",
       "4  891327558926688 2017-07-29 16:00:24+00:00   \n",
       "\n",
       "                                              source  \\\n",
       "0  <a href=\"http://twitter.com/download/iphone\" r...   \n",
       "1  <a href=\"http://twitter.com/download/iphone\" r...   \n",
       "2  <a href=\"http://twitter.com/download/iphone\" r...   \n",
       "3  <a href=\"http://twitter.com/download/iphone\" r...   \n",
       "4  <a href=\"http://twitter.com/download/iphone\" r...   \n",
       "\n",
       "                                                text  \\\n",
       "0  This is Phineas. He's a mystical boy. Only eve...   \n",
       "1  This is Tilly. She's just checking pup on you....   \n",
       "2  This is Archie. He is a rare Norwegian Pouncin...   \n",
       "3  This is Darla. She commenced a snooze mid meal...   \n",
       "4  This is Franklin. He would like you to stop ca...   \n",
       "\n",
       "                                       expanded_urls      name  \\\n",
       "0  https://twitter.com/dog_rates/status/892420643...   Phineas   \n",
       "1  https://twitter.com/dog_rates/status/892177421...     Tilly   \n",
       "2  https://twitter.com/dog_rates/status/891815181...    Archie   \n",
       "3  https://twitter.com/dog_rates/status/891689557...     Darla   \n",
       "4  https://twitter.com/dog_rates/status/891327558...  Franklin   \n",
       "\n",
       "   rating_numerator2  rating_denominator2 dog_stage  retweet_count  ...  \\\n",
       "0                 13                   10      None           8853  ...   \n",
       "1                 13                   10      None           6514  ...   \n",
       "2                 12                   10      None           4328  ...   \n",
       "3                 13                   10      None           8964  ...   \n",
       "4                 12                   10      None           9774  ...   \n",
       "\n",
       "   img_num  img_predicton1  img_prediction1_conf  img_prediction1_isbreed  \\\n",
       "0        1          Orange              0.097049                    False   \n",
       "1        1       Chihuahua              0.323581                     True   \n",
       "2        1       Chihuahua              0.716012                     True   \n",
       "3        1     Paper_towel              0.170278                    False   \n",
       "4        2          Basset              0.555712                     True   \n",
       "\n",
       "       img_predicton2  img_prediction2_conf img_prediction2_isbreed  \\\n",
       "0               Bagel              0.085851                   False   \n",
       "1            Pekinese              0.090647                    True   \n",
       "2            Malamute              0.078253                    True   \n",
       "3  Labrador_retriever              0.168086                    True   \n",
       "4    English_springer              0.225770                    True   \n",
       "\n",
       "                img_predicton3  img_prediction3_conf img_prediction3_isbreed  \n",
       "0                       Banana              0.076110                   False  \n",
       "1                     Papillon              0.068957                    True  \n",
       "2                       Kelpie              0.031379                    True  \n",
       "3                      Spatula              0.040836                   False  \n",
       "4  German_short-haired_pointer              0.175219                    True  \n",
       "\n",
       "[5 rows x 25 columns]"
      ]
     },
     "execution_count": 101,
     "metadata": {},
     "output_type": "execute_result"
    }
   ],
   "source": [
    "twitter_archive_master.head(5)"
   ]
  },
  {
   "cell_type": "markdown",
   "metadata": {},
   "source": [
    "##### Export data to csv"
   ]
  },
  {
   "cell_type": "code",
   "execution_count": 102,
   "metadata": {},
   "outputs": [],
   "source": [
    "\n",
    "\n",
    "twitter_archive_master.to_csv('twitter_archive_master.csv', index=False)"
   ]
  },
  {
   "cell_type": "code",
   "execution_count": 103,
   "metadata": {},
   "outputs": [
    {
     "data": {
      "text/plain": [
       "Index(['tweet_id', 'timestamp', 'source', 'text', 'expanded_urls', 'name',\n",
       "       'rating_numerator2', 'rating_denominator2', 'dog_stage',\n",
       "       'retweet_count', 'friends_count', 'favorite_count', 'followers_count',\n",
       "       'listed_count', 'jpg_url', 'img_num', 'img_predicton1',\n",
       "       'img_prediction1_conf', 'img_prediction1_isbreed', 'img_predicton2',\n",
       "       'img_prediction2_conf', 'img_prediction2_isbreed', 'img_predicton3',\n",
       "       'img_prediction3_conf', 'img_prediction3_isbreed'],\n",
       "      dtype='object')"
      ]
     },
     "execution_count": 103,
     "metadata": {},
     "output_type": "execute_result"
    }
   ],
   "source": [
    "twitter_archive_master.columns"
   ]
  },
  {
   "cell_type": "code",
   "execution_count": null,
   "metadata": {},
   "outputs": [],
   "source": []
  },
  {
   "cell_type": "code",
   "execution_count": null,
   "metadata": {},
   "outputs": [],
   "source": []
  },
  {
   "cell_type": "code",
   "execution_count": null,
   "metadata": {},
   "outputs": [],
   "source": []
  },
  {
   "cell_type": "markdown",
   "metadata": {},
   "source": [
    "## Analyzing and Visualizing Data\n",
    "I produce at least **three (3) insights and one (1) visualization.**"
   ]
  },
  {
   "cell_type": "code",
   "execution_count": 104,
   "metadata": {},
   "outputs": [],
   "source": [
    "twitter_master_data = pd.read_csv('twitter_archive_master.csv')"
   ]
  },
  {
   "cell_type": "code",
   "execution_count": 105,
   "metadata": {},
   "outputs": [
    {
     "data": {
      "text/plain": [
       "Index(['tweet_id', 'timestamp', 'source', 'text', 'expanded_urls', 'name',\n",
       "       'rating_numerator2', 'rating_denominator2', 'dog_stage',\n",
       "       'retweet_count', 'friends_count', 'favorite_count', 'followers_count',\n",
       "       'listed_count', 'jpg_url', 'img_num', 'img_predicton1',\n",
       "       'img_prediction1_conf', 'img_prediction1_isbreed', 'img_predicton2',\n",
       "       'img_prediction2_conf', 'img_prediction2_isbreed', 'img_predicton3',\n",
       "       'img_prediction3_conf', 'img_prediction3_isbreed'],\n",
       "      dtype='object')"
      ]
     },
     "execution_count": 105,
     "metadata": {},
     "output_type": "execute_result"
    }
   ],
   "source": [
    "twitter_master_data.columns"
   ]
  },
  {
   "cell_type": "code",
   "execution_count": 106,
   "metadata": {},
   "outputs": [],
   "source": [
    "twitter_master_data.drop(['expanded_urls','friends_count','listed_count'], axis=1, inplace=True)"
   ]
  },
  {
   "cell_type": "code",
   "execution_count": null,
   "metadata": {},
   "outputs": [],
   "source": []
  },
  {
   "cell_type": "code",
   "execution_count": 107,
   "metadata": {},
   "outputs": [],
   "source": [
    "# Wordcloud of dog names\n",
    "# Wordcloud of dog breeds on each prediction\n",
    "# What is the relationship between friends count and followers\n",
    "# Dog stage with the highest retweet count\n",
    "# What is the most favorite dog stage\n",
    "# What is the most frequent dog stage\n",
    "# What is dog breed with the highest rating on every prediction\n"
   ]
  },
  {
   "cell_type": "markdown",
   "metadata": {},
   "source": [
    "### Question(s) for Analysis\n",
    ">****: To analysis this data, I posed the following questions to understand the relationship between the variables and how they affect each other. While this may not be all inclusive, I believe they provide info to relevant stakeholders seeking to understand relationship between the dog stage, breeds, names to most favorite, retweeted and frequent tweets\n",
    "\n",
    "> **1**: What is the relationship between retweet count and favorite count?\n",
    "\n",
    "> **2**: Most retweeted dog stage?\n",
    "\n",
    "> **3**: What is the most favorite dog stage?\n",
    "\n",
    "> **4**: What is the most frequent dog stage?\n",
    "\n",
    "> **5**: Top ten is dog breed with the Numerator highest rating on every prediction\n",
    "\n",
    "> **6**: Wordcloud of dog names\n",
    "\n",
    "> **7**: Wordcloud of dog breeds on all the predictions\n",
    "\n",
    "\n",
    "\n"
   ]
  },
  {
   "cell_type": "markdown",
   "metadata": {
    "collapsed": true
   },
   "source": [
    "### Visualization"
   ]
  },
  {
   "cell_type": "markdown",
   "metadata": {},
   "source": [
    "### Exploratory Data Analysis"
   ]
  },
  {
   "cell_type": "code",
   "execution_count": 108,
   "metadata": {},
   "outputs": [
    {
     "data": {
      "text/plain": [
       "array([[<AxesSubplot:title={'center':'tweet_id'}>,\n",
       "        <AxesSubplot:title={'center':'rating_numerator2'}>,\n",
       "        <AxesSubplot:title={'center':'rating_denominator2'}>],\n",
       "       [<AxesSubplot:title={'center':'retweet_count'}>,\n",
       "        <AxesSubplot:title={'center':'favorite_count'}>,\n",
       "        <AxesSubplot:title={'center':'followers_count'}>],\n",
       "       [<AxesSubplot:title={'center':'img_num'}>,\n",
       "        <AxesSubplot:title={'center':'img_prediction1_conf'}>,\n",
       "        <AxesSubplot:title={'center':'img_prediction2_conf'}>],\n",
       "       [<AxesSubplot:title={'center':'img_prediction3_conf'}>,\n",
       "        <AxesSubplot:>, <AxesSubplot:>]], dtype=object)"
      ]
     },
     "execution_count": 108,
     "metadata": {},
     "output_type": "execute_result"
    },
    {
     "data": {
      "image/png": "[encoded data removed]",
      "text/plain": [
       "<Figure size 720x576 with 12 Axes>"
      ]
     },
     "metadata": {
      "needs_background": "light"
     },
     "output_type": "display_data"
    }
   ],
   "source": [
    "twitter_master_data.hist(figsize=(10,8))"
   ]
  },
  {
   "cell_type": "markdown",
   "metadata": {},
   "source": [
    "##### Relationship between retweet count and favorite count"
   ]
  },
  {
   "cell_type": "code",
   "execution_count": 109,
   "metadata": {},
   "outputs": [
    {
     "data": {
      "text/plain": [
       "Index(['tweet_id', 'timestamp', 'source', 'text', 'name', 'rating_numerator2',\n",
       "       'rating_denominator2', 'dog_stage', 'retweet_count', 'favorite_count',\n",
       "       'followers_count', 'jpg_url', 'img_num', 'img_predicton1',\n",
       "       'img_prediction1_conf', 'img_prediction1_isbreed', 'img_predicton2',\n",
       "       'img_prediction2_conf', 'img_prediction2_isbreed', 'img_predicton3',\n",
       "       'img_prediction3_conf', 'img_prediction3_isbreed'],\n",
       "      dtype='object')"
      ]
     },
     "execution_count": 109,
     "metadata": {},
     "output_type": "execute_result"
    }
   ],
   "source": [
    "twitter_master_data.columns"
   ]
  },
  {
   "cell_type": "code",
   "execution_count": 111,
   "metadata": {},
   "outputs": [
    {
     "data": {
      "image/png": "[encoded data removed]",
      "text/plain": [
       "<Figure size 432x288 with 1 Axes>"
      ]
     },
     "metadata": {
      "needs_background": "light"
     },
     "output_type": "display_data"
    }
   ],
   "source": [
    "#Does a dog favorite count dependend on the favorite count\n",
    "\n",
    "\n",
    "sns.regplot(x=\"retweet_count\", y=\"favorite_count\", data=twitter_master_data)\n",
    "plt.title('Relationship between Retweet Count and Favorite Count')\n",
    "plt.xlabel('Retweet Count')\n",
    "plt.ylabel('Favorite Count')\n",
    "plt.savefig('Retweet_Favorite.png', dpi=100, bbox_inches = 'tight');"
   ]
  },
  {
   "cell_type": "markdown",
   "metadata": {},
   "source": [
    "##### Most retweeted dog stage "
   ]
  },
  {
   "cell_type": "code",
   "execution_count": 112,
   "metadata": {},
   "outputs": [
    {
     "data": {
      "image/png": "[encoded data removed]",
      "text/plain": [
       "<Figure size 432x288 with 1 Axes>"
      ]
     },
     "metadata": {
      "needs_background": "light"
     },
     "output_type": "display_data"
    }
   ],
   "source": [
    "#Total retweeted count by dog stage\n",
    "\n",
    "twitter_master_data.loc[twitter_master_data[\"dog_stage\"] !=\"None\"].groupby(\"dog_stage\").retweet_count.sum().plot(kind=\"bar\")\n",
    "plt.title('Total Retweeted Count by Dog Stage')\n",
    "plt.xlabel('Dog_Stage')\n",
    "plt.ylabel('Retweet_Count')\n",
    "plt.savefig('Tot_RtCount_dogstage.png', dpi=150, bbox_inches = 'tight');"
   ]
  },
  {
   "cell_type": "code",
   "execution_count": 112,
   "metadata": {},
   "outputs": [
    {
     "data": {
      "text/plain": [
       "dog_stage\n",
       "doggo             448919\n",
       "doggo, floofer      3433\n",
       "doggo, pupper      35178\n",
       "doggo, puppo       19196\n",
       "floofer            34781\n",
       "pupper            478883\n",
       "puppo             142427\n",
       "Name: retweet_count, dtype: int64"
      ]
     },
     "execution_count": 112,
     "metadata": {},
     "output_type": "execute_result"
    }
   ],
   "source": [
    "# displaying values\n",
    "\n",
    "twitter_master_data.loc[twitter_master_data[\"dog_stage\"] !=\"None\"].groupby(\"dog_stage\").retweet_count.sum()"
   ]
  },
  {
   "cell_type": "markdown",
   "metadata": {},
   "source": [
    "##### Most liked dog stage "
   ]
  },
  {
   "cell_type": "code",
   "execution_count": 113,
   "metadata": {},
   "outputs": [
    {
     "data": {
      "image/png": "[encoded data removed]",
      "text/plain": [
       "<Figure size 432x288 with 1 Axes>"
      ]
     },
     "metadata": {
      "needs_background": "light"
     },
     "output_type": "display_data"
    }
   ],
   "source": [
    "#Most liked dog stage\n",
    "\n",
    "twitter_master_data.loc[twitter_master_data[\"dog_stage\"] !=\"None\"].groupby(\"dog_stage\").favorite_count.sum().plot(kind=\"bar\")\n",
    "plt.title('Total favorite count by Dog stage')\n",
    "plt.xlabel('Dog_Stage')\n",
    "plt.ylabel('Favorite_Count')\n",
    "plt.savefig('Tot_FavCount_dogstage.png', dpi=150, bbox_inches = 'tight');"
   ]
  },
  {
   "cell_type": "markdown",
   "metadata": {},
   "source": [
    "##### most frequent dog stage"
   ]
  },
  {
   "cell_type": "code",
   "execution_count": null,
   "metadata": {},
   "outputs": [],
   "source": []
  },
  {
   "cell_type": "code",
   "execution_count": 114,
   "metadata": {},
   "outputs": [
    {
     "data": {
      "text/plain": [
       "pupper            201\n",
       "doggo              63\n",
       "puppo              22\n",
       "doggo, pupper       8\n",
       "floofer             7\n",
       "doggo, puppo        1\n",
       "doggo, floofer      1\n",
       "Name: dog_stage, dtype: int64"
      ]
     },
     "execution_count": 114,
     "metadata": {},
     "output_type": "execute_result"
    }
   ],
   "source": [
    "# Most frequent dog stage values\n",
    "\n",
    "twitter_master_data.loc[twitter_master_data[\"dog_stage\"] !=\"None\"].dog_stage.value_counts()"
   ]
  },
  {
   "cell_type": "code",
   "execution_count": 129,
   "metadata": {},
   "outputs": [
    {
     "data": {
      "image/png": "[encoded data removed]",
      "text/plain": [
       "<Figure size 432x288 with 1 Axes>"
      ]
     },
     "metadata": {
      "needs_background": "light"
     },
     "output_type": "display_data"
    }
   ],
   "source": [
    "# Visulizng the most frequent dog stage\n",
    "\n",
    "twitter_master_data.loc[twitter_master_data[\"dog_stage\"] !=\"None\"].dog_stage.value_counts().plot(kind='bar')\n",
    "plt.title('What is the most frequent dog stage?')\n",
    "plt.xlabel('Dog Stage')\n",
    "plt.ylabel('Frequency')\n",
    "plt.savefig('most_freq_dogstage.png', dpi=100, bbox_inches = 'tight');"
   ]
  },
  {
   "cell_type": "markdown",
   "metadata": {},
   "source": [
    "##### Top ten is dog breed with the Numerator highest rating on every prediction"
   ]
  },
  {
   "cell_type": "code",
   "execution_count": 123,
   "metadata": {},
   "outputs": [],
   "source": [
    "#Highest numerator rating of dog breed on the first prediction"
   ]
  },
  {
   "cell_type": "code",
   "execution_count": 130,
   "metadata": {},
   "outputs": [],
   "source": [
    "Top10_rating_dogbreed = twitter_master_data.groupby(['img_predicton1'])['rating_numerator2'].max().sort_values(ascending=False).head(10)\n",
    "\n"
   ]
  },
  {
   "cell_type": "code",
   "execution_count": 121,
   "metadata": {},
   "outputs": [
    {
     "data": {
      "text/plain": [
       "img_predicton1\n",
       "Bow_tie                        1776\n",
       "Microphone                      420\n",
       "Lakeside                        204\n",
       "Labrador_retriever              165\n",
       "Teddy                           144\n",
       "Soft-coated_wheaten_terrier     121\n",
       "Golden_retriever                 99\n",
       "West_highland_white_terrier      84\n",
       "Pomeranian                       75\n",
       "Great_pyrenees                   60\n",
       "Name: rating_numerator2, dtype: int64"
      ]
     },
     "execution_count": 121,
     "metadata": {},
     "output_type": "execute_result"
    }
   ],
   "source": [
    "Top10_rating_dogbreed"
   ]
  },
  {
   "cell_type": "code",
   "execution_count": 131,
   "metadata": {},
   "outputs": [
    {
     "data": {
      "image/png": "[encoded data removed]",
      "text/plain": [
       "<Figure size 432x288 with 1 Axes>"
      ]
     },
     "metadata": {
      "needs_background": "light"
     },
     "output_type": "display_data"
    }
   ],
   "source": [
    "#Visualizing Top_10 breed with the Maximum numerator rating \n",
    "\n",
    "Top10_rating_dogbreed.to_frame().plot(kind=\"bar\")\n",
    "plt.title('First prediction top10 mumerator max_rating of dog breed?')\n",
    "plt.xlabel('Dog Breed')\n",
    "plt.ylabel('Maximum Rating')\n",
    "plt.savefig('Top10_Num_maxrating_dogbreed.png', dpi=100, bbox_inches = 'tight');"
   ]
  },
  {
   "cell_type": "code",
   "execution_count": null,
   "metadata": {},
   "outputs": [],
   "source": [
    "#Highest numerator rating of dog breed on the second prediction"
   ]
  },
  {
   "cell_type": "code",
   "execution_count": 132,
   "metadata": {},
   "outputs": [],
   "source": [
    "Top10_rating_dogbreed2 = twitter_master_data.groupby(['img_predicton2'])['rating_numerator2'].max().sort_values(ascending=False).head(10)"
   ]
  },
  {
   "cell_type": "code",
   "execution_count": 125,
   "metadata": {},
   "outputs": [
    {
     "data": {
      "text/plain": [
       "img_predicton2\n",
       "Sunglasses          1776\n",
       "Accordion            420\n",
       "Breakwater           204\n",
       "Chihuahua            165\n",
       "Crib                 144\n",
       "Cocker_spaniel       121\n",
       "Golden_retriever      88\n",
       "Kuvasz                84\n",
       "Dandie_dinmont        80\n",
       "Persian_cat           75\n",
       "Name: rating_numerator2, dtype: int64"
      ]
     },
     "execution_count": 125,
     "metadata": {},
     "output_type": "execute_result"
    }
   ],
   "source": [
    "Top10_rating_dogbreed2"
   ]
  },
  {
   "cell_type": "code",
   "execution_count": 133,
   "metadata": {},
   "outputs": [
    {
     "data": {
      "image/png": "[encoded data removed]",
      "text/plain": [
       "<Figure size 432x288 with 1 Axes>"
      ]
     },
     "metadata": {
      "needs_background": "light"
     },
     "output_type": "display_data"
    }
   ],
   "source": [
    "#Visualizing Top_10 breed with the Maximum numerator rating \n",
    "\n",
    "Top10_rating_dogbreed2.to_frame().plot(kind=\"bar\")\n",
    "plt.title('Second prediction top10 mumerator max_rating of dog breed?')\n",
    "plt.xlabel('Dog Breed')\n",
    "plt.ylabel('Maximum Rating')\n",
    "plt.savefig('Top10_Num_maxrating_dogbreed2.png', dpi=100, bbox_inches = 'tight');"
   ]
  },
  {
   "cell_type": "code",
   "execution_count": null,
   "metadata": {},
   "outputs": [],
   "source": [
    "#Highest numerator rating of dog breed on the third prediction"
   ]
  },
  {
   "cell_type": "code",
   "execution_count": 134,
   "metadata": {},
   "outputs": [],
   "source": [
    "Top10_rating_dogbreed3 = twitter_master_data.groupby(['img_predicton3'])['rating_numerator2'].max().sort_values(ascending=False).head(10)"
   ]
  },
  {
   "cell_type": "code",
   "execution_count": 128,
   "metadata": {},
   "outputs": [
    {
     "data": {
      "text/plain": [
       "img_predicton3\n",
       "Sunglass                          1776\n",
       "Drumstick                          420\n",
       "King_penguin                       204\n",
       "American_staffordshire_terrier     165\n",
       "Chow                               144\n",
       "Teddy                              121\n",
       "Irish_setter                        99\n",
       "Vizsla                              88\n",
       "Samoyed                             84\n",
       "Cairn                               80\n",
       "Name: rating_numerator2, dtype: int64"
      ]
     },
     "execution_count": 128,
     "metadata": {},
     "output_type": "execute_result"
    }
   ],
   "source": [
    "Top10_rating_dogbreed3"
   ]
  },
  {
   "cell_type": "code",
   "execution_count": 135,
   "metadata": {},
   "outputs": [
    {
     "data": {
      "image/png": "[encoded data removed]",
      "text/plain": [
       "<Figure size 432x288 with 1 Axes>"
      ]
     },
     "metadata": {
      "needs_background": "light"
     },
     "output_type": "display_data"
    }
   ],
   "source": [
    "#Visualizing Top_10 breed with the Maximum numerator rating \n",
    "\n",
    "Top10_rating_dogbreed3.to_frame().plot(kind=\"bar\")\n",
    "plt.title('Third prediction top10 mumerator max_rating of dog breed?')\n",
    "plt.xlabel('Dog Breed')\n",
    "plt.ylabel('Maximum Rating')\n",
    "plt.savefig('Top10_Num_maxrating_dogbreed3.png', dpi=100, bbox_inches = 'tight');"
   ]
  },
  {
   "cell_type": "code",
   "execution_count": null,
   "metadata": {},
   "outputs": [],
   "source": []
  },
  {
   "cell_type": "markdown",
   "metadata": {},
   "source": [
    "\n",
    "##### What is the most popular dog name"
   ]
  },
  {
   "cell_type": "code",
   "execution_count": 122,
   "metadata": {},
   "outputs": [
    {
     "data": {
      "text/plain": [
       "'Phineas Tilly Archie Darla Franklin No name Jax No name Zoey Cassie Koda Bruno No name Ted Stuart Oliver Jim Zeke Ralphus Gerald Jeffrey No name Canela No name No name Maya Mingus Derek Roscoe Waffles Jimbo Maisey No name Earl Lola Kevin No name Yogi Noah Bella Grizzwald No name Rusty Gus Stanley Alfy Koko Rey Gary No name Elliot Louis No name Bella Jesse No name Romeo Bailey Duddles Jack Steven Beau Snoopy Shadow Emmy Aja Penny Dante Nelly Ginger Benedict Venti Goose Nugget No name Cash Jed No name Sebastian No name Sierra No name No name Monkey No name Harry Kody Lassie Rover Napolean Boomer No name Cody Zoey Rumble Clifford Dewey Stanley Scout Gizmo Walter No name Cooper No name Harold Shikha No name Lili Jamesy Coco Boomer Sammy Nelly No name Meatball Paisley Albus Neptune Belle Quinn Zooey Dave Jersey No name Hobbes No name Burt Lorenzo Carl Jordy No name Milky Trooper No name No name No name No name Sophie Wyatt Rosie Thor No name Oscar Zeke Callie Cermet No name No name Marlee Arya Einstein No name No name Alice No name Rumpole Benny Aspen Jarod Wiggles General Sailor No name Iggy Snoop Kyle Leo Riley Boomer No name Noosh No name Kevin No name Odin Jerry Georgie Rontu Cannon Furzey Daisy No name Tuck Barney Vixen Jarvis No name No name Mimosa Pickles Brady Luna Charlie Margo Sadie Hank Tycho Charlie Indie Winnie George Bentley Penny No name Max Dawn No name Maddie No name Monty Sojourner Winston Odie Arlo Walter Stanley Daisy No name Waffles Vincent Lucy Clark Mookie Meera Oliver Ava Lucy No name Eli Ash Lola No name No name Tucker Tobi No name Chester Wilson Sunshine Lipton Bentley Charlie Bronte Poppy Gidget Rhino Willow Orion Eevee Charlie Smiley Miguel Emanuel Kuyu Daisy No name Dutch Pete No name Scooter Tucker Reggie Lilly Samson Mia Leo No name Astrid Malcolm Dexter Alfie Fiona No name Mutt Bear Doobert Beebop Alexander Sailer Brutus Kona Boots Tucker Ralphie Charlie Loki Cupid Pawnd Pilot No name No name Ike Mo Toby No name Sweet Pablo Scooter Wilson No name Nala Cash Winston Crawford Wyatt Albus No name Hobbes No name Paisley Gabe No name Jimison Duchess Harlso Sundance Luca No name Flash Sunny No name No name No name Oliver No name Howie Jazzy Anna Finn Sunny Bo Wafer Bear Tom Florence Autumn Buddy Dido Eugene Ken Strudel Tebow No name Chloe Timber Binky Moose Dudley Comet Jack No name Akumi Titan No name Cooper Olivia Alf Oshie Chubbs Gary Sky Atlas No name No name Eleanor Layla No name No name Toby Rocky Baron Tyr Bauer Swagger Brandi No name Mary Moe Ted Halo Augie Craig Sam Hunter Pavlov Phil Gus No name No name Kyro Wallace Ito No name Koda No name Cooper Ollie Stephan Lennon No name Waffles No name Major Duke Zeke Sansa Shooter Django Bo Diogi No name Sonny Winston Marley Winnie Severus Loki Ronnie Wallace No name Milo Bones Mauve Chef No name Doc Peaches No name Sobe Longfellow Jeffrey Mister Iroh Shadow Cooper No name Cassie Pancake Tyr Romeo No name Snicku Ruby No name Yogi Daisy No name Brody Bailey Mack Nimbus Laika Maximus Clark Dobby Fiona Moreton Dave No name Tucker Juno Maude Lily Newt Benji Nida No name Robin No name Bailey Monster BeBe Remus No name Levi Mabel Misty Betty Mosby Duke Maggie Bruce Happy Eli Brownie Rizzy Stella Bo Lucy Butter Dexter No name Leo No name Frank Tonks Moose Lincoln Rory Logan No name Dale Rizzo Mattie Lucy Rusty Pinot Dallas Doc Hero Rusty Frankie Stormy Riley Mairi Loomis Finn Godi Dave Earl Cali Deacon Penny Timmy Sampson Chipson No name No name Oakley No name No name Dash Koda Hercules No name Bear No name Scout No name Reggie No name Jay Mya Strider Penny No name Nala Stanley No name Sophie Wesley No name Derek Jeffrey Solomon Huck No name O Sampson No name Blue Anakin No name Finley Tucker Finley Sprinkles No name Winnie Heinrich Loki Shakespeare Chelsea Bungalo Chip Grey No name Roosevelt No name Willem No name Jack Finn Penny Davey Dakota Fizz Dixie Charlie No name Winston Sebastian No name Al Jackson Carbon Klein Titan DonDon Kirby Jesse Lou Oakley Chevy Gerald Tito Philbert Louie No name Rupert Rufus Brudge Shadoe Oscar Juno Angel Brat Tove No name Louie Gromit Aubie Kota Alfie Clark Belle Leela Glenn Buddy Scout No name Shelby No name No name Sephie Bruce Bonaparte Albert Bo Wishes Rose Theo Atlas Rocco Fido Sadie No name Kirby Maggie Emma Oakley Luna Toby Spencer Lilli No name Boston Brandonald No name Odie Corey No name Leonard Beckham Cooper No name No name No name Devón Oliver Jax Gert No name No name No name No name No name No name Watson Winnie Keith Milo Dex No name Charlie No name No name Scout Hank Ace Tayzie Grizzie No name No name No name No name Brody Ruby Tucker Toby No name Max No name Gilbert No name Cooper Milo Meyer Malcolm Arnie Zoe No name Stewie Calvin Lilah Spanky No name Jameson Beau Jax Piper Bo Atticus Lucy Finn No name George Blu Winston Dietrich No name Divine No name Tripp No name No name Cora No name Duke No name No name No name No name Huxley No name Bookstore No name No name No name Atticus Clark No name No name No name Abby Shiloh No name Gustav Arlen Gus Percy Lenox No name Sugar Oliver Abby Indie Harvey Blanket No name Geno No name Stark Harold Bentley Beya Kilo No name Kayla Maxaroni No name Bell Phil Doug Edmund No name Aqua Tucker Theodore No name Leo No name Chip Baloo No name No name Chase No name Nollie Rorie Simba Benji No name Kyle No name Charles No name Bayley No name No name Axel Storkson Remy Bella No name No name Lily No name Chadrick Rory No name No name Maxaroni No name Dakota No name Kellogg Buckley Jax No name Livvie Terry Moose No name Hermione No name Ralpher Aldrick No name Kyle Larry Solomon No name No name Rooney Crystal Ziva Charles Ollie Stefan Pupcasso No name Puff No name Flurpson Coleman Wallace Enchilada Raymond No name Rueben Cilantro No name No name No name No name Karll Sprout Blitz Bloop No name Colby Lillie Lola Fred No name Ashleigh Kreggory Sarge Luther Sugar Reginald Ivar Jangle No name Schnitzel Panda Oliver Archie Berkeley No name Ralphé Derek Charleson Neptune No name Clyde Harnold Sid Lucy Pippa Sadie Otis No name Carper No name Bowie No name Alexanderson Suki Barclay No name No name Ebby Flávio Smokey Link Jennifur Bluebert Stephanus No name Bubbles No name Toby Zeus Bertson Oscar Nico Michelangelope Siba Calbert Curtis Benedict No name Travis Thumas No name No name Kanu No name Piper No name Lance Opie Stubert No name Sunny Kane No name Steven Olive Chester Winston Roosevelt No name No name Gary No name No name Chuckles Milo Staniel Sora No name Beemo Gunner No name No name Lacy Tater No name Watson No name No name Olaf Cecil Vince Karma Billy Walker Penny No name Rodney Klevin No name Malikai Mister Coco Smokey Bear Bobble Oliver River Jebberson No name Cooper Remington No name Farfle Rufus Sadie No name Jiminus Harper Keurig No name Clarkus No name Finnegus Cassie Cupcake Kathmandu Tucker Ellie Elliot Katie Shadow No name Oliver No name Koda No name No name Kara Dexter Adele Lucy Max No name Zara Cooper Ambrose Jimothy Bode Terrenth Reese No name No name Chesterson No name No name Lucia Bisquick Ralphson Stanley No name No name No name Bella Scooter No name Charlie Socks No name No name No name Chip Lucy Rambo Sansa No name No name No name No name Fiji Rilo Bilbo Coopson Yoda Millie No name Chet No name Crouton Daniel No name Vincent Kaia Murphy Dotsy No name No name Eazy Coops Thumas Cooper Nala No name Fillup Dave Archie No name No name Miley Calbert No name Charl Reagan No name No name Oliver CeCe No name Cuddles Rusty No name Claude Jessiga Maximus Franklin Beau Lily No name Doug Cassie Carter No name No name Ole Blipson No name Bentley No name Charlie Oakley Rosie No name No name Misty Reptar Trevith No name Berb No name Wyatt Calvin No name Bob Colin No name Lorenzo No name Brian Archie Phil Oliviér Grady No name Lola Chester Kobe No name Freddery No name No name Phil Lincoln Sadie No name Bodie Dunkin No name Milo No name Wally No name Tupawc No name No name Chester Amber Cody Herschel No name Edgar Kingsley Brockly No name Richie No name Leo Bailey No name Molly No name No name No name No name Buddy Peaches Vinscent Cedrick Hazel Lolo Eriq Phred No name Maxwell Geoff No name No name Covach No name Gizmo Durg Fynn Luca Ricky Lucy No name No name Carl No name Chipson Herald Lucky No name Trip No name Clarence No name Hamrick Brad No name Pubert Frönq No name Louis Derby Lizzie No name Kilo Louis No name Trooper Blakely Opal Marq No name Curtis Kramer Tyrone No name Gordon Samson Baxter No name No name Jackson No name No name Mona Olivia Horace Crimson Birf No name Flávio No name No name Hammond Lorelei No name Olive Marty Brooks Otis No name No name No name Rocky No name Petrick Hubertson Alfie Gerbald Jerry Oreo Bruiser No name Perry No name Theodore No name Bobby Pippa Jeph Obi No name No name Tino No name Kulet No name Lupe Sadie Tiger Jiminy No name No name Buddy Sebastian Griffin Banjo No name No name Jack No name Brandy Larry No name No name Lulu Darrel No name Taco No name Joey No name No name Patrick Kreg Brody Todo Jax Samson Tess No name Ulysses No name Jimothy Charlie Bo No name Toffee No name Apollo Carly Asher Glacier Chuck No name Sarge Panda Champ No name Aspen No name Ozzie Alice Sadie Griswold Cheesy Ellie No name Moofasa Brody Penny Percy No name Hector No name CeCe Toby No name No name Goliath Kawhi Reggie Ozzy No name No name Emmie Sammy Penelope No name Bruce Willie No name Rinna No name Hunter Mike No name No name William Dwight Evy Hurley Rubio No name Louis No name Chompsky No name No name Lola No name Linda Tug Mia Wilson Dash Tango No name Grizz No name Crystal Jerome No name No name Bella Crumpet No name Rosie No name Jessifer Reese No name No name No name Ralph Sadie No name No name No name No name Sandy No name No name No name Axel No name Humphrey Derek Tassy Juckson No name Chuq No name Cooper No name Tyrus Karl No name No name No name No name Ash No name No name Penny No name No name No name No name Godzilla Bubbles Vinnie No name No name Griffin No name No name Duke No name Winston Kenneth Herm No name Bert Striker No name No name No name Donny No name No name No name Pepper No name No name Bernie Buddah No name Lenny No name No name Ellie Sammy No name No name Reggie No name No name No name No name Daisy No name No name Arnold No name No name No name Coops No name Steven Zuzu Oliver No name No name Moe Mollie Laela No name Tedders No name Maggie No name Superpup No name No name No name Sophie No name Rufio Patrick Jeb Rodman No name No name No name No name Louis No name Bailey Ava Jonah Lenny Gary Chesney Lennon Kenny No name Bob Henry Gus Bobbay No name Mitch Earl Stanley Lucy No name No name Kaiya Daisy No name Acro Aiden No name No name Obie No name No name No name No name No name Riley Raymond Dot No name Pickles No name Larry George Shnuggles Kendall Albert No name Jeffri Sandy No name No name No name Steve Koda No name Bella Gerald No name Django Frankie No name Eve Mac No name Dexter Fletcher Kenzie Pumpkin Schnozz No name No name Chuckles Chet Gustaf Terry Jimison Cheryl No name Oscar Ed Jerry Leonidas No name Norman Caryl No name Scott Taz No name Darby No name Jackie No name Jazz Buddy Franq Pippin No name Kreg No name Rolf No name Snickers Ridley No name Cal Opal Bradley Bubba No name No name Tuco Patch Gizmo Lola Mojo Batdog Brad Mia Dylan No name No name No name Mark No name No name Oscar No name Marley No name JD Baxter Reginald No name Jax Alejandro Scruffers Hammond Charlie Pip Julius Malcolm Penelope No name Tanner No name Lou Lola Sparky No name Herm No name Anthony Holly No name No name No name No name Clarence No name Phred Toby No name No name Colby No name Jett Amy No name Remington No name Sage Maggie Andy Mason No name Trigger Antony No name Creg No name No name Traviss No name Vincent Gin Jerry Jeffrie No name Danny Ester Pluto Bloo Phineas No name Edd No name No name No name Paull Koda No name Hank Sam Willy No name Herb Damon No name Scooter Peanut Nigel Larry Daisy No name Butters No name No name Sandra Wally No name Fabio Winston Randall Liam Tommy Ben No name No name Raphael Zoey No name Julio Andru No name No name Chester Clarence Kloey Louie Shawwn No name Penny No name Skye No name Linda Keith Kollin No name Ronduh Billl Oliviér Chip No name Saydee Dug Sully Kirk No name Ralf Clarq Jaspers Samsom No name No name Tucker Terrance No name Harrison Bernie No name Ruby No name Chaz Jeremy Jaycob No name Herald Lambeau Ruffles Amélie Bobb Banditt No name Kevon Winifred No name No name Hanz No name Churlie Zeek Timofy Maks Jomathan Kallie No name Marvin No name No name Spark Gòrdón No name Jo No name DayZ No name No name No name Rusty Sophie No name Jareld Bisquick Torque No name No name Ron Skittles No name No name No name Alfie No name Jiminy Otis No name Cleopatricia Erik Stu Tedrick No name Shaggy No name No name Filup No name No name No name No name Calvin Olive No name No name George Kial No name Frank Naphaniel No name Dook No name Hall Philippe No name No name Reese Cupcake No name No name No name Biden Fwed No name Genevieve Joshwa No name No name Timison No name No name Clarence Kenneth Churlie Bradlay Pipsy No name Gabe Clybe Dave No name Keet No name Klevin Carll No name No name No name No name Jeph Jockson No name No name Josep Lugan No name Christoper No name Jimothy Kreggory Scout No name No name No name No name No name Walter No name No name No name No name No name No name No name No name No name No name No name No name No name No name No name No name No name No name No name No name No name No name No name No name No name No name No name No name No name No name'"
      ]
     },
     "execution_count": 122,
     "metadata": {},
     "output_type": "execute_result"
    }
   ],
   "source": [
    "#Getting the text\n",
    "\n",
    "names = \" \".join(name for name in twitter_master_data.name)\n",
    "names"
   ]
  },
  {
   "cell_type": "code",
   "execution_count": 123,
   "metadata": {},
   "outputs": [],
   "source": [
    "# Create stopword list:\n",
    "stopwords = set(STOPWORDS)\n",
    "stopwords.update([\"No name\",\"name\"])"
   ]
  },
  {
   "cell_type": "code",
   "execution_count": 125,
   "metadata": {},
   "outputs": [
    {
     "data": {
      "image/png": "[encoded data removed]",
      "text/plain": [
       "<Figure size 432x288 with 1 Axes>"
      ]
     },
     "metadata": {
      "needs_background": "light"
     },
     "output_type": "display_data"
    }
   ],
   "source": [
    "# Generate a word cloud image\n",
    "wordcloud = WordCloud(stopwords=stopwords, background_color=\"white\").generate(names)\n",
    "\n",
    "# Display the generated image:\n",
    "# the matplotlib way:\n",
    "plt.imshow(wordcloud, interpolation='bilinear')\n",
    "plt.title('Most popular of dog names')\n",
    "plt.axis(\"off\")\n",
    "plt.savefig('freq_dognames.png', dpi=100, bbox_inches = 'tight');\n",
    "plt.show()"
   ]
  },
  {
   "cell_type": "code",
   "execution_count": null,
   "metadata": {},
   "outputs": [],
   "source": []
  },
  {
   "cell_type": "markdown",
   "metadata": {},
   "source": [
    "\n",
    "##### What is the most popular predicted breed"
   ]
  },
  {
   "cell_type": "code",
   "execution_count": 126,
   "metadata": {},
   "outputs": [],
   "source": [
    "#Getting breeds in each prediction\n",
    "\n",
    "total_pred_breed1 = \" \".join(breed for breed in twitter_master_data['img_predicton1'])\n",
    "total_pred_breed2 = \" \".join(breed for breed in twitter_master_data['img_predicton2'])\n",
    "total_pred_breed3 = \" \".join(breed for breed in twitter_master_data['img_predicton3'])"
   ]
  },
  {
   "cell_type": "code",
   "execution_count": 127,
   "metadata": {},
   "outputs": [
    {
     "data": {
      "text/plain": [
       "\"Orange Chihuahua Chihuahua Paper_towel Basset Chesapeake_bay_retriever Appenzeller Pomeranian Irish_terrier Pembroke Samoyed French_bulldog Pembroke French_bulldog Golden_retriever Whippet Golden_retriever Golden_retriever Siberian_husky French_bulldog Basset Limousine Pembroke Mexican_hairless Samoyed Chihuahua Kuvasz Convertible French_bulldog Pug Blenheim_spaniel Pug Malamute Italian_greyhound Chow Pug Pembroke German_shepherd Doberman Golden_retriever Chow Golden_retriever Eskimo_dog Labrador_retriever Pembroke Golden_retriever Web_site Weimaraner Saluki Samoyed Tusker Street_sign Pembroke Golden_retriever Chihuahua Miniature_pinscher Basset German_short-haired_pointer English_springer Tricycle Tabby Vizsla Italian_greyhound Basset French_bulldog Chesapeake_bay_retriever Basset Saluki Pembroke Bloodhound Golden_retriever Bernese_mountain_dog Labrador_retriever Siberian_husky West_highland_white_terrier Labrador_retriever Cocker_spaniel Flat-coated_retriever Cardigan Newfoundland Vizsla Labrador_retriever Pug Cocker_spaniel Pembroke Labrador_retriever Basketball Shetland_sheepdog Labrador_retriever Komondor Kelpie Home_theater Pembroke Golden_retriever Greater_swiss_mountain_dog Comic_book Pembroke Pembroke Chihuahua Pembroke Laptop Labrador_retriever Whippet Labrador_retriever Border_collie Eskimo_dog Samoyed Flat-coated_retriever French_bulldog Samoyed Golden_retriever Chesapeake_bay_retriever Pembroke Pole Bull_mastiff Golden_retriever Marmot Eskimo_dog Staffordshire_bullterrier French_bulldog Australian_terrier Basset Home_theater Chow Cardigan Syringe German_shepherd Cardigan Bedlington_terrier Lakeside Chimpanzee French_bulldog Labrador_retriever Golden_retriever Angora Revolver Golden_retriever Pembroke Golden_retriever French_bulldog Labrador_retriever Malamute Samoyed Golden_retriever Boston_bull Chihuahua Flat-coated_retriever Blenheim_spaniel Pembroke Chihuahua Pembroke Black-and-tan_coonhound English_springer Miniature_pinscher German_shepherd Grille Great_dane Golden_retriever Bloodhound Barbell Prison Barrow Cardigan Web_site Car_mirror Pug Yorkshire_terrier Tennis_ball Shetland_sheepdog Chihuahua Schipperke Patio Fountain Flat-coated_retriever Malamute Bedlington_terrier Sea_lion Bernese_mountain_dog Cardigan Airedale Staffordshire_bullterrier White_wolf Shetland_sheepdog Golden_retriever Giant_schnauzer Golden_retriever Samoyed Chow Dandie_dinmont Irish_water_spaniel Labrador_retriever Labrador_retriever Washer Labrador_retriever Labrador_retriever Labrador_retriever Pembroke Labrador_retriever Tub Pembroke French_bulldog Chow Chihuahua Military_uniform Afghan_hound Brittany_spaniel Web_site Golden_retriever Teapot Chesapeake_bay_retriever Staffordshire_bullterrier Swing Leonberg Border_terrier Kelpie Great_pyrenees Chow Golden_retriever Birdhouse Norwegian_elkhound American_staffordshire_terrier Siberian_husky Shopping_cart Mortarboard Leopard Wooden_spoon Borzoi Samoyed Staffordshire_bullterrier Rottweiler Hyena Border_collie Swing Ice_bear Border_terrier Toilet_tissue Rhodesian_ridgeback Golden_retriever Ox Bath_towel Kuvasz Chihuahua West_highland_white_terrier Golden_retriever Cardigan Boxer Cardigan Eskimo_dog Pekinese Kelpie Pembroke Whippet Pomeranian Bloodhound Pembroke Eskimo_dog Chihuahua Old_english_sheepdog Briard Doberman Cocker_spaniel Kuvasz Labrador_retriever Toy_poodle Border_terrier French_bulldog Labrador_retriever Staffordshire_bullterrier Golden_retriever Boxer Seat_belt Hippopotamus Golden_retriever Teddy Weimaraner Bedlington_terrier American_staffordshire_terrier Malamute Patio American_staffordshire_terrier German_shepherd Collie Pembroke Golden_retriever Great_dane Golden_retriever Great_pyrenees French_bulldog German_shepherd French_bulldog Labrador_retriever Tennis_ball Shopping_cart Great_pyrenees Rottweiler Pekinese Eskimo_dog Border_terrier English_setter Pembroke Teddy Schipperke Cairn Dingo Cowboy_boot Bathtub Lakeland_terrier Malinois Cocker_spaniel Samoyed Pomeranian Samoyed Golden_retriever Golden_retriever Doberman Irish_setter German_shepherd Pomeranian Old_english_sheepdog Golden_retriever West_highland_white_terrier Gordon_setter School_bus American_staffordshire_terrier Bathtub Acorn_squash Cardigan Rottweiler Border_terrier Prison Standard_poodle Labrador_retriever Chihuahua Swing Miniature_schnauzer Golden_retriever Cocker_spaniel Curly-coated_retriever Pug Ice_bear Doberman Golden_retriever Saluki Kelpie Malamute Chihuahua Web_site Labrador_retriever Pomeranian Chihuahua Tibetan_mastiff Border_collie German_shepherd Restaurant Dalmatian Golden_retriever Miniature_poodle Golden_retriever Siberian_husky French_bulldog Malamute Samoyed Cocker_spaniel Golden_retriever Doormat Siamese_cat Beagle Norwegian_elkhound Dingo Great_dane Doberman Toy_terrier Golden_retriever Bull_mastiff Irish_setter Loupe Bath_towel Golden_retriever Staffordshire_bullterrier Pekinese Beagle Pembroke Golden_retriever Flat-coated_retriever Malamute Malamute Staffordshire_bullterrier Norwich_terrier Greater_swiss_mountain_dog Pomeranian Vizsla Rottweiler Seat_belt Airedale Golden_retriever Labrador_retriever Golden_retriever Chihuahua Golden_retriever Arabian_camel Vizsla Chow Norwegian_elkhound Siberian_husky Malinois Shield Pembroke Tibetan_mastiff Web_site Miniature_pinscher Labrador_retriever Bookcase Pembroke Chow Golden_retriever Home_theater Eskimo_dog Staffordshire_bullterrier Pembroke Minivan Cocker_spaniel Dalmatian Cocker_spaniel Pembroke Teddy Golden_retriever Golden_retriever Vacuum Border_collie Miniature_pinscher Malamute Norfolk_terrier Siberian_husky West_highland_white_terrier Pekinese American_staffordshire_terrier Pembroke Collie Cardigan American_staffordshire_terrier Cocker_spaniel Pekinese Golden_retriever Cardigan Chow Golden_retriever Golden_retriever Golden_retriever Gas_pump Teddy Samoyed Pedestal Labrador_retriever Old_english_sheepdog Miniature_pinscher Golden_retriever Afghan_hound Siberian_husky Basset Golden_retriever Wire-haired_fox_terrier Doormat Labrador_retriever Lakeland_terrier Golden_retriever Italian_greyhound Bakery Labrador_retriever Web_site Jack-o'-lantern Yorkshire_terrier Cocker_spaniel Komondor Golden_retriever Pembroke Miniature_pinscher Cocker_spaniel Dishwasher Bernese_mountain_dog Refrigerator Pembroke Labrador_retriever Tub Chow Chesapeake_bay_retriever Schipperke Malamute Chihuahua Remote_control Cocker_spaniel Golden_retriever Samoyed Chow Beach_wagon Pug German_shepherd Chihuahua Seat_belt Golden_retriever Pomeranian Leonberg Pembroke Golden_retriever Labrador_retriever Teddy Great_pyrenees Porcupine Miniature_pinscher Teddy Seat_belt Chow Malamute Miniature_poodle Quilt Lakeland_terrier Chow Chihuahua Norwegian_elkhound Cardigan Chesapeake_bay_retriever Seat_belt Golden_retriever Irish_setter Malamute Briard Pool_table Pembroke Tennis_ball Mexican_hairless Shetland_sheepdog Padlock Chesapeake_bay_retriever Siberian_husky Saint_bernard Golden_retriever Great_dane Vizsla Golden_retriever Sundial Toy_poodle Chihuahua Cocker_spaniel Staffordshire_bullterrier German_shepherd Airedale Pembroke Collie Boston_bull German_shepherd Clumber Afghan_hound Cocker_spaniel Chow Chihuahua Toy_poodle Labrador_retriever Samoyed Rottweiler Mousetrap Web_site Chow Long-horned_beetle Web_site Beagle Chow Toy_poodle Walker_hound Eskimo_dog Giant_panda Pomeranian Silky_terrier Old_english_sheepdog Norwegian_elkhound Shopping_cart Seat_belt Blenheim_spaniel Tabby Basset Newfoundland Pembroke Golden_retriever Labrador_retriever Chihuahua Pembroke Papillon Labrador_retriever Collie Bathtub Labrador_retriever Meerkat Bernese_mountain_dog Chow Madagascar_cat Maillot Italian_greyhound Boston_bull Miniature_pinscher Pug Golden_retriever Pomeranian Chow Basenji Great_pyrenees Labrador_retriever Lion Coral_reef Vizsla Chow Patio Toy_poodle Beagle Doberman Keeshond Toy_poodle Redbone Welsh_springer_spaniel Golden_retriever Beagle Pembroke Golden_retriever Dalmatian Bernese_mountain_dog German_shepherd Malamute Miniature_poodle Seat_belt Kelpie Samoyed Chow African_grey Home_theater Labrador_retriever Paddle Gondola Gordon_setter Norwegian_elkhound Standard_poodle Cougar Golden_retriever Blenheim_spaniel Golden_retriever Axolotl Samoyed Old_english_sheepdog Radio_telescope Balloon Labrador_retriever Sussex_spaniel Golden_retriever Golden_retriever Kuvasz Kuvasz Shetland_sheepdog Labrador_retriever Barrow Chesapeake_bay_retriever Chesapeake_bay_retriever Pembroke Labrador_retriever Chesapeake_bay_retriever Pembroke Bookshop Skunk Seat_belt Bluetick Doormat Seat_belt Labrador_retriever Italian_greyhound Golden_retriever Golden_retriever Pembroke Geyser Golden_retriever Conch Airedale Pekinese Web_site Labrador_retriever Golden_retriever Rotisserie Tub Beagle Chow French_bulldog Miniature_pinscher Balloon Whippet Bluetick Chow Pembroke German_shepherd German_shepherd Goose Swing Bedlington_terrier Labrador_retriever Lakeland_terrier Chow Toy_poodle Dalmatian Labrador_retriever Golden_retriever Walker_hound Labrador_retriever Labrador_retriever Toy_poodle Pembroke American_black_bear Golden_retriever Border_collie Pug Toy_poodle Shih-tzu Golden_retriever Pug Redbone Saluki Labrador_retriever Standard_poodle Muzzle Old_english_sheepdog Bow_tie Pekinese Papillon Chesapeake_bay_retriever Pomeranian Wire-haired_fox_terrier Pug Sulphur-crested_cockatoo German_short-haired_pointer Borzoi Tiger_shark Pembroke Ox Muzzle Tibetan_terrier Borzoi Shetland_sheepdog Paddle Kelpie Samoyed Kuvasz Pembroke Pembroke Chesapeake_bay_retriever Basenji Cardigan Binoculars Shetland_sheepdog Coil Labrador_retriever Pembroke Boston_bull Golden_retriever Toy_poodle German_shepherd Chow Shetland_sheepdog Pekinese Seat_belt Barrow Labrador_retriever Ice_bear Shetland_sheepdog Old_english_sheepdog Toy_poodle Shetland_sheepdog Samoyed Labrador_retriever Bull_mastiff Dalmatian Weimaraner Hippopotamus Rapeseed Sea_lion Malamute Kuvasz Golden_retriever Sunglasses Web_site Pug Cardigan Balloon Siamese_cat Kuvasz Labrador_retriever Chesapeake_bay_retriever Chihuahua Golden_retriever Malamute Toy_poodle Lawn_mower Wombat Golden_retriever Bow_tie Golden_retriever Chesapeake_bay_retriever Irish_water_spaniel Redbone Toy_poodle Blenheim_spaniel Labrador_retriever Walker_hound Eskimo_dog Bath_towel Labrador_retriever Chow Cocker_spaniel Bedlington_terrier Keeshond Pug Vizsla Malamute Pembroke Samoyed Guinea_pig Cliff Schipperke Cup Labrador_retriever Golden_retriever Cocker_spaniel Pembroke Pug Studio_couch Staffordshire_bullterrier Walker_hound Maltese_dog Golden_retriever Siberian_husky Beagle Lhasa French_bulldog Chow Golden_retriever Koala Pomeranian Staffordshire_bullterrier Tennis_ball English_setter Pembroke Lakeside Polecat American_staffordshire_terrier Eskimo_dog Pug Hand_blower Doormat Kelpie German_shepherd Stone_wall Maltese_dog Pembroke Saint_bernard Window_shade Siamese_cat Collie Newfoundland Handkerchief Cocker_spaniel Border_collie Great_pyrenees Pomeranian Toy_poodle Bonnet Flat-coated_retriever Teddy Soft-coated_wheaten_terrier Miniature_pinscher Standard_poodle Toy_poodle Chow Boxer Golden_retriever German_short-haired_pointer Golden_retriever Border_collie Boxer Siamese_cat Samoyed Teddy Golden_retriever Tennis_ball Great_dane Labrador_retriever Pomeranian Samoyed Chihuahua Newfoundland Rottweiler Pembroke Alp Mexican_hairless Samoyed Golden_retriever Home_theater Malamute Swing Golden_retriever Dandie_dinmont Golden_retriever Pembroke Pomeranian Labrador_retriever Maltese_dog Badger Hammer Chihuahua Malamute Brittany_spaniel Car_mirror Golden_retriever Miniature_pinscher Golden_retriever Siberian_husky Malinois Pomeranian Siberian_husky Yorkshire_terrier Golden_retriever Pug Dandie_dinmont Staffordshire_bullterrier Golden_retriever Nail West_highland_white_terrier Chihuahua Chihuahua Dingo Brittany_spaniel Great_pyrenees Meerkat Norfolk_terrier Collie Soft-coated_wheaten_terrier Pug Labrador_retriever Siberian_husky Golden_retriever Brittany_spaniel Great_pyrenees Whippet Timber_wolf Labrador_retriever Great_pyrenees Labrador_retriever Ice_bear Labrador_retriever Triceratops Shih-tzu Goose Espresso Lakeland_terrier Dingo Brown_bear Llama Pembroke Leatherback_turtle French_bulldog Malamute Dingo Pembroke Soft-coated_wheaten_terrier Pembroke Shih-tzu Old_english_sheepdog Pug Cowboy_hat Pekinese Toy_poodle Pembroke Bib Chihuahua Chow Golden_retriever Cocker_spaniel Maltese_dog Shetland_sheepdog Labrador_retriever Chihuahua Borzoi Siberian_husky Hotdog Schipperke Eskimo_dog Golden_retriever Pomeranian Tennis_ball Shih-tzu Chihuahua Pug Muzzle Cardigan French_bulldog Norwich_terrier Staffordshire_bullterrier Malinois Agama Toy_poodle Miniature_pinscher Whippet Bathtub Golden_retriever Ram Lakeland_terrier Chihuahua Golden_retriever Bernese_mountain_dog Blenheim_spaniel Samoyed Pug Cocker_spaniel Chihuahua Wild_boar Toy_poodle Space_heater Four-poster Chow Golden_retriever Tibetan_mastiff Pembroke Border_terrier Papillon Samoyed Staffordshire_bullterrier Golden_retriever Collie Basenji Golden_retriever Great_pyrenees Chihuahua Chihuahua Egyptian_cat Collie Airedale Pug Golden_retriever Guinea_pig Siamese_cat Chihuahua Samoyed Pembroke Teddy Otter Great_pyrenees Labrador_retriever Boxer Window_shade Pembroke Doormat Golden_retriever Border_collie Wool Pembroke Hippopotamus Wallaby Golden_retriever Bloodhound Kelpie Pomeranian West_highland_white_terrier Boston_bull Golden_retriever Pomeranian Toy_poodle French_bulldog Chihuahua Yorkshire_terrier Border_collie Chihuahua White_wolf Kuvasz Rhodesian_ridgeback Tailed_frog Great_pyrenees American_staffordshire_terrier Bath_towel Hamster Beagle Tennis_ball Golden_retriever Hummingbird West_highland_white_terrier Chihuahua Golden_retriever Border_terrier Malinois Dandie_dinmont Hippopotamus Pembroke Golden_retriever Pug Samoyed Cairn Labrador_retriever Mousetrap Schipperke Shih-tzu Chihuahua Norfolk_terrier Italian_greyhound German_short-haired_pointer Samoyed Brittany_spaniel Samoyed French_bulldog Pug Boxer Italian_greyhound Labrador_retriever Chesapeake_bay_retriever Staffordshire_bullterrier Pembroke Great_dane Washbasin Lhasa Shetland_sheepdog Siamese_cat Bath_towel Labrador_retriever Toy_poodle Great_dane Great_dane Grey_fox Chihuahua Appenzeller Kuvasz Space_heater Weasel Car_mirror Briard Borzoi Pomeranian Samoyed Old_english_sheepdog Basenji Pug Maltese_dog Papillon Shih-tzu Seat_belt Boston_bull Bow_tie Beaver Australian_terrier Boxer Shih-tzu Teddy Pembroke Groenendael Washbasin Scottish_deerhound Pug Malamute Dining_table Sea_lion Labrador_retriever Golden_retriever Vizsla Shih-tzu Cocker_spaniel Ice_lolly Saint_bernard Mexican_hairless Soft-coated_wheaten_terrier German_short-haired_pointer Samoyed Samoyed Golden_retriever Pug Siberian_husky Bison Siberian_husky Pug Tibetan_terrier Minivan Saint_bernard Chihuahua Bloodhound Shetland_sheepdog Bernese_mountain_dog Lakeland_terrier Rottweiler Borzoi Barrow Golden_retriever Geyser Snorkel Golden_retriever Kuvasz Bath_towel Bighorn Lhasa Pembroke Kuvasz Pug Motor_scooter Badger Malamute Samoyed Standard_poodle Cowboy_hat Pomeranian Old_english_sheepdog Collie Italian_greyhound Bustard Toy_poodle Dogsled Eskimo_dog Pembroke Snowmobile Scotch_terrier Chihuahua American_staffordshire_terrier Cocker_spaniel English_springer Pembroke Crane Ibizan_hound Hog Cardigan Malinois American_staffordshire_terrier Papillon Pembroke Golden_retriever Bannister Sorrel Pug Eskimo_dog Pomeranian Lakeland_terrier Staffordshire_bullterrier Miniature_pinscher Pug Rottweiler English_springer Wood_rabbit Boston_bull Shih-tzu Seat_belt Pug Car_mirror Borzoi Fiddler_crab Labrador_retriever Refrigerator Cheeseburger Tibetan_mastiff Norwich_terrier Rottweiler Labrador_retriever Yorkshire_terrier German_shepherd Pug Pomeranian Great_dane Rhodesian_ridgeback Damselfly Siberian_husky Papillon Yorkshire_terrier Sliding_door Chesapeake_bay_retriever Lakeland_terrier Web_site White_wolf Golden_retriever Boston_bull Chow Pomeranian Pug Dishwasher Bernese_mountain_dog Llama Border_collie Labrador_retriever Shopping_cart Pembroke Clog Miniature_schnauzer Weimaraner Minibus Chihuahua Labrador_retriever Pembroke Soft-coated_wheaten_terrier Llama Chihuahua Kelpie Chow Cheetah Labrador_retriever Bluetick Toy_poodle Hog Maltese_dog Malamute Miniature_pinscher Pembroke Airedale Keeshond Italian_greyhound Lakeland_terrier French_bulldog Pembroke Leonberg Cocker_spaniel Golden_retriever Koala Boxer Dingo Toyshop English_setter Bald_eagle Beagle English_springer Whippet Wombat Vizsla Curly-coated_retriever Seat_belt Siberian_husky Snorkel Jigsaw_puzzle Teddy Schipperke Triceratops Labrador_retriever Chihuahua Toy_poodle Birdhouse Pomeranian Toy_poodle Rottweiler Norfolk_terrier Seat_belt Samoyed Frilled_lizard Lhasa Saint_bernard Tibetan_terrier Motor_scooter Irish_setter Pomeranian Pug Carousel Soft-coated_wheaten_terrier Labrador_retriever Pomeranian Shetland_sheepdog Pembroke Pug Ram French_bulldog Tub Chihuahua Kuvasz Lakeland_terrier Space_heater Bubble Christmas_stocking Brittany_spaniel Christmas_stocking Bluetick Miniature_poodle Maltese_dog Pug Golden_retriever Pillow Earthstar Samoyed Hog Entlebucher Llama Airedale Chihuahua Bloodhound French_bulldog Wallaby Boxer Dalmatian Mailbox Chihuahua Porcupine Maltese_dog Toy_poodle Pug Italian_greyhound Scottish_deerhound Kelpie Cash_machine Panpipe Eskimo_dog Labrador_retriever Labrador_retriever Airedale Pembroke Harp Irish_terrier Malamute Seat_belt Maze Labrador_retriever Staffordshire_bullterrier Maltese_dog Schipperke Swing Pembroke Miniature_pinscher Dogsled Golden_retriever Norfolk_terrier Maltese_dog Chihuahua Miniature_pinscher Eskimo_dog Dalmatian Teddy Siberian_husky Shih-tzu Pembroke Maltese_dog Cowboy_hat Chihuahua Patio Basset Seat_belt American_staffordshire_terrier Staffordshire_bullterrier Lakeland_terrier Beagle Water_buffalo Blenheim_spaniel Japanese_spaniel Shetland_sheepdog Common_iguana English_setter Malamute Labrador_retriever Welsh_springer_spaniel Guenon Pekinese Black-footed_ferret Chesapeake_bay_retriever Hamster Chesapeake_bay_retriever Great_pyrenees Rain_barrel Chihuahua Doormat Chihuahua Book_jacket Loafer Whippet Boston_bull Seat_belt Feather_boa Chow Pug Golden_retriever Maltese_dog Golden_retriever Teddy French_bulldog Bubble Hamster Chihuahua Irish_water_spaniel Shih-tzu Walking_stick Bull_mastiff Labrador_retriever Italian_greyhound West_highland_white_terrier Wood_rabbit Labrador_retriever Pug Pomeranian Basset Beagle Maltese_dog Golden_retriever Standard_schnauzer English_springer Chow Pembroke Cocker_spaniel Scottish_deerhound Dough Vizsla West_highland_white_terrier Box_turtle Labrador_retriever Chihuahua Labrador_retriever Upright Pembroke Llama Paper_towel Chow Golden_retriever Dingo Labrador_retriever Stove Bow Labrador_retriever Dalmatian Samoyed Street_sign Boxer Pembroke English_springer Pembroke Labrador_retriever Miniature_poodle Ocarina Chihuahua Shower_curtain Samoyed Vizsla Bernese_mountain_dog Dandie_dinmont Pomeranian Tick Malamute African_crocodile Flat-coated_retriever Soccer_ball Pomeranian Jellyfish Chow Brabancon_griffon Acorn_squash Golden_retriever Chihuahua Brown_bear Toilet_tissue Seashore Porcupine Cardigan German_shepherd Pug Slug Greater_swiss_mountain_dog Eskimo_dog Pomeranian Airedale Ostrich Cardigan Shih-tzu Robin Toy_poodle Eskimo_dog Toy_poodle Pomeranian Collie Pembroke Jigsaw_puzzle Pug Jack-o'-lantern Toilet_seat Brabancon_griffon Suit Maltese_dog Chihuahua Golden_retriever German_short-haired_pointer Shih-tzu Water_bottle Porcupine Chesapeake_bay_retriever Soft-coated_wheaten_terrier Pekinese Samoyed Labrador_retriever Bull_mastiff Wombat Newfoundland Arctic_fox Beagle Teddy Ox English_setter Rottweiler Golden_retriever West_highland_white_terrier Hamster Chihuahua Ski_mask Samoyed Miniature_pinscher Golden_retriever Shih-tzu Airedale Schipperke Tub Chow French_bulldog Lakeland_terrier Wombat Car_mirror Pug Leaf_beetle Toy_poodle Chihuahua Ram Motor_scooter Tusker Chihuahua Pembroke Sandbar Chesapeake_bay_retriever Golden_retriever Starfish Microwave Toy_poodle Great_pyrenees Kuvasz Gondola Siamese_cat Golden_retriever Doberman West_highland_white_terrier Border_collie Terrapin Cocker_spaniel Pug Irish_terrier Chihuahua Ostrich Pug Irish_terrier Chihuahua Pug Killer_whale Beagle Carton Cocker_spaniel Pug Rottweiler Tennis_ball Pug Hamster Pug Chow Labrador_retriever Ski_mask Bee_eater China_cabinet Labrador_retriever Chimpanzee Dalmatian Chihuahua Prayer_rug Ice_bear Toy_poodle Stone_wall Gordon_setter Loafer Feather_boa Shetland_sheepdog Park_bench Pug Hen Doberman Pomeranian Lakeland_terrier Hermit_crab Toy_poodle Swing Hermit_crab German_shepherd Samoyed Zebra Tub Italian_greyhound Miniature_poodle Picket_fence Chihuahua Rottweiler Refrigerator African_hunting_dog Pitcher Labrador_retriever Rottweiler Yorkshire_terrier Guinea_pig Samoyed Shih-tzu Goose Malinois Basenji Redbone Microphone Shih-tzu Flamingo Pekinese Malinois Scorpion Labrador_retriever Web_site American_staffordshire_terrier Basset Old_english_sheepdog Pomeranian Basenji Pembroke Brown_bear Beagle Dingo Lacewing Chihuahua Labrador_retriever Pug Norfolk_terrier Keeshond Dhole Wood_rabbit Pomeranian Norwich_terrier Shetland_sheepdog Ibizan_hound Dandie_dinmont Banana Wool Minivan Axolotl Arctic_fox Peacock English_springer Sussex_spaniel Sorrel Jack-o'-lantern Window_shade Chow Seat_belt Chihuahua Bow_tie Sea_urchin Maltese_dog Ping-pong_ball Pug Whippet English_springer Platypus Cairn Irish_terrier Shetland_sheepdog Chihuahua Toy_poodle German_short-haired_pointer Mud_turtle Malamute Boathouse Italian_greyhound Snail Blenheim_spaniel Web_site Pot Beagle Piggy_bank Teddy Miniature_pinscher Vizsla Pomeranian Car_mirror Pembroke Washbasin Pomeranian Christmas_stocking Dalmatian Weasel Seat_belt Maltese_dog Eskimo_dog Candle West_highland_white_terrier Minivan Chihuahua Toy_poodle Cocker_spaniel Airedale Brabancon_griffon Basset Golden_retriever Labrador_retriever Chihuahua Cuirass Siberian_husky Golden_retriever Seashore Golden_retriever Minivan Pug Chihuahua Comic_book Chihuahua Pembroke Hog Lynx Pug Arabian_camel Doormat Jellyfish Golden_retriever Basset Shower_curtain Cocker_spaniel Standard_poodle Brittany_spaniel Kelpie Teddy Golden_retriever Malinois Redbone Chesapeake_bay_retriever Beagle Ski_mask Common_iguana Vacuum Komondor Pekinese Miniature_schnauzer French_bulldog Ox Chihuahua Crash_helmet Bustard Shih-tzu Bearskin American_staffordshire_terrier Lakeland_terrier Labrador_retriever Basenji Staffordshire_bullterrier Standard_poodle Arctic_fox Shopping_basket King_penguin Web_site Golden_retriever Soft-coated_wheaten_terrier Pembroke Canoe Chihuahua Chow Trombone Chow Labrador_retriever Blenheim_spaniel Chihuahua Arctic_fox Angora Pembroke Hamster Labrador_retriever Leatherback_turtle Frilled_lizard Norwegian_elkhound Pomeranian Malamute Seat_belt Common_iguana Jigsaw_puzzle Malamute Miniature_pinscher Toyshop Flat-coated_retriever Dalmatian Lorikeet West_highland_white_terrier Fire_engine Kuvasz Ibex Electric_fan Toy_poodle Pomeranian Yorkshire_terrier Pembroke Golden_retriever Hare Italian_greyhound Beagle Labrador_retriever Chihuahua Borzoi Toy_poodle Tibetan_terrier Labrador_retriever Goose Porcupine Rottweiler Saint_bernard Papillon Teddy Golden_retriever Siberian_husky Rottweiler Vacuum Golden_retriever Vizsla Soft-coated_wheaten_terrier Toy_poodle Giant_schnauzer Miniature_pinscher Golden_retriever Toy_poodle West_highland_white_terrier Pembroke Chihuahua Chihuahua Jigsaw_puzzle Chesapeake_bay_retriever Golden_retriever Hyena Hay Swab Triceratops Airedale Maltese_dog Miniature_schnauzer English_setter Snail Italian_greyhound Seat_belt Miniature_poodle Labrador_retriever German_shepherd Border_collie Ibizan_hound Dalmatian Curly-coated_retriever Chihuahua Chesapeake_bay_retriever Llama Pembroke Blenheim_spaniel Toy_terrier Coho Black-and-tan_coonhound Chihuahua Soft-coated_wheaten_terrier Guinea_pig Malamute Golden_retriever Ox Three-toed_sloth Maltese_dog Italian_greyhound Desktop_computer Hen English_setter Lhasa Bloodhound Pug Walker_hound Gordon_setter Golden_retriever Miniature_poodle Shopping_cart Chow Box_turtle Bernese_mountain_dog Miniature_pinscher Rhodesian_ridgeback German_shepherd Redbone Welsh_springer_spanielBagel Pekinese Malamute Labrador_retriever English_springer Irish_terrier Border_collie Eskimo_dog Irish_setter Cardigan Pomeranian Labrador_retriever Cardigan Boxer Labrador_retriever Borzoi Tibetan_mastiff Labrador_retriever Eskimo_dog Pug Redbone Tow_truck Rhodesian_ridgeback Sea_lion Eskimo_dog Toy_terrier Great_pyrenees Sports_car Chihuahua Shower_cap Shih-tzu Labrador_retriever Siberian_husky American_staffordshire_terrier Norwich_terrier French_bulldog Cardigan Malinois Miniature_pinscher Labrador_retriever Tibetan_mastiff Labrador_retriever Siberian_husky Chesapeake_bay_retriever Chihuahua Labrador_retriever Dhole Chesapeake_bay_retriever Afghan_hound Angora Indian_elephant Umbrella Norwich_terrier Labrador_retriever Meerkat Rhodesian_ridgeback Beagle Vizsla Boston_bull Labrador_retriever Window_screen Miniature_pinscher Whippet Collie Boston_bull Labrador_retriever Welsh_springer_spaniel Italian_greyhound Cardigan Redbone Irish_terrier Saint_bernard Chesapeake_bay_retriever Pembroke Siberian_husky Staffordshire_bullterrier Miniature_poodle Black-and-tan_coonhound Pembroke Tibetan_mastiff Bloodhound Chesapeake_bay_retriever French_bulldog Sussex_spaniel Cardigan Flat-coated_retriever Pug Collie Golden_retriever Briard Macaque Sandbar Cardigan Great_pyrenees Appenzeller Envelope Cardigan Cardigan Toy_terrier Chihuahua French_bulldog Great_pyrenees Italian_greyhound Kuvasz Cardigan Siberian_husky Pekinese Groenendael Boston_bull Pomeranian Kuvasz Labrador_retriever Cardigan Lakeside French_bulldog Labrador_retriever Meerkat Malamute French_bulldog Pug Irish_terrier Beagle Studio_couch Pomeranian Pembroke Oxygen_mask Pembroke Pembroke Toy_poodle Dock Gorilla Staffordshire_bullterrier Golden_retriever Irish_setter Malamute Projectile Labrador_retriever Cardigan Labrador_retriever English_springer Beagle Siberian_husky Pomeranian Labrador_retriever Siamese_cat Italian_greyhound Labrador_retriever Pekinese Cardigan Toy_poodle Cardigan Doberman Collie Chihuahua Malinois Beach_wagon Rhodesian_ridgeback Otterhound Brabancon_griffon Dumbbell Dishwasher Bernese_mountain_dog Chihuahua Menu Seat_belt Bull_mastiff Maltese_dog Kelpie Collie Toy_terrier Crossword_puzzle Prison American_black_bear Newfoundland Siberian_husky Ibizan_hound Mink Greater_swiss_mountain_dog Boston_bull Irish_terrier American_staffordshire_terrier American_staffordshire_terrier Papillon Leonberg Flat-coated_retriever Labrador_retriever Chow Groenendael Maltese_dog Labrador_retriever Golden_retriever Golden_retriever Dishwasher Chesapeake_bay_retriever Golden_retriever Golden_retriever Cardigan Golden_retriever Bucket Cardigan Soccer_ball Newfoundland Bow_tie Labrador_retriever Saluki Blenheim_spaniel Rule Cocker_spaniel Cup Labrador_retriever American_staffordshire_terrier Norwich_terrier Newfoundland Brabancon_griffon Doormat Kuvasz Seat_belt Labrador_retriever Can_opener Keeshond Staffordshire_bullterrier Eskimo_dog Shopping_basket Academic_gown Jaguar Sliding_door Ice_bear White_wolf Muzzle Border_terrier Chesapeake_bay_retriever Collie American_staffordshire_terrier Soft-coated_wheaten_terrier Norwegian_elkhound Golden_retriever Whippet Pekinese Bison Sleeping_bag Great_pyrenees Kelpie Maltese_dog Cocker_spaniel Kelpie French_bulldog Staffordshire_bullterrier Siberian_husky Brabancon_griffon German_short-haired_pointer Ice_bear Ibizan_hound Marmot Great_dane Cardigan Siberian_husky Pembroke Tibetan_terrier Soft-coated_wheaten_terrier Kelpie Brittany_spaniel Golden_retriever Seat_belt Pomeranian Staffordshire_bullterrier Pekinese Golden_retriever American_staffordshire_terrier Cocker_spaniel Dalmatian Chesapeake_bay_retriever Mexican_hairless Chesapeake_bay_retriever Toy_poodle Chesapeake_bay_retriever Labrador_retriever Staffordshire_bullterrier Eskimo_dog Window_screen Staffordshire_bullterrier Tibetan_mastiff Border_collie Golden_retriever Toy_poodle American_staffordshire_terrier Labrador_retriever Golden_retriever Siamese_cat Tibetan_mastiff Pug Golden_retriever Golden_retriever Shopping_basket Golden_retriever Tibetan_mastiff Pomeranian Siberian_husky Malinois Golden_retriever Cardigan Jigsaw_puzzle Curly-coated_retriever Snorkel German_shepherd Chihuahua Tub Labrador_retriever Chihuahua Norfolk_terrier Malamute Samoyed Pomeranian Cocker_spaniel Labrador_retriever Black-and-tan_coonhound Vizsla Malinois Papillon Airedale Pekinese Kuvasz Black-and-tan_coonhound Cab Staffordshire_bullterrier Shower_curtain Toilet_seat Basenji Black-and-tan_coonhound German_shepherd Palace Toy_poodle Beagle Border_terrier Welsh_springer_spaniel Toy_poodle Labrador_retriever Golden_retriever Flat-coated_retriever French_bulldog Samoyed Black-and-tan_coonhound Irish_setter Afghan_hound French_bulldog Pembroke Pomeranian Envelope Kuvasz Samoyed Miniature_pinscher Tibetan_terrier Cardigan Norwegian_elkhound Toyshop Boxer Kuvasz Toy_poodle Labrador_retriever Eskimo_dog Boston_bull Siberian_husky Pomeranian Golden_retriever Labrador_retriever Golden_retriever Pembroke Ibizan_hound Whippet Pembroke Boston_bull Kelpie Pembroke Labrador_retriever Boxer Golden_retriever Web_site Pillow Cocker_spaniel French_bulldog Labrador_retriever Pembroke Cardigan Tibetan_mastiff Labrador_retriever Siberian_husky Eskimo_dog American_staffordshire_terrier Toy_poodle Cardigan Samoyed Bloodhound Miniature_pinscher Toy_poodle Cocker_spaniel Labrador_retriever Staffordshire_bullterrier Cocker_spaniel Pomeranian Irish_setter House_finch Brittany_spaniel Pomeranian Keeshond American_staffordshire_terrier German_shepherd Barrel Rhodesian_ridgeback German_shepherd Envelope Redbone Golden_retriever Entertainment_center Chow Golden_retriever Labrador_retriever Television Siberian_husky American_staffordshire_terrier Cardigan Beach_wagon Dandie_dinmont English_setter Miniature_poodle Cardigan Ice_bear Pembroke Kuvasz Punching_bag Collie Redbone Siberian_husky Norwich_terrier Eskimo_dog Cairn Shih-tzu Chihuahua Cardigan Border_collie Boston_bull Staffordshire_bullterrier Seat_belt Pomeranian Labrador_retriever Pembroke Tibetan_mastiff Labrador_retriever Chesapeake_bay_retriever Labrador_retriever Harvester Bath_towel Malamute Fountain Golden_retriever Bedlington_terrier Chihuahua Labrador_retriever Borzoi Eskimo_dog Walker_hound Labrador_retriever Lakeland_terrier French_bulldog Golden_retriever Irish_terrier Labrador_retriever Bluetick Saltshaker Golden_retriever Lighter Basketball Silky_terrier Irish_setter Swab Labrador_retriever Cardigan Toy_terrier Flat-coated_retriever Golden_retriever Entlebucher Malinois Cardigan Great_dane Bathtub Cougar Beagle Kelpie Siberian_husky Pekinese Oscilloscope Golden_retriever Labrador_retriever Pomeranian Pomeranian Minivan French_bulldog Malinois Toy_terrier Golden_retriever Saluki Persian_cat Keeshond Cardigan Labrador_retriever Schipperke Toy_poodle Golden_retriever Sea_urchin Black-and-tan_coonhound Cradle Eskimo_dog Binoculars Eskimo_dog Toy_poodle Siamese_cat Golden_retriever Golden_retriever Miniature_pinscher Cairn Shetland_sheepdog Airedale Golden_retriever Otterhound Golden_retriever Tibetan_mastiff Soft-coated_wheaten_terrier Dining_table Golden_retriever Chesapeake_bay_retriever Italian_greyhound Collie Necklace Sussex_spaniel Eskimo_dog Cardigan Labrador_retriever German_shepherd Mongoose Cocker_spaniel Cash_machine Soft-coated_wheaten_terrier Toy_terrier Labrador_retriever Boxer Malinois Irish_terrier Cardigan Borzoi Pug Malinois Cocker_spaniel Basset Golden_retriever Norwich_terrier Mexican_hairless Miniature_poodle Chesapeake_bay_retriever Pomeranian Black-and-tan_coonhound Black_widow Pug Bath_towel Ox Hand-held_computer Chihuahua Golden_retriever Miniature_poodle Basenji Siberian_husky Fur_coat Samoyed Yorkshire_terrier Maltese_dog Chesapeake_bay_retriever Labrador_retriever Miniature_pinscher Shih-tzu Norwegian_elkhound Walker_hound Border_collie Chihuahua Irish_setter Beagle Toy_terrier Cardigan Collie Golden_retriever Border_collie Golden_retriever Pug Doormat Greater_swiss_mountain_dog Golden_retriever Skunk Maillot Mexican_hairless American_staffordshire_terrier Chihuahua Muzzle Pekinese Golden_retriever Brabancon_griffon Italian_greyhound Golden_retriever Chesapeake_bay_retriever Ram Cliff Fountain Golden_retriever Boathouse Miniature_poodle Basset Vizsla Pomeranian Miniature_poodle Beagle Basset Labrador_retriever Walker_hound Cardigan Labrador_retriever Whippet Appenzeller Malinois Jean Toy_poodle Ice_bear German_shepherd Standard_poodle Tibetan_mastiff Madagascar_cat Cash_machine Chesapeake_bay_retriever Canoe Sea_lion Saluki Malinois Samoyed French_bulldog Sussex_spaniel Cocker_spaniel Labrador_retriever Killer_whale Malamute Lhasa Dam Confectionery Seat_belt Vizsla Labrador_retriever Chesapeake_bay_retriever Bedlington_terrier Golden_retriever Kelpie Bathing_cap Old_english_sheepdog Vizsla Labrador_retriever Cardigan Chihuahua Laptop Cardigan Cardigan Old_english_sheepdog Labrador_retriever Beagle Wallet Golden_retriever Chesapeake_bay_retriever Whippet Labrador_retriever Cocker_spaniel Kelpie Volcano Cocker_spaniel French_bulldog Irish_terrier Maltese_dog Printer Golden_retriever Labrador_retriever Cash_machine Bathtub Basset Norfolk_terrier Boston_bull Toy_terrier Lakeside Italian_greyhound Crutch Monitor Cardigan Malinois Eskimo_dog English_setter Labrador_retriever Standard_poodle German_shepherd Teddy Pomeranian Miniature_poodle Studio_couch Golden_retriever Afghan_hound German_short-haired_pointer Chesapeake_bay_retriever Chesapeake_bay_retriever Miniature_poodle Cardigan Lesser_panda Labrador_retriever Collie Boston_bull Miniature_poodle Lhasa Llama Teddy Malinois Borzoi Maltese_dog Teddy Boston_bull West_highland_white_terrier Sunglasses Chihuahua Shetland_sheepdog Curly-coated_retriever Chow Lakeland_terrier Brabancon_griffon West_highland_white_terrier Bluetick Wire-haired_fox_terrier Great_white_shark Cardigan Plow Seat_belt Toy_poodle Whippet Collie Shovel Irish_terrier Eskimo_dog Samoyed Papillon Chihuahua Weimaraner Dingo Malinois Barbershop Marmot Dugong Golden_retriever Beagle Guinea_pig Labrador_retriever Lakeland_terrier Malinois Pomeranian Collie Shih-tzu Chow Basset Golden_retriever Great_white_shark Collie Shih-tzu Golden_retriever Samoyed Pomeranian Ice_bear Rhodesian_ridgeback Great_dane American_staffordshire_terrier Hog Standard_poodle Tub Siberian_husky Soft-coated_wheaten_terrier Chesapeake_bay_retriever Sunglass Comic_book Brabancon_griffon Border_collie Punching_bag French_bulldog French_bulldog Flat-coated_retriever Redbone Pug Labrador_retriever Samoyed Angora Swing Norwegian_elkhound Kuvasz Windsor_tie Kuvasz Labrador_retriever Wig Beagle Table_lamp Cocker_spaniel Golden_retriever English_foxhound Siberian_husky Swab Golden_retriever Gibbon Blenheim_spaniel Standard_poodle Norwegian_elkhound Tub Rhodesian_ridgeback Norwegian_elkhound Cardigan Pomeranian Solar_dish Lakeside Groenendael Toy_poodle West_highland_white_terrier Labrador_retriever Toy_poodle Seat_belt Goose Four-poster French_bulldog Beagle Feather_boa Chow Eskimo_dog Walker_hound Shih-tzu Computer_keyboard Beaver Labrador_retriever Staffordshire_bullterrier Samoyed American_staffordshire_terrier Basset Border_collie Cardigan Breakwater Mink Labrador_retriever Siberian_husky Norwegian_elkhound Chain_mail China_cabinet Arabian_camel Doberman Prison Toy_poodle Cardigan Collie Studio_couch Saint_bernard Great_pyrenees Groenendael Pomeranian Golden_retriever Collie Kuvasz Chihuahua Miniature_poodle Sock Great_dane Toy_poodle Irish_terrier Border_terrier Cocker_spaniel Miniature_poodle Samoyed Bull_mastiff Great_pyrenees Bluetick Cocker_spaniel Collie Bull_mastiff Pug Pomeranian Chow Labrador_retriever Badger Greater_swiss_mountain_dog Golden_retriever Chihuahua Washbasin Dingo Groenendael Black-and-tan_coonhound Cardigan Lawn_mower Redbone Eskimo_dog Cocker_spaniel Window_shade Siberian_husky Soft-coated_wheaten_terrier Borzoi Miniature_poodle Saint_bernard Cardigan Pekinese German_short-haired_pointer West_highland_white_terrier Boston_bull Hatchet Carton Siberian_husky English_springer Minibus Labrador_retriever Italian_greyhound Labrador_retriever Eskimo_dog Leonberg Seat_belt Malamute Silky_terrier Chow French_bulldog Miniature_poodle Pug Labrador_retriever Screw Soft-coated_wheaten_terrier Italian_greyhound Beagle Chihuahua Beagle Samoyed Weasel Labrador_retriever Chesapeake_bay_retriever Bedlington_terrier Bloodhound Golden_retriever Eskimo_dog Cocker_spaniel English_springer Samoyed Basenji Malamute Carton Kuvasz Golden_retriever Great_pyrenees Whippet Llama Tibetan_terrier Gibbon Coffee_mug Miniature_poodle Ibizan_hound Indian_elephant Arabian_camel Cardigan Loggerhead Boston_bull Eskimo_dog Pembroke Cardigan Dandie_dinmont Cardigan Lhasa Wire-haired_fox_terrier German_shepherd Sombrero Papillon Miniature_poodle Cardigan Handkerchief Pomeranian Tibetan_mastiff Kuvasz Newfoundland Dandie_dinmont Collie Pomeranian Italian_greyhound Wire-haired_fox_terrier Eskimo_dog Rottweiler Kelpie Giant_panda Labrador_retriever Samoyed German_short-haired_pointer Lhasa Toy_terrier French_bulldog Basenji Basset Chihuahua Norfolk_terrier American_staffordshire_terrier Chesapeake_bay_retriever Gila_monster Miniature_poodle Toy_terrier Italian_greyhound Tub Cocker_spaniel Kuvasz Airedale Italian_greyhound Bloodhound Shetland_sheepdog Shih-tzu Great_pyrenees Llama Golden_retriever Italian_greyhound Hog Miniature_poodle Chihuahua Quilt Pembroke Labrador_retriever Rottweiler Chihuahua Bull_mastiff Pekinese Kuvasz American_staffordshire_terrier Labrador_retriever Border_collie Italian_greyhound Labrador_retriever Kuvasz Quilt Toy_terrier Chesapeake_bay_retriever Chow Irish_terrier Teddy Labrador_retriever Hamster Chihuahua Siamese_cat Pomeranian Cardigan Feather_boa Mink Kuvasz Chesapeake_bay_retriever Greater_swiss_mountain_dog Window_screen Basenji Turnstile Standard_poodle Collie Fur_coat Shetland_sheepdog Doormat Wombat Chesapeake_bay_retriever Sussex_spaniel Badger Shih-tzu Scotch_terrier French_bulldog Chow Weasel Miniature_poodle Staffordshire_bullterrier Pembroke Silky_terrier Cardigan Pembroke Schipperke Great_pyrenees Redbone Tree_frog Samoyed Staffordshire_bullterrier Norwegian_elkhound Pomeranian Pembroke Italian_greyhound Crossword_puzzle Peacock Maltese_dog Schipperke Irish_setter Toy_poodle German_shepherd Old_english_sheepdog Sea_lion Cardigan Kuvasz French_bulldog Malamute Chihuahua Doormat Banded_gecko Chesapeake_bay_retriever Pekinese Toyshop Irish_terrier Redbone Bluetick Shoji Welsh_springer_spaniel Kuvasz Boston_bull Pekinese Saint_bernard Basset American_staffordshire_terrier Malinois Boston_bull Cardigan Greater_swiss_mountain_dog Paper_towel Shih-tzu Collie Whippet Christmas_stocking Golden_retriever Miniature_poodle Boxer Malinois Siamese_cat Pembroke Beagle Golden_retriever Spatula Toy_poodle Chesapeake_bay_retriever Scotch_terrier Walker_hound Chow Arctic_fox Otterhound Cardigan Bull_mastiff Lhasa Chihuahua Tibetan_terrier Sunglasses Pug Fur_coat Mongoose Yorkshire_terrier Bull_mastiff Toy_poodle Pekinese Cardigan Norwegian_elkhound Doormat Bluetick French_bulldog Siberian_husky Grey_fox Siamese_cat Bull_mastiff Labrador_retriever Chesapeake_bay_retriever Lhasa Welsh_springer_spaniel Neck_brace English_springer Doberman Cocker_spaniel Bluetick Arctic_fox Siberian_husky Labrador_retriever French_bulldog Eskimo_dog Mink Malamute Swing Cocker_spaniel Sports_car Boxer Teddy Black-and-tan_coonhound Collie Border_collie Irish_terrier German_shepherd Llama Tub Labrador_retriever Seashore Muzzle Labrador_retriever Golden_retriever Radiator Hyena Koala Papillon Labrador_retriever French_bulldog Moped Weasel Siberian_husky Great_pyrenees English_springer Labrador_retriever Shetland_sheepdog Tibetan_terrier Shetland_sheepdog Whippet Koala Mashed_potato Cocker_spaniel Siberian_husky Cardigan Assault_rifle Affenpinscher American_staffordshire_terrier Chesapeake_bay_retriever Golden_retriever Papillon Red_fox Pier Chihuahua Guinea_pig Skunk German_shepherd Staffordshire_bullterrier Blenheim_spaniel Cardigan Cocker_spaniel Four-poster Horse_cart Chihuahua Norwegian_elkhound Pekinese Soft-coated_wheaten_terrier Boxer Toy_terrier French_bulldog Miniature_pinscher English_setter Angora Boxer Maltese_dog Great_dane Chihuahua Seat_belt Whippet Quail Chesapeake_bay_retriever Medicine_chest Hotdog Newfoundland Cocker_spaniel Miniature_pinscher Ibizan_hound Silky_terrier Leonberg Bull_mastiff Keeshond Irish_wolfhound Redbone Common_newt Eskimo_dog Toy_terrier Briard Doormat Tennis_ball Airedale Oscilloscope Dingo Labrador_retriever French_bulldog Pomeranian Shetland_sheepdog Norwegian_elkhound Stove Appenzeller Triceratops Collie Golden_retriever Chow Cardigan Spindle Norfolk_terrier English_setter Llama Pomeranian Chesapeake_bay_retriever Black-footed_ferret Cocker_spaniel Ram Toy_terrier American_staffordshire_terrier German_shepherd Arabian_camel German_short-haired_pointer Shetland_sheepdog Teddy Mexican_hairless Toy_poodle Siberian_husky Labrador_retriever Cardigan Irish_terrier Chow Whippet Soft-coated_wheaten_terrier Boston_bull Cardigan Chow Soft-coated_wheaten_terrier Kuvasz Eskimo_dog Bull_mastiff Chihuahua Orange English_springer Torch Cardigan Cardigan Italian_greyhound Koala Paddle Flat-coated_retriever Lakeland_terrier Eskimo_dog Loggerhead Siamese_cat Doormat Groenendael Chimpanzee Golden_retriever Doormat Miniature_poodle Teddy Chow Miniature_poodle Labrador_retriever German_shepherd Labrador_retriever Eskimo_dog Tailed_frog Shih-tzu Pekinese Miniature_poodle Rifle Cocker_spaniel Keeshond Whippet Feather_boa West_highland_white_terrier Siberian_husky Golden_retriever Collie Shetland_sheepdog Labrador_retriever Hog Chihuahua Bathtub Muzzle Samoyed West_highland_white_terrier Radiator Hen Cloak Welsh_springer_spaniel Mask Miniature_pinscher Toy_poodle West_highland_white_terrier French_bulldog Chow Apron Shih-tzu Great_pyrenees Hay Greater_swiss_mountain_dog Ram Border_terrier Dalmatian Bull_mastiff Chihuahua West_highland_white_terrier Boston_bull Jaguar Cannon Black-footed_ferret Meerkat Toy_poodle Miniature_poodle Bull_mastiff Hair_slide Irish_wolfhound Beagle Schipperke Bannister Siberian_husky Chesapeake_bay_retriever Beagle Silky_terrier Toy_poodle Window_screen Australian_terrier Border_collie Sunglasses Streetcar Flat-coated_retriever Rottweiler Toy_poodle Labrador_retriever Bedlington_terrier Cardigan Kelpie Snowmobile Cocker_spaniel Golden_retriever Lhasa Yorkshire_terrier Doberman Dalmatian Kuvasz Crib Junco Lhasa Sunglasses Angora Trench_coat Italian_greyhound Folding_chair Welsh_springer_spaniel Shih-tzu Staffordshire_bullterrier Norwegian_elkhound Airedale Boxer Kelpie Japanese_spaniel Pekinese Collie Tennis_ball Shih-tzu Siberian_husky Beagle Saint_bernard Macaque Golden_retriever Polecat Norwegian_elkhound Guinea_pig Water_buffalo Kuvasz Barrel Pomeranian Dishwasher Pomeranian Doberman Doormat Great_dane French_bulldog Boston_bull Yorkshire_terrier Ice_bear Norwegian_elkhound Borzoi Toy_poodle Cocker_spaniel Toy_poodle Chihuahua Leafhopper Guinea_pig Italian_greyhound Standard_poodle Norfolk_terrier Sandal Boxer Malinois Whippet Old_english_sheepdog Hare Golden_retriever Boston_bull Chow Beagle Basset West_highland_white_terrier Kuvasz Miniature_schnauzer Welsh_springer_spaniel Schipperke Cardigan Golden_retriever Groenendael Bakery Miniature_pinscher Seat_belt Terrapin Golden_retriever West_highland_white_terrier Ice_bear Golden_retriever Cardigan Standard_poodle Mailbox Tibetan_mastiff Labrador_retriever Cardigan Great_dane Rotisserie Quill Brittany_spaniel English_setter Chow Golden_retriever Space_heater Pomeranian Cocker_spaniel Cardigan Chesapeake_bay_retriever Toy_poodle Hamster French_bulldog Sarong Arctic_fox Redbone Shetland_sheepdog Black-footed_ferret Schipperke Nail Eskimo_dog American_alligator Groenendael Basset Chow Goldfish Pomeranian Malinois Shih-tzu Labrador_retriever Boston_bull Sea_lion Mosquito_net American_alligator Hamster Pembroke Malinois Norwegian_elkhound Ice_lolly Boxer Siberian_husky Shetland_sheepdog Kerry_blue_terrier Bearskin Pembroke Badger Rhinoceros_beetle Miniature_poodle Norwegian_elkhound Miniature_poodle Pekinese Borzoi Cardigan Prayer_rug Brabancon_griffon Schipperke Soft-coated_wheaten_terrier Chihuahua Bow_tie Toy_poodle Siamese_cat Cocker_spaniel Kelpie Lhasa Ashcan Hen American_staffordshire_terrier Sealyham_terrier Guinea_pig Arctic_fox Beagle Rhodesian_ridgeback Corn Leonberg Golden_retriever Basset Christmas_stocking Warthog Brittany_spaniel Miniature_pinscher Labrador_retriever Quill Weasel Italian_greyhound Chihuahua Pomeranian Bloodhound Labrador_retriever Maltese_dog Brown_bear Groenendael Bathtub Pomeranian Boxer West_highland_white_terrier Beaver Basset Brabancon_griffon Rhinoceros_beetle Miniature_poodle Pug Bighorn Bobsled Warthog Beagle Cardigan Stingray Cardigan Labrador_retriever Goldfish Rotisserie Miniature_poodle Old_english_sheepdog Great_pyrenees Lifeboat Chihuahua Chow Rottweiler Borzoi Collie Cockroach Toy_poodle Norwegian_elkhound Miniature_pinscher Teddy Arabian_camel French_bulldog Airedale Badger French_bulldog Grey_whale Basset Crate Sussex_spaniel French_bulldog American_black_bear Golden_retriever French_bulldog Toy_poodle Shopping_cart Hamster Golden_retriever Mask Toucan Entertainment_center Chihuahua Gorilla Teddy French_bulldog Doormat Ram Miniature_poodle Irish_wolfhound Black-and-tan_coonhound Platypus Wig Collie Water_bottle Bull_mastiff Cock Black-and-tan_coonhound Pekinese Wire-haired_fox_terrier Tick Bath_towel Paddle Snail Kelpie Great_pyrenees Tiger Bathtub Toy_terrier Toy_poodle Rain_barrel Whippet Kelpie Toilet_seat Plow Sunglasses Chesapeake_bay_retriever Black-and-tan_coonhound Cairn Wood_rabbit Great_pyrenees Golden_retriever Chihuahua Kelpie Beagle Beagle Accordion Lhasa Coral_fungus Persian_cat Norwegian_elkhound Tarantula German_short-haired_pointer Chihuahua Staffordshire_bullterrier Walker_hound Sealyham_terrier Pekinese Ibizan_hound Beagle Toy_poodle Basset Pembroke Sulphur_butterfly French_bulldog American_black_bear Brabancon_griffon Golden_retriever Norwegian_elkhound Hare Tabby Pekinese Cairn Home_theater Brittany_spaniel West_highland_white_terrier Orange Siamang Beach_wagon Tailed_frog Indri European_gallinule Brittany_spaniel Otterhound Basenji Chesapeake_bay_retriever Giant_schnauzer Golden_retriever Toy_terrier Corn Cardigan Porcupine Miniature_schnauzer Tennis_ball French_bulldog Chesapeake_bay_retriever English_setter Spotted_salamander West_highland_white_terrier Briard Cardigan Pomeranian Miniature_poodle Staffordshire_bullterrier Terrapin Siberian_husky Birdhouse American_staffordshire_terrier Slug Beagle Borzoi Tray Saint_bernard Hair_spray Koala Rottweiler Redbone Keeshond Seat_belt Hamster Toilet_seat Chihuahua Studio_couch Borzoi Siamese_cat Golden_retriever Tibetan_terrier Siberian_husky Lampshade Miniature_schnauzer Pickup Toy_terrier Miniature_poodle Blenheim_spaniel Norfolk_terrier Miniature_pinscher Beagle Irish_setter German_short-haired_pointer French_bulldog Breastplate Eskimo_dog Labrador_retriever Cardigan Irish_setter Police_van French_bulldog Pomeranian Bib Italian_greyhound Cardigan English_springer Tabby Waffle_iron Bison Chihuahua Coral_reef Irish_setter Welsh_springer_spaniel Chesapeake_bay_retriever Lakeland_terrier Old_english_sheepdog Ibizan_hound Collie Pillow Tibetan_mastiff Irish_terrier Italian_greyhound Weimaraner Italian_greyhound Knee_pad Frilled_lizard Pug Llama Shih-tzu Australian_terrier Pug Groenendael Pomeranian Toaster Pelican Lhasa Bow French_bulldog Toy_poodle Kuvasz Shetland_sheepdog Miniature_pinscher Bedlington_terrier Labrador_retriever Hamper Ice_bear Skunk Basset Lakeland_terrier Cardigan Paddle Miniature_pinscher Minivan Cornet Golden_retriever Golden_retriever Cocker_spaniel Cowboy_boot Wallaby Hen Cardigan Guinea_pig Hog Boxer Ox Malamute Pekinese Golden_retriever Miniature_pinscher Frilled_lizard Prayer_rug Siberian_husky Bath_towel Chihuahua Chesapeake_bay_retriever English_setter Hummingbird Pug Tow_truck Golden_retriever Bighorn Spotlight Miniature_poodle Pembroke Silky_terrier Cardigan Kuvasz Dhole Standard_poodle Labrador_retriever Golden_retriever Christmas_stocking Ice_bear Pug Irish_terrier French_bulldog Drake Bath_towel Miniature_pinscher Leonberg Border_collie Bath_towel Labrador_retriever Malamute Miniature_pinscher Swab Irish_setter Chesapeake_bay_retriever Lakeland_terrier Chihuahua Lakeland_terrier Rottweiler Miniature_poodle Pomeranian Samoyed Chihuahua Italian_greyhound Pug Doormat Vizsla Labrador_retriever African_hunting_dog Rottweiler Chain_saw Armadillo Toy_poodle Teddy Standard_schnauzer Brittany_spaniel Slug Weimaraner Miniature_pinscher Cocker_spaniel Chihuahua Beagle English_springer Pembroke Labrador_retriever Giant_schnauzer Beagle Chain_saw Irish_terrier Chow Cocker_spaniel Papillon Barracouta Bloodhound Toy_terrier Afghan_hound Skunk Siberian_husky Chesapeake_bay_retriever Newfoundland Otter Toy_poodle Toy_terrier Desk Cock Newfoundland Shih-tzu German_shepherd Bull_mastiff English_foxhound Yorkshire_terrier Tibetan_mastiff Komondor Shopping_basket Tibetan_mastiff Mud_turtle English_springer Rottweiler Redbone Malinois Miniature_pinscher CollieBanana Papillon Kelpie Spatula German_short-haired_pointer Indian_elephant Ice_lolly Pembroke Chesapeake_bay_retriever Chihuahua Chow Muzzle Basenji Staffordshire_bullterrier Redbone Saluki Labrador_retriever English_setter Malamute Bull_mastiff Weimaraner Shopping_cart Beagle Weimaraner Staffordshire_bullterrier Can_opener Dandie_dinmont Car_wheel Boston_bull Siamese_cat Bernese_mountain_dog Kuvasz Eskimo_dog Staffordshire_bullterrier Norfolk_terrier Brabancon_griffon Chihuahua Norwegian_elkhound Kelpie Kuvasz Newfoundland Kuvasz Dingo Flat-coated_retriever Cardigan Cocker_spaniel Golden_retriever Koala Golden_retriever Persian_cat Ibex Traffic_light Chihuahua Cocker_spaniel Clumber Beagle Cocker_spaniel Bath_towel Cardigan Pembroke Egyptian_cat American_staffordshire_terrier Ibizan_hound Appenzeller Toy_terrier Weimaraner Bathtub Golden_retriever Basenji Tibetan_mastiff Chow Greater_swiss_mountain_dog Vizsla Dingo Great_pyrenees Beagle Toy_poodle Newfoundland Kelpie Chow Chesapeake_bay_retriever German_short-haired_pointer Bull_mastiff Standard_poodle Chihuahua Chesapeake_bay_retriever Dalmatian Pomeranian Bloodhound Swab Dingo Television Beagle Labrador_retriever Entlebucher Book_jacket Malamute Chihuahua Muzzle Cardigan Printer Saint_bernard American_staffordshire_terrier Dalmatian Collie Malamute Pomeranian Curly-coated_retriever Pug Keeshond Labrador_retriever Weimaraner Basenji Wreck Staffordshire_bullterrier Tibetan_mastiff Weasel Siberian_husky Beagle Boxer German_shepherd Boxer Barber_chair Pekinese French_bulldog Bouvier_des_flandres Muzzle Beagle Lakeland_terrier Canoe Orangutan Hog Kuvasz Labrador_retriever Persian_cat Fountain Bloodhound Basenji Doormat Lakeland_terrier Golden_retriever Eskimo_dog Keeshond Saluki Chihuahua Cardigan Groenendael Japanese_spaniel Chow Labrador_retriever Chihuahua Bluetick Border_collie Rottweiler Kelpie Convertible English_foxhound Sussex_spaniel Rottweiler Go-kart File Entlebucher French_bulldog Crossword_puzzle Standard_poodle French_bulldog Shih-tzu Malinois Pembroke Bonnet Chihuahua Restaurant Sundial Groenendael Eskimo_dog Wallaby Otter Appenzeller Doormat Lakeland_terrier Pug Dingo Collie Norfolk_terrier Labrador_retriever Tibetan_mastiff White_wolf Newfoundland West_highland_white_terrier Curly-coated_retriever Chihuahua Beagle Printer Newfoundland Great_pyrenees Great_pyrenees Chihuahua Chihuahua Labrador_retriever Basenji Bull_mastiff Schipperke Pembroke Groenendael Bloodhound Clumber Envelope Labrador_retriever Coffeepot Kelpie Boston_bull Pembroke Saint_bernard Yorkshire_terrier Dalmatian Newfoundland Pomeranian Kuvasz Carton Seat_belt Dalmatian Malamute Toy_poodle Schipperke Snow_leopard Grand_piano Pembroke Malamute American_staffordshire_terrier Gordon_setter Meerkat Cardigan Staffordshire_bullterrier Irish_terrier Boston_bull Bathtub Redbone Labrador_retriever Water_buffalo Labrador_retriever Golden_retriever Pembroke Lakeland_terrier Tibetan_mastiff Shopping_cart Bull_mastiff Boston_bull Malamute Siamese_cat Staffordshire_bullterrier Pug Italian_greyhound Grey_fox Leonberg Appenzeller Norwegian_elkhound French_bulldog Guinea_pig Bouvier_des_flandres Labrador_retriever Doormat English_setter Pug Pekinese American_staffordshire_terrier Pug Pekinese Chesapeake_bay_retriever Gibbon Conch Polecat Ice_lolly Vizsla Standard_poodle American_staffordshire_terrier Clumber Chihuahua Tibetan_mastiff Boathouse Bull_mastiff Kelpie Saint_bernard Labrador_retriever Labrador_retriever Boxer Tennis_ball Pekinese Cougar Kelpie Boston_bull Soft-coated_wheaten_terrier Kuvasz Mousetrap English_setter Black-and-tan_coonhound Toy_poodle Malamute Airedale Irish_setter Basenji Doormat Labrador_retriever Norfolk_terrier Pembroke Papillon Pembroke Irish_terrier Staffordshire_bullterrier Norwich_terrier Kuvasz Maltese_dog Arctic_fox Irish_setter Saluki Miniature_pinscher Chesapeake_bay_retriever Irish_setter Yorkshire_terrier Tibetan_mastiff Labrador_retriever Samoyed Rottweiler Crane Italian_greyhound Tub Toy_poodle Shetland_sheepdog Doberman Norwegian_elkhound Umbrella Tibetan_terrier Grocery_store Beagle Bow Standard_schnauzer Redbone Pekinese Irish_water_spaniel Boston_bull Eskimo_dog Miniature_pinscher Chesapeake_bay_retriever Golden_retriever German_shepherd Siberian_husky Maltese_dog Nail Golden_retriever Papillon Staffordshire_bullterrier Otterhound Collie Malinois Paper_towel American_staffordshire_terrier Cocker_spaniel Soft-coated_wheaten_terrier Chow Norwegian_elkhound Boxer Eskimo_dog West_highland_white_terrier Labrador_retriever Saluki Cocker_spaniel Cardigan Italian_greyhound Siberian_husky Basenji Kelpie Miniature_pinscher Basenji Kuvasz French_bulldog Leonberg Bubble Great_dane Labrador_retriever Doormat Golden_retriever Wire-haired_fox_terrier Beagle Labrador_retriever Curly-coated_retriever Eskimo_dog Tibetan_mastiff Border_terrier Miniature_poodle English_springer Pembroke Labrador_retriever Kelpie Golden_retriever Irish_terrier Great_pyrenees American_staffordshire_terrier Chow Toy_terrier Welsh_springer_spaniel Cocker_spaniel Chesapeake_bay_retriever Eskimo_dog Leonberg Eskimo_dog Border_terrier Sundial Cardigan Leonberg Guillotine Irish_terrier Great_pyrenees File Golden_retriever Pomeranian Cocker_spaniel Entertainment_center Malamute Labrador_retriever Shetland_sheepdog Convertible English_setter Bluetick Toy_poodle Chihuahua Christmas_stocking Collie Labrador_retriever Barbell Shetland_sheepdog Toy_terrier Eskimo_dog Australian_terrier Malamute Norfolk_terrier Pomeranian Staffordshire_bullterrier Papillon Kelpie Pembroke Weimaraner Australian_terrier Siamese_cat Seat_belt Papillon Gibbon Doormat Soft-coated_wheaten_terrier Tennis_ball Swing Toy_poodle Great_pyrenees Brass Staffordshire_bullterrier Kerry_blue_terrier Toy_terrier Chesapeake_bay_retriever Doormat Pembroke Beagle Cocker_spaniel English_springer Boston_bull Chihuahua Airedale Doormat Standard_poodle Teddy Kuvasz Switch Standard_poodle Australian_terrier Miniature_poodle Tibetan_terrier Kuvasz Basenji Doberman Newfoundland Chow Appenzeller Kelpie Toy_terrier Curly-coated_retriever Golden_retriever Pomeranian Labrador_retriever Norwegian_elkhound Eskimo_dog Pembroke Golden_retriever Jigsaw_puzzle Brittany_spaniel Arctic_fox Chihuahua Limousine English_setter Kelpie Miniature_pinscher Dingo Labrador_retriever Chow Pomeranian Chow Saluki Staffordshire_bullterrier Chow Pekinese Echidna Rottweiler Chow Samoyed Irish_setter Siberian_husky Standard_poodle Three-toed_sloth Standard_poodle Australian_terrier Toy_terrier Keeshond Pembroke Boxer Labrador_retriever Clumber Seat_belt Eskimo_dog Lhasa Microwave Collie Labrador_retriever Seat_belt Border_collie Chain Kelpie Pembroke English_springer Tibetan_mastiff Bull_mastiff Hatchet Great_pyrenees Maze Cocker_spaniel Kelpie Chihuahua American_staffordshire_terrier Kelpie Lakeland_terrier Beagle Border_collie Muzzle Norwegian_elkhound Lhasa Siberian_husky Otterhound Pomeranian Hog Standard_poodle Paintbrush Keeshond Bloodhound Paddlewheel Menu French_bulldog Rhinoceros_beetle Menu Pembroke Pomeranian Lakeland_terrier Ibizan_hound Saluki Pug Chow Airedale Soft-coated_wheaten_terrier Malamute Shopping_basket Brabancon_griffon Welsh_springer_spaniel Wombat Beagle Saint_bernard Pekinese Vizsla Golden_retriever Italian_greyhound Shetland_sheepdog Border_collie Soccer_ball English_springer Tub Staffordshire_bullterrier Macaque Entlebucher Pomeranian Paper_towel Golden_retriever Whippet Staffordshire_bullterrier Staffordshire_bullterrier Kuvasz Cocker_spaniel Mousetrap Rottweiler Whippet Labrador_retriever Kelpie Cheetah Lakeside Chesapeake_bay_retriever Norfolk_terrier Pier Irish_terrier Bloodhound Rhodesian_ridgeback Norwegian_elkhound Cocker_spaniel Basset Brittany_spaniel Border_terrier Basset Shetland_sheepdog Kuvasz American_staffordshire_terrier Entlebucher Kelpie Keeshond Teddy Chow Dingo Toy_poodle Dhole Television Theater_curtain Staffordshire_bullterrier Lakeside Pool_table Doberman German_shepherd Miniature_poodle Boxer Labrador_retriever Borzoi Redbone Sea_lion West_highland_white_terrier Briard Crane Maraca Pug Otterhound Kuvasz Labrador_retriever Teddy White_wolf Siberian_husky Golden_retriever Komondor Weimaraner Curly-coated_retriever German_shepherd American_staffordshire_terrier Notebook Siamese_cat Bernese_mountain_dog Siberian_husky Siamese_cat Walker_hound Wool Tibetan_mastiff Rottweiler Ice_lolly Border_terrier Labrador_retriever Cardigan Fountain Labrador_retriever Tiger_cat Bloodhound Great_pyrenees Carton Great_pyrenees Cocker_spaniel Sliding_door Shower_curtain English_foxhound Pomeranian Boxer Italian_greyhound Rapeseed English_foxhound Tripod Siberian_husky Shetland_sheepdog Kelpie Siberian_husky Basset Eskimo_dog Wire-haired_fox_terrier Chihuahua Golden_retriever Siamese_cat Scottish_deerhound Snow_leopard Dingo Chow English_foxhound Golden_retriever Golden_retriever Seat_belt Basenji Titi Refrigerator Papillon French_bulldog Croquet_ball Pekinese Labrador_retriever Brabancon_griffon Miniature_pinscher Labrador_retriever Golden_retriever Toy_poodle Sombrero Soft-coated_wheaten_terrier Sunglass Blenheim_spaniel Collie Irish_water_spaniel Keeshond Buckeye Pekinese Samoyed English_setter English_setter Scuba_diver Kelpie Oxcart Soft-coated_wheaten_terrier Miniature_poodle Saluki Pembroke Mountain_tent Dingo Great_pyrenees Pug Chihuahua Shetland_sheepdog Labrador_retriever Chihuahua German_shepherd Ballplayer Collie Rain_barrel Doormat Italian_greyhound Cardigan Seat_belt Affenpinscher Wallaby Norwich_terrier Borzoi Cocker_spaniel Minibus Wok Ice_bear Fountain Border_collie Tibetan_terrier Miniature_poodle Collie White_wolf Whippet Pug German_short-haired_pointer Great_dane Warthog Great_pyrenees Hippopotamus Eskimo_dog Golden_retriever Labrador_retriever Snorkel Desktop_computer French_bulldog Appenzeller Parachute Hog Labrador_retriever Chesapeake_bay_retriever Vizsla Pekinese Kelpie Siberian_husky Persian_cat Barrow Siamese_cat Labrador_retriever Mushroom Labrador_retriever Vizsla Toy_poodle Vizsla Miniature_poodle Brittany_spaniel Ice_bear Beagle Malamute American_staffordshire_terrier Chesapeake_bay_retriever Pembroke Chihuahua Great_pyrenees Malamute Bathtub Chesapeake_bay_retriever Limousine Chihuahua Maltese_dog Park_bench Valley Labrador_retriever Consomme Cocker_spaniel Bluetick Soft-coated_wheaten_terrier Cardigan Fur_coat Quilt Doormat English_foxhound Old_english_sheepdog Labrador_retriever Malamute Saint_bernard Tibetan_terrier Mouse Dhole Doormat Mongoose Chow Miniature_pinscher Golden_retriever Cocker_spaniel Chihuahua King_penguin Newfoundland Weimaraner Staffordshire_bullterrier German_shepherd Toilet_seat Passenger_car Coyote Basenji Bannister Miniature_poodle Chihuahua Borzoi Rotisserie King_penguin Keeshond German_shepherd Shih-tzu Sandbar Eskimo_dog Labrador_retriever Chow Tibetan_terrier Chihuahua Labrador_retriever Lakeland_terrier Chesapeake_bay_retriever Labrador_retriever Bucket Chesapeake_bay_retriever Kuvasz French_bulldog Cocker_spaniel English_setter Feather_boa Shetland_sheepdog Great_dane Quilt Chow Irish_terrier Hand_blower Norwegian_elkhound Weimaraner Chow Pekinese Tub Kelpie Giant_schnauzer American_black_bear Eskimo_dog Viaduct Italian_greyhound White_wolf Labrador_retriever Bathtub Eskimo_dog Tibetan_terrier Leonberg Norfolk_terrier Labrador_retriever Toilet_tissue Persian_cat Chesapeake_bay_retriever Cairn Kelpie Chime Siberian_husky Eskimo_dog Bath_towel Cab Kuvasz Beagle Cocker_spaniel Malamute Bull_mastiff Golden_retriever Eskimo_dog Cairn Tibetan_mastiff Bull_mastiff Toy_poodle French_bulldog Chow Padlock Lakeland_terrier Boston_bull Labrador_retriever Cardigan Ibizan_hound Kuvasz Black-footed_ferret Golden_retriever Beagle Great_pyrenees German_shepherd Redbone Malamute Irish_setter Welsh_springer_spaniel Kuvasz Great_dane Siberian_husky Pug Irish_wolfhound Chihuahua Labrador_retriever Chesapeake_bay_retriever Three-toed_sloth Lhasa Pizza Cup Standard_poodle Eskimo_dog Water_buffalo Neck_brace Basenji Dandie_dinmont Pug Pembroke Basenji German_shepherd Cairn Malamute Tibetan_terrier Lakeland_terrier Labrador_retriever Cocker_spaniel Japanese_spaniel Cocker_spaniel Chihuahua Umbrella West_highland_white_terrier Australian_terrier Labrador_retriever Flat-coated_retriever Norfolk_terrier Keeshond Golden_retriever Quilt English_setter Labrador_retriever Labrador_retriever Boston_bull Malamute Norfolk_terrier West_highland_white_terrier Labrador_retriever Norfolk_terrier Pembroke Bath_towel Boston_bull Toy_terrier Cardigan Chow Kelpie Siamese_cat Lumbermill Teddy Chihuahua American_staffordshire_terrier Washbasin Chesapeake_bay_retriever Great_pyrenees Giant_schnauzer Toy_terrier Cocker_spaniel Appenzeller Black-footed_ferret Kuvasz French_bulldog Pekinese Toy_terrier Warthog Norwich_terrier Cougar Pillow Pomeranian Golfcart Appenzeller Bloodhound Staffordshire_bullterrier Saint_bernard Great_pyrenees Bull_mastiff Chow Groenendael Miniature_pinscher Tennis_ball Seat_belt Pembroke Mexican_hairless Mexican_hairless Pomeranian Otterhound Mitten Tibetan_mastiff Wood_rabbit Basenji Labrador_retriever Arctic_fox Chihuahua Brittany_spaniel Sea_lion Golden_retriever Curly-coated_retriever Bull_mastiff Brass Cardigan Carton Tibetan_mastiff English_springer Kuvasz Cardigan Sea_lion Beaver Brittany_spaniel Clumber Siamese_cat Silky_terrier Old_english_sheepdog American_staffordshire_terrier Cocker_spaniel Yorkshire_terrier Standard_poodle Soap_dispenser Toy_terrier Australian_terrier Toy_terrier Basenji West_highland_white_terrier Samoyed Whippet Bullfrog Maltese_dog Chihuahua Great_dane Angora Siberian_husky Staffordshire_bullterrier Binder Eel Dandie_dinmont Pug Labrador_retriever Norwegian_elkhound Great_dane Otterhound Dugong Chihuahua Labrador_retriever Bull_mastiff Eskimo_dog Border_terrier Sliding_door Common_iguana Kelpie Maltese_dog Weimaraner Golden_retriever Shower_cap Curly-coated_retriever Prison Beagle West_highland_white_terrier Boxer Sunglasses Staffordshire_bullterrier Staffordshire_bullterrier Dalmatian Labrador_retriever American_staffordshire_terrier Shetland_sheepdog German_short-haired_pointer Toilet_tissue Tibetan_terrier Pembroke Bull_mastiff Weasel Pug Norfolk_terrier Whippet Doberman Eskimo_dog Basenji Greater_swiss_mountain_dog Dingo Vacuum Scottish_deerhound Vizsla Giant_schnauzer Great_pyrenees Sunglasses White_wolf West_highland_white_terrier Pembroke Pekinese Pekinese Border_collie Lhasa Ice_lolly Chihuahua Black-footed_ferret Marmot Silky_terrier Saint_bernard Maltese_dog Shih-tzu Chihuahua Schipperke Bathtub German_short-haired_pointer Boston_bull Eskimo_dog Siamese_cat Black-footed_ferret Box_turtle Kuvasz Rhodesian_ridgeback Tibetan_terrier Golden_retriever Yorkshire_terrier Boxer Rhodesian_ridgeback Golden_retriever Basset White_wolf Eskimo_dog Pekinese Chihuahua White_wolf Polecat Eskimo_dog Toy_poodle Bow_tie Limousine Pembroke West_highland_white_terrier Gordon_setter Border_collie Entlebucher Airedale Kelpie Arabian_camel Bathtub Saluki Beacon Scuba_diver Kuvasz Great_pyrenees Maltese_dog Mexican_hairless Sunglasses Shetland_sheepdog Ice_bear Brabancon_griffon Pickup Malamute Eskimo_dog Teddy Pug Sombrero Chow Lakeland_terrier Borzoi Chihuahua Goose Labrador_retriever Chihuahua Dingo Papillon Rifle Cairn Staffordshire_bullterrier Doberman Airedale Welsh_springer_spaniel Pomeranian Bell_cote Italian_greyhound Hamster Toilet_tissue Saluki Bull_mastiff Border_collie Shetland_sheepdog Sombrero Shoji Arabian_camel Staffordshire_bullterrier Siberian_husky Keeshond Toy_poodle American_staffordshire_terrier Chihuahua Toy_poodle Tibetan_mastiff Brittany_spaniel Hare French_bulldog Lhasa Weimaraner Shih-tzu Beagle Saluki Rock_crab German_short-haired_pointer Ice_bear Bagel Golden_retriever Golden_retriever Gordon_setter Saluki Australian_terrier Bloodhound Boxer Pekinese Greater_swiss_mountain_dog Seat_belt Whiptail Malamute Cardigan Pekinese Washbasin Racket Three-toed_sloth Hand-held_computer Collie Kuvasz Boxer Eskimo_dog Keeshond Bull_mastiff Old_english_sheepdog Entlebucher Hog Old_english_sheepdog Lion Labrador_retriever Dingo Agama West_highland_white_terrier Brittany_spaniel Seat_belt Polecat American_staffordshire_terrier Weasel Teddy Hog Boston_bull Staffordshire_bullterrier Golden_retriever Jaguar Chesapeake_bay_retriever Beagle Miniature_poodle Wild_boar Samoyed Eskimo_dog Schipperke Cocker_spaniel Lakeland_terrier German_shepherd German_short-haired_pointer Golden_retriever Pug Siberian_husky German_shepherd Miniature_schnauzer Labrador_retriever Wallaby French_bulldog Loupe Teddy Brittany_spaniel Cliff Basset Border_collie Mexican_hairless Beaver Rhodesian_ridgeback Great_dane Airedale Malamute Scuba_diver Pizza Toyshop Miniature_pinscher Mask Beagle Toy_terrier Maltese_dog Pot Pekinese Yorkshire_terrier Staffordshire_bullterrier Chow Kuvasz Siberian_husky Axolotl Pomeranian Great_pyrenees Maltese_dog Assault_rifle Airedale Schipperke Quilt Pug Toy_poodle Beagle Chihuahua Pomeranian Pomeranian Staffordshire_bullterrier Ox American_staffordshire_terrier Hippopotamus Ski_mask Great_pyrenees Norwich_terrier Electric_fan Abaya Teddy English_springer Feather_boa English_setter Maltese_dog Shih-tzu Boston_bull Pomeranian Wallet Bubble Pomeranian Lumbermill Appenzeller Chow Toy_poodle Toy_terrier French_bulldog Cardigan Ashcan French_bulldog Zebra Cuirass Squirrel_monkey Echidna West_highland_white_terrier Soft-coated_wheaten_terrier Bath_towel Afghan_hound Giant_schnauzer Basset German_shepherd Golden_retriever Chihuahua Golden_retriever Airedale Lakeland_terrier Pomeranian Mosquito_net Irish_setter Collie Beagle Sundial Chest American_staffordshire_terrier Shih-tzu Kelpie Great_pyrenees Chihuahua Vizsla Samoyed Labrador_retriever Kelpie Tibetan_terrier Pomeranian Rottweiler American_staffordshire_terrier Great_pyrenees Chow Malamute Pekinese Golden_retriever Pomeranian Cloak Swing Parallel_bars Purse Pekinese Boxer American_staffordshire_terrier Irish_water_spaniel French_bulldog Staffordshire_bullterrier Chihuahua Chihuahua German_shepherd Green_lizard Old_english_sheepdog Eskimo_dog Golden_retriever Boxer Squirrel_monkey Great_pyrenees Weasel Space_heater Macaque Weimaraner Standard_poodle Labrador_retriever Cocker_spaniel Microwave Pekinese Miniature_pinscher Malinois Boxer Chihuahua French_bulldog Shetland_sheepdog Fur_coat French_bulldog Dingo Shih-tzu Labrador_retriever Shopping_basket Boston_bull Whippet Broccoli Muzzle Greenhouse Irish_terrier Purse American_staffordshire_terrier Pug Great_dane Komondor Cardigan Vizsla French_bulldog Pekinese Bloodhound Boxer Toy_poodle Saluki Sealyham_terrier Cocker_spaniel Newfoundland Siberian_husky Irish_setter Flat-coated_retriever French_loaf Rhodesian_ridgeback Old_english_sheepdog Loggerhead Chihuahua Samoyed Kuvasz Brittany_spaniel Chow Teddy Seat_belt Tibetan_terrier Flat-coated_retriever Pembroke Staffordshire_bullterrier Microwave Joystick Chesapeake_bay_retriever German_short-haired_pointer Pomeranian Sandbar Beagle Cardigan Welsh_springer_spaniel Dingo Rottweiler Maltese_dog Wool Siamese_cat Kimono Kuvasz Basset Greater_swiss_mountain_dog Toy_poodle Chihuahua Screw Siberian_husky Mink Labrador_retriever Cocker_spaniel Keeshond Coral_reef Toy_poodle Bull_mastiff Lhasa Tennis_ball Whippet Beagle Lakeland_terrier Sandbar Echidna Chihuahua Bloodhound Cardigan Leafhopper Staffordshire_bullterrier Malamute Ski_mask Lakeland_terrier Swab Kelpie Three-toed_sloth European_fire_salamander Standard_poodle Malamute Maltese_dog Persian_cat Shetland_sheepdog Eskimo_dog Quill Chihuahua Miniature_pinscher Siberian_husky Golden_retriever Windsor_tie Sealyham_terrier Kelpie Labrador_retriever Labrador_retriever Yorkshire_terrier Bucket Doormat Seat_belt Kuvasz Pug Chow Golden_retriever Brabancon_griffon Pug Shovel Borzoi Walker_hound Pajama Bison Ibizan_hound Appenzeller Kuvasz Maltese_dog Pomeranian Miniature_pinscher Kelpie Eskimo_dog Rottweiler Great_pyrenees Old_english_sheepdog Chesapeake_bay_retriever Kelpie Toilet_seat Koala Boston_bull Wire-haired_fox_terrier Wallaby Beagle French_bulldog Crayfish Airedale French_bulldog Arabian_camel Moped Water_buffalo Borzoi Nipple Seashore Labrador_retriever Clumber Sea_cucumber Television Toilet_tissue Afghan_hound Golden_retriever Bassinet Giant_panda Irish_terrier Appenzeller Great_pyrenees Shetland_sheepdog Box_turtle Welsh_springer_spaniel Siamese_cat Airedale Norwich_terrier Llama Norwegian_elkhound Toy_poodle Toy_terrier Bull_mastiff Hammerhead Italian_greyhound Pug Miniature_poodle Labrador_retriever Chimpanzee Racket Bull_mastiff Bubble Border_terrier Pomeranian Seat_belt Abaya Chickadee Bookcase Golden_retriever Fountain Steam_locomotive Italian_greyhound Bib Arctic_fox Swing Poncho Rottweiler Cowboy_boot Wool Papillon Beacon French_bulldog Black_swan Gordon_setter Gibbon Toy_poodle Snail Maltese_dog Bathing_cap Shower_curtain Red_wolf Kuvasz Prairie_chicken Swimming_trunks Chihuahua Irish_terrier Plastic_bag Toy_terrier Appenzeller Shower_curtain Scottish_deerhound Mask Golden_retriever Kelpie Silky_terrier Borzoi Pekinese Labrador_retriever Hen Dingo Toy_terrier Rhodesian_ridgeback Drumstick Guinea_pig Stinkhorn Japanese_spaniel Bathing_cap Wolf_spider Weimaraner Menu Bull_mastiff Beagle Border_collie Chow Toy_terrier German_shepherd Miniature_poodle Bluetick Cardigan Leafhopper Boston_bull Brown_bear Boxer Television Cairn Wood_rabbit Egyptian_cat Golden_retriever Norfolk_terrier American_staffordshire_terrier Chihuahua Clumber Bagel Gorilla Car_wheel Common_newt Malamute Agama Welsh_springer_spaniel Irish_terrier Cardigan Labrador_retriever Window_screen Tibetan_mastiff Beagle Bolete Wig Cardoon Toy_poodle Racket Bull_mastiff Beagle Cocker_spaniel Bison Miniature_schnauzer Soft-coated_wheaten_terrier Guinea_pig Papillon Chow Bluetick Box_turtle Eskimo_dog Ashcan Whippet Bolete Brittany_spaniel Chihuahua Doormat English_foxhound Toy_poodle Fur_coat Doberman Rhodesian_ridgeback Papillon Wing Shetland_sheepdog Paper_towel Pekinese Bookcase Labrador_retriever Hamster Labrador_retriever Shih-tzu White_wolf Plunger Cairn Beach_wagon Miniature_pinscher Standard_poodle Toy_poodle Lakeland_terrier Redbone Welsh_springer_spaniel Cocker_spaniel Chesapeake_bay_retriever Pekinese Bulletproof_vest Malamute Kuvasz Sandbar Saluki Minibus Chihuahua Chow Jersey Pillow Basenji French_bulldog Koala Chihuahua Llama Norfolk_terrier Goldfish Redbone Saint_bernard Bathtub Soft-coated_wheaten_terrier Toy_poodle Blenheim_spaniel Cardigan Miniature_schnauzer Kuvasz Rhodesian_ridgeback Miniature_pinscher Black-footed_ferret Basenji Balance_beam Sandbar Toilet_tissue Ram Japanese_spaniel Silky_terrier Boston_bull Angora Titi Mouse Crane Pekinese Panpipe Staffordshire_bullterrier Chihuahua English_setter Whippet American_staffordshire_terrier Afghan_hound Pug Bassinet Eskimo_dog Badger Cardigan Toy_poodle Basenji Pembroke Toy_terrier Pekinese French_horn Labrador_retriever Chesapeake_bay_retriever Welsh_springer_spaniel Giant_panda White_wolf Wood_rabbit Collie Band_aid Newfoundland Terrapin Triceratops Eskimo_dog Chihuahua Muzzle Schipperke African_chameleon Doormat Eskimo_dog Chihuahua Brabancon_griffon Curly-coated_retriever Great_dane African_grey Ice_bear Jeep Labrador_retriever Ram Lampshade Teddy Chihuahua Australian_terrier Cocker_spaniel Labrador_retriever Chesapeake_bay_retriever Cocker_spaniel Golden_retriever Beagle Ski_mask Weasel Lakeland_terrier Yorkshire_terrier Staffordshire_bullterrier Hen Badger Black-and-tan_coonhound Golden_retriever Collie Christmas_stocking Kuvasz Eskimo_dog Black-and-tan_coonhound Toilet_tissue Chesapeake_bay_retriever Weimaraner Toy_poodle Bluetick Irish_water_spaniel Beagle Standard_poodle Miniature_poodle Toy_poodle Toy_poodle Pomeranian Brabancon_griffon Space_heater Kelpie Seat_belt Coyote Water_buffalo Wig Common_iguana Teddy West_highland_white_terrier Giant_schnauzer Ibizan_hound Acorn Vizsla Chihuahua Toy_poodle French_bulldog Bloodhound Collie West_highland_white_terrier Great_pyrenees Labrador_retriever Saluki Power_drill Dingo Pomeranian Shih-tzu Chihuahua Gar Flat-coated_retriever Papillon Briard Hamster Eskimo_dog Labrador_retriever Groenendael Great_grey_owl Miniature_poodle Basenji Bookcase Partridge Borzoi Dandie_dinmont Malinois French_bulldog Ibizan_hound Pekinese Labrador_retriever Soft-coated_wheaten_terrier Golden_retriever Fur_coat Terrapin Greater_swiss_mountain_dog Doberman Miniature_pinscher Bloodhound Rhodesian_ridgeback Shetland_sheepdog\""
      ]
     },
     "execution_count": 127,
     "metadata": {},
     "output_type": "execute_result"
    }
   ],
   "source": [
    "#Combining all breeds\n",
    "\n",
    "total_pred_breed = total_pred_breed1 + total_pred_breed2 + total_pred_breed3\n",
    "total_pred_breed"
   ]
  },
  {
   "cell_type": "code",
   "execution_count": 128,
   "metadata": {},
   "outputs": [
    {
     "data": {
      "image/png": "[encoded data removed]",
      "text/plain": [
       "<Figure size 432x288 with 1 Axes>"
      ]
     },
     "metadata": {
      "needs_background": "light"
     },
     "output_type": "display_data"
    }
   ],
   "source": [
    "# Generate a word cloud image\n",
    "wordcloud_breed = WordCloud(background_color=\"white\").generate(total_pred_breed)\n",
    "\n",
    "# Display the generated image:\n",
    "# the matplotlib way:\n",
    "plt.imshow(wordcloud_breed, interpolation='bilinear')\n",
    "plt.title('Most popular of dog breed')\n",
    "plt.axis(\"off\")\n",
    "plt.savefig('freq_dog_breeds.png', dpi=150, bbox_inches = 'tight');\n",
    "plt.show()"
   ]
  },
  {
   "cell_type": "code",
   "execution_count": null,
   "metadata": {},
   "outputs": [],
   "source": []
  },
  {
   "cell_type": "code",
   "execution_count": null,
   "metadata": {},
   "outputs": [],
   "source": []
  },
  {
   "cell_type": "code",
   "execution_count": null,
   "metadata": {},
   "outputs": [],
   "source": []
  },
  {
   "cell_type": "markdown",
   "metadata": {},
   "source": [
    "### Insights:\n",
    "1. Charlie is most frequent name given to dogs in the dataset\n",
    "\n",
    "2. Accross the three different predicted dog breeds, Golden_retriever and Labrador_retriever seems to be the most predicted dog breed\n",
    "\n",
    "3. Pupper seems to be the most liked dog stage"
   ]
  },
  {
   "cell_type": "code",
   "execution_count": null,
   "metadata": {},
   "outputs": [],
   "source": []
  },
  {
   "cell_type": "code",
   "execution_count": null,
   "metadata": {},
   "outputs": [],
   "source": []
  },
  {
   "cell_type": "code",
   "execution_count": null,
   "metadata": {},
   "outputs": [],
   "source": []
  },
  {
   "cell_type": "code",
   "execution_count": null,
   "metadata": {},
   "outputs": [],
   "source": []
  },
  {
   "cell_type": "code",
   "execution_count": null,
   "metadata": {},
   "outputs": [],
   "source": []
  }
 ],
 "metadata": {
  "extensions": {
   "jupyter_dashboards": {
    "activeView": "report_default",
    "version": 1,
    "views": {
     "grid_default": {
      "cellMargin": 10,
      "defaultCellHeight": 20,
      "maxColumns": 12,
      "name": "grid",
      "type": "grid"
     },
     "report_default": {
      "name": "report",
      "type": "report"
     }
    }
   }
  },
  "kernelspec": {
   "display_name": "Python 3 (ipykernel)",
   "language": "python",
   "name": "python3"
  },
  "language_info": {
   "codemirror_mode": {
    "name": "ipython",
    "version": 3
   },
   "file_extension": ".py",
   "mimetype": "text/x-python",
   "name": "python",
   "nbconvert_exporter": "python",
   "pygments_lexer": "ipython3",
   "version": "3.10.4"
  }
 },
 "nbformat": 4,
 "nbformat_minor": 2
}
